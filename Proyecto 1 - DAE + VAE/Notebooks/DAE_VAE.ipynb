{
  "nbformat": 4,
  "nbformat_minor": 0,
  "metadata": {
    "colab": {
      "provenance": [],
      "machine_shape": "hm",
      "gpuType": "A100",
      "include_colab_link": true
    },
    "kernelspec": {
      "name": "python3",
      "display_name": "Python 3"
    },
    "language_info": {
      "name": "python"
    },
    "accelerator": "GPU"
  },
  "cells": [
    {
      "cell_type": "markdown",
      "metadata": {
        "id": "view-in-github",
        "colab_type": "text"
      },
      "source": [
        "<a href=\"https://colab.research.google.com/github/arturotowers/Deep_learning/blob/DiegoMercado/Proyecto%201%20-%20DAE%20%2B%20VAE/Notebooks/DAE_VAE.ipynb\" target=\"_parent\"><img src=\"https://colab.research.google.com/assets/colab-badge.svg\" alt=\"Open In Colab\"/></a>"
      ]
    },
    {
      "cell_type": "code",
      "source": [
        "from google.colab import drive\n",
        "drive.mount('/content/drive')"
      ],
      "metadata": {
        "colab": {
          "base_uri": "https://localhost:8080/"
        },
        "id": "s6DnauKNxP4r",
        "outputId": "3e85911c-28ba-4968-ef35-55b4321b75df"
      },
      "execution_count": 1,
      "outputs": [
        {
          "output_type": "stream",
          "name": "stdout",
          "text": [
            "Drive already mounted at /content/drive; to attempt to forcibly remount, call drive.mount(\"/content/drive\", force_remount=True).\n"
          ]
        }
      ]
    },
    {
      "cell_type": "markdown",
      "source": [
        "Voy a desarrollar el resto del proyecto siguiendo la estructura especificada en un único notebook. Implementaré:\n",
        "\n",
        "1. **Denoising Autoencoder (DAE)**:\n",
        "   - Arquitectura convolucional profunda adaptada al dataset.\n",
        "   - Agregado de ruido Gaussiano y Sal & Pimienta.\n",
        "   - Entrenamiento en GPU con reducción de memoria.\n",
        "   - Tracking en Weights & Biases (W&B).\n",
        "\n",
        "2. **Variational Autoencoder (VAE)**:\n",
        "   - Arquitectura optimizada para generación de imágenes.\n",
        "   - Evaluación con la métrica personalizada MVD (Mean and Variance Distance).\n",
        "   - Optimización para Google Colab.\n",
        "   - Tracking en W&B con API key.\n",
        "\n",
        "3. **Demo Interactivo**:\n",
        "   - Implementación de Gradio.\n",
        "   - Despliegue automatizado en Hugging Face Spaces con autenticación.\n",
        "\n",
        "4. **Automatización Completa**:\n",
        "   - Implementación de reducción de memoria.\n",
        "   - Uso de W&B para gestión de logs y modelos.\n",
        "   - Pipeline optimizado para ejecución eficiente en GPU.\n",
        "\n",
        "Voy a desarrollar el código completo y lo compartiré contigo listo para copiar y ejecutar en Colab.\n",
        "\n",
        "# Proyecto: Autoencoders para Imágenes de Motos y Automóviles\n",
        "\n",
        "En este notebook desarrollamos un proyecto completo de Deep Learning que abarca desde la recopilación de datos hasta la implementación de modelos de autoencoder (DAE y VAE), incluyendo seguimiento de entrenamiento con Weights & Biases, una demo interactiva con Gradio y recomendaciones para optimización en Colab. Las secciones incluidas son:\n",
        "\n",
        "## 1. Creación del Dataset\n",
        "En esta sección obtenemos un conjunto de datos de imágenes de **motocicletas** y **automóviles** mediante web scraping. Luego realizamos el preprocesamiento necesario (redimensionamiento, normalización y conversión opcional a escala de grises) y finalmente dividimos el dataset en conjuntos de entrenamiento, validación y prueba.\n",
        "\n",
        "### 1.1 Web Scraping de Imágenes\n",
        "Para recopilar las imágenes de motos y autos, utilizamos **web scraping**. Emplearemos una librería Python para descargar imágenes de motores de búsqueda de forma automática. En este caso usaremos `bing-image-downloader` para descargar imágenes de Bing según palabras clave.\n"
      ],
      "metadata": {
        "id": "7o3k-vWSxB8Z"
      }
    },
    {
      "cell_type": "code",
      "source": [
        "#!pip install bing-image-downloader"
      ],
      "metadata": {
        "id": "0qjZNB3_yAl7"
      },
      "execution_count": 2,
      "outputs": []
    },
    {
      "cell_type": "code",
      "source": [
        "# import os\n",
        "# from bing_image_downloader import downloader\n",
        "\n",
        "# # Definir directorio base para las imágenes descargadas\n",
        "# output_dir = \"dataset\"\n",
        "\n",
        "# # Crear directorio si no existe\n",
        "# os.makedirs(output_dir, exist_ok=True)\n",
        "\n",
        "# # Descargar imágenes de motocicletas y automóviles (100 de cada una como ejemplo)\n",
        "# downloader.download(\"motorcycle\", limit=100, output_dir=output_dir, adult_filter_off=True, force_replace=False, timeout=60)\n",
        "# downloader.download(\"car\", limit=100, output_dir=output_dir, adult_filter_off=True, force_replace=False, timeout=60)"
      ],
      "metadata": {
        "id": "LB5GSu2kyIFI"
      },
      "execution_count": 3,
      "outputs": []
    },
    {
      "cell_type": "markdown",
      "source": [
        "**Notas:**  \n",
        "- Hemos descargado aproximadamente 100 imágenes por categoría (puedes ajustar el parámetro `limit` según la necesidad).  \n",
        "- El directorio de salida (`dataset`) contendrá subcarpetas llamadas \"motorcycle\" y \"car\" con las imágenes correspondientes.  \n",
        "- `adult_filter_off=True` desactiva el filtro de contenido para evitar restricciones en los resultados.  \n",
        "- `force_replace=False` impide sobreescribir si ya existían imágenes descargadas previamente.  \n"
      ],
      "metadata": {
        "id": "4PUbd-PlyIQW"
      }
    },
    {
      "cell_type": "markdown",
      "source": [
        "### 1.2 Preprocesamiento de Imágenes\n",
        "Una vez descargadas las imágenes, debemos preprocesarlas antes de alimentar a nuestros modelos. Los pasos incluyen: **redimensionar** todas las imágenes a un tamaño uniforme, **normalizar** los valores de píxel (por ejemplo a rango [0,1]) y opcionalmente convertir a **escala de grises** si se desea trabajar con un solo canal (en este proyecto usaremos imágenes RGB a color).\n",
        "\n",
        "Definiremos una función de utilidad para cargar y preprocesar una imagen dada su ruta de archivo:\n"
      ],
      "metadata": {
        "id": "s7Ci2uZSyTP5"
      }
    },
    {
      "cell_type": "code",
      "source": [
        "from PIL import Image\n",
        "import numpy as np\n",
        "\n",
        "IMG_SIZE = 64  # Tamaño deseado para las imágenes (64x64 píxeles)\n",
        "\n",
        "def preprocess_image(image_path, img_size=IMG_SIZE, grayscale=False):\n",
        "    \"\"\"\n",
        "    Carga una imagen desde image_path, la redimensiona a img_size x img_size,\n",
        "    la convierte a RGB o escala de grises según el parámetro, y la normaliza a [0,1].\n",
        "    Retorna la imagen como arreglo numpy.\n",
        "    \"\"\"\n",
        "    img = Image.open(image_path)\n",
        "    # Convertir a escala de grises o RGB\n",
        "    if grayscale:\n",
        "        img = img.convert(\"L\")\n",
        "    else:\n",
        "        img = img.convert(\"RGB\")\n",
        "    # Redimensionar la imagen\n",
        "    img = img.resize((img_size, img_size))\n",
        "    # Convertir a array numpy\n",
        "    img_array = np.array(img, dtype=np.float32)\n",
        "    # Si es gris, añadir dimensión de canal\n",
        "    if grayscale:\n",
        "        img_array = np.expand_dims(img_array, axis=-1)\n",
        "    # Normalizar a rango [0,1]\n",
        "    img_array /= 255.0\n",
        "    return img_array"
      ],
      "metadata": {
        "id": "SjWhwHIIyYEa"
      },
      "execution_count": 4,
      "outputs": []
    },
    {
      "cell_type": "markdown",
      "source": [
        "on esta función, podemos cargar todas las imágenes descargadas y preprocesarlas.\n",
        "\n",
        "### 1.3 Distribución de datos en `train`, `validation` y `test`\n",
        "Ahora dividiremos las imágenes en conjuntos de **entrenamiento**, **validación** y **prueba**. Usaremos una proporción típica: 70% entrenamiento, 15% validación y 15% prueba. Además, mezclaremos las clases equitativamente en cada conjunto para asegurar balance.\n"
      ],
      "metadata": {
        "id": "86pwsAEHybS4"
      }
    },
    {
      "cell_type": "code",
      "source": [
        "import os\n",
        "import glob\n",
        "import random\n",
        "import numpy as np\n",
        "\n",
        "# Rutas completas de tus carpetas en Drive\n",
        "folder1 = \"/content/drive/MyDrive/ITESO/6-semestre/DeepLearning/Proyecto_DAE-VAE/Data/car -motorcycle -bike -bicycle -truck -trucks -bus -site_pinterest.com - Buscar con Google\"\n",
        "folder2 = \"/content/drive/MyDrive/ITESO/6-semestre/DeepLearning/Proyecto_DAE-VAE/Data/car -motorcycle -bike -bicycle -truck -trucks -bus -site_pinterest.com - Buscar con Google\"\n",
        "\n",
        "# Obtener rutas de las imágenes en cada carpeta\n",
        "paths1 = glob.glob(os.path.join(folder1, \"*\"))\n",
        "paths2 = glob.glob(os.path.join(folder2, \"*\"))\n",
        "\n",
        "# Mezclar aleatoriamente las rutas dentro de cada carpeta\n",
        "random.shuffle(paths1)\n",
        "random.shuffle(paths2)\n",
        "\n",
        "# Dividir cada carpeta en train/val/test (70% train, 15% val, 15% test)\n",
        "num_paths1 = len(paths1)\n",
        "num_paths2 = len(paths2)\n",
        "\n",
        "train_paths1 = paths1[:int(0.7 * num_paths1)]\n",
        "val_paths1   = paths1[int(0.7 * num_paths1):int(0.85 * num_paths1)]\n",
        "test_paths1  = paths1[int(0.85 * num_paths1):]\n",
        "\n",
        "train_paths2 = paths2[:int(0.7 * num_paths2)]\n",
        "val_paths2   = paths2[int(0.7 * num_paths2):int(0.85 * num_paths2)]\n",
        "test_paths2  = paths2[int(0.85 * num_paths2):]\n",
        "\n",
        "# Unir las rutas de ambas carpetas para formar los conjuntos completos\n",
        "train_paths = train_paths1 + train_paths2\n",
        "val_paths   = val_paths1   + val_paths2\n",
        "test_paths  = test_paths1  + test_paths2\n",
        "\n",
        "# Mezclar cada conjunto combinado para aleatorizar el orden\n",
        "random.shuffle(train_paths)\n",
        "random.shuffle(val_paths)\n",
        "random.shuffle(test_paths)\n",
        "\n",
        "# Preprocesar las imágenes y obtener los arrays de datos\n",
        "X_train = np.array([preprocess_image(p, img_size=IMG_SIZE) for p in train_paths])\n",
        "X_val   = np.array([preprocess_image(p, img_size=IMG_SIZE) for p in val_paths])\n",
        "X_test  = np.array([preprocess_image(p, img_size=IMG_SIZE) for p in test_paths])\n",
        "\n",
        "print(\"Tamaño del conjunto de entrenamiento:\", X_train.shape)\n",
        "print(\"Tamaño del conjunto de validación:\", X_val.shape)\n",
        "print(\"Tamaño del conjunto de prueba:\", X_test.shape)"
      ],
      "metadata": {
        "colab": {
          "base_uri": "https://localhost:8080/"
        },
        "id": "TDCIdaIE8biE",
        "outputId": "eb4c0b27-d870-4cc1-8540-5ee9a4df4606"
      },
      "execution_count": 5,
      "outputs": [
        {
          "output_type": "stream",
          "name": "stderr",
          "text": [
            "/usr/local/lib/python3.11/dist-packages/PIL/Image.py:1045: UserWarning: Palette images with Transparency expressed in bytes should be converted to RGBA images\n",
            "  warnings.warn(\n"
          ]
        },
        {
          "output_type": "stream",
          "name": "stdout",
          "text": [
            "Tamaño del conjunto de entrenamiento: (140, 64, 64, 3)\n",
            "Tamaño del conjunto de validación: (30, 64, 64, 3)\n",
            "Tamaño del conjunto de prueba: (30, 64, 64, 3)\n"
          ]
        }
      ]
    },
    {
      "cell_type": "code",
      "source": [],
      "metadata": {
        "id": "VDJu8HMR8euj"
      },
      "execution_count": 5,
      "outputs": []
    },
    {
      "cell_type": "code",
      "source": [],
      "metadata": {
        "id": "_IFlJaL6yg0v"
      },
      "execution_count": 5,
      "outputs": []
    },
    {
      "cell_type": "markdown",
      "source": [
        "Al final de esta etapa, tendremos tres conjuntos de datos listos:\n",
        "- **X_train**: imágenes para entrenamiento del modelo.\n",
        "- **X_val**: imágenes para validación durante el entrenamiento (para tuning de hiperparámetros y evitar sobreajuste).\n",
        "- **X_test**: imágenes reservadas para evaluar el desempeño final de los modelos.\n",
        "\n",
        "*(En un caso de uso real, también guardaríamos las etiquetas de clase si fuera un problema supervisado, pero en este proyecto de autoencoders las etiquetas no son necesarias porque se trata de aprendizaje no supervisado.)*\n"
      ],
      "metadata": {
        "id": "BLxWfUbNynYN"
      }
    },
    {
      "cell_type": "markdown",
      "source": [
        "\n",
        "## 2. Denoising Autoencoder (DAE)\n",
        "En esta sección implementamos un **Autoencoder Denoisificador**. Se trata de un autoencoder convolucional profundo capaz de eliminar ruido de imágenes. Entrenaremos el modelo usando las imágenes de entrenamiento a las que les agregaremos ruido (Gaussiano y Sal&Pimienta) para que el autoencoder aprenda a reconstruir la imagen original limpia. Además, aprovecharemos aceleración por **GPU** y realizaremos seguimiento del entrenamiento con **Weights & Biases (W&B)**.\n",
        "\n",
        "### 2.1 Arquitectura del DAE\n",
        "Diseñaremos una red neuronal de tipo autoencoder:\n",
        "- **Encoder**: varias capas convolucionales con reducciones de tamaño (pooling) para extraer una representación comprimida de la imagen.\n",
        "- **Decoder**: varias capas de deconvolución (Conv2DTranspose) para reconstruir la imagen original desde la representación interna.\n",
        "- Usaremos funciones de activación ReLU en capas ocultas y **sigmoide** en la capa de salida para obtener un resultado en [0,1] (ya que las imágenes están normalizadas en ese rango).\n",
        "\n",
        "Definimos una función que construya el modelo DAE dado el tamaño de entrada:"
      ],
      "metadata": {
        "id": "8lY3IdSoyrPJ"
      }
    },
    {
      "cell_type": "code",
      "source": [
        "from tensorflow.keras import layers, Model, Input\n",
        "\n",
        "def build_dae(input_shape=(IMG_SIZE, IMG_SIZE, 3)):\n",
        "    \"\"\"\n",
        "    Construye un modelo de Autoencoder Denoising convolucional.\n",
        "    \"\"\"\n",
        "    # Encoder\n",
        "    inp = Input(shape=input_shape)\n",
        "    x = layers.Conv2D(32, (3,3), activation='relu', padding='same')(inp)\n",
        "    x = layers.MaxPool2D((2,2))(x)        # Reducción a 1/2 (ej: 64->32)\n",
        "    x = layers.Conv2D(64, (3,3), activation='relu', padding='same')(x)\n",
        "    x = layers.MaxPool2D((2,2))(x)        # Reducción a 1/4 (ej: 32->16)\n",
        "    x = layers.Conv2D(128, (3,3), activation='relu', padding='same')(x)\n",
        "    encoded = layers.MaxPool2D((2,2))(x)  # Reducción a 1/8 (ej: 16->8)\n",
        "\n",
        "    # Decoder\n",
        "    x = layers.Conv2DTranspose(128, (3,3), activation='relu', padding='same', strides=(2,2))(encoded)  # 8->16\n",
        "    x = layers.Conv2DTranspose(64, (3,3), activation='relu', padding='same', strides=(2,2))(x)        # 16->32\n",
        "    x = layers.Conv2DTranspose(32, (3,3), activation='relu', padding='same', strides=(2,2))(x)        # 32->64\n",
        "    decoded = layers.Conv2D(3, (3,3), activation='sigmoid', padding='same')(x)  # capa de salida 64x64x3\n",
        "\n",
        "    # Modelo autoencoder completo\n",
        "    model = Model(inp, decoded, name=\"DAE\")\n",
        "    return model\n",
        "\n",
        "# Construir el modelo y ver resumen\n",
        "dae_model = build_dae(input_shape=(IMG_SIZE, IMG_SIZE, 3))\n",
        "dae_model.summary()"
      ],
      "metadata": {
        "id": "tUTY-jV3yvbb",
        "colab": {
          "base_uri": "https://localhost:8080/",
          "height": 500
        },
        "outputId": "0046a1bd-f8b1-4ed7-c2c9-52988c15b15f"
      },
      "execution_count": 6,
      "outputs": [
        {
          "output_type": "display_data",
          "data": {
            "text/plain": [
              "\u001b[1mModel: \"DAE\"\u001b[0m\n"
            ],
            "text/html": [
              "<pre style=\"white-space:pre;overflow-x:auto;line-height:normal;font-family:Menlo,'DejaVu Sans Mono',consolas,'Courier New',monospace\"><span style=\"font-weight: bold\">Model: \"DAE\"</span>\n",
              "</pre>\n"
            ]
          },
          "metadata": {}
        },
        {
          "output_type": "display_data",
          "data": {
            "text/plain": [
              "┏━━━━━━━━━━━━━━━━━━━━━━━━━━━━━━━━━━━━━━┳━━━━━━━━━━━━━━━━━━━━━━━━━━━━━┳━━━━━━━━━━━━━━━━━┓\n",
              "┃\u001b[1m \u001b[0m\u001b[1mLayer (type)                        \u001b[0m\u001b[1m \u001b[0m┃\u001b[1m \u001b[0m\u001b[1mOutput Shape               \u001b[0m\u001b[1m \u001b[0m┃\u001b[1m \u001b[0m\u001b[1m        Param #\u001b[0m\u001b[1m \u001b[0m┃\n",
              "┡━━━━━━━━━━━━━━━━━━━━━━━━━━━━━━━━━━━━━━╇━━━━━━━━━━━━━━━━━━━━━━━━━━━━━╇━━━━━━━━━━━━━━━━━┩\n",
              "│ input_layer (\u001b[38;5;33mInputLayer\u001b[0m)             │ (\u001b[38;5;45mNone\u001b[0m, \u001b[38;5;34m64\u001b[0m, \u001b[38;5;34m64\u001b[0m, \u001b[38;5;34m3\u001b[0m)           │               \u001b[38;5;34m0\u001b[0m │\n",
              "├──────────────────────────────────────┼─────────────────────────────┼─────────────────┤\n",
              "│ conv2d (\u001b[38;5;33mConv2D\u001b[0m)                      │ (\u001b[38;5;45mNone\u001b[0m, \u001b[38;5;34m64\u001b[0m, \u001b[38;5;34m64\u001b[0m, \u001b[38;5;34m32\u001b[0m)          │             \u001b[38;5;34m896\u001b[0m │\n",
              "├──────────────────────────────────────┼─────────────────────────────┼─────────────────┤\n",
              "│ max_pooling2d (\u001b[38;5;33mMaxPooling2D\u001b[0m)         │ (\u001b[38;5;45mNone\u001b[0m, \u001b[38;5;34m32\u001b[0m, \u001b[38;5;34m32\u001b[0m, \u001b[38;5;34m32\u001b[0m)          │               \u001b[38;5;34m0\u001b[0m │\n",
              "├──────────────────────────────────────┼─────────────────────────────┼─────────────────┤\n",
              "│ conv2d_1 (\u001b[38;5;33mConv2D\u001b[0m)                    │ (\u001b[38;5;45mNone\u001b[0m, \u001b[38;5;34m32\u001b[0m, \u001b[38;5;34m32\u001b[0m, \u001b[38;5;34m64\u001b[0m)          │          \u001b[38;5;34m18,496\u001b[0m │\n",
              "├──────────────────────────────────────┼─────────────────────────────┼─────────────────┤\n",
              "│ max_pooling2d_1 (\u001b[38;5;33mMaxPooling2D\u001b[0m)       │ (\u001b[38;5;45mNone\u001b[0m, \u001b[38;5;34m16\u001b[0m, \u001b[38;5;34m16\u001b[0m, \u001b[38;5;34m64\u001b[0m)          │               \u001b[38;5;34m0\u001b[0m │\n",
              "├──────────────────────────────────────┼─────────────────────────────┼─────────────────┤\n",
              "│ conv2d_2 (\u001b[38;5;33mConv2D\u001b[0m)                    │ (\u001b[38;5;45mNone\u001b[0m, \u001b[38;5;34m16\u001b[0m, \u001b[38;5;34m16\u001b[0m, \u001b[38;5;34m128\u001b[0m)         │          \u001b[38;5;34m73,856\u001b[0m │\n",
              "├──────────────────────────────────────┼─────────────────────────────┼─────────────────┤\n",
              "│ max_pooling2d_2 (\u001b[38;5;33mMaxPooling2D\u001b[0m)       │ (\u001b[38;5;45mNone\u001b[0m, \u001b[38;5;34m8\u001b[0m, \u001b[38;5;34m8\u001b[0m, \u001b[38;5;34m128\u001b[0m)           │               \u001b[38;5;34m0\u001b[0m │\n",
              "├──────────────────────────────────────┼─────────────────────────────┼─────────────────┤\n",
              "│ conv2d_transpose (\u001b[38;5;33mConv2DTranspose\u001b[0m)   │ (\u001b[38;5;45mNone\u001b[0m, \u001b[38;5;34m16\u001b[0m, \u001b[38;5;34m16\u001b[0m, \u001b[38;5;34m128\u001b[0m)         │         \u001b[38;5;34m147,584\u001b[0m │\n",
              "├──────────────────────────────────────┼─────────────────────────────┼─────────────────┤\n",
              "│ conv2d_transpose_1 (\u001b[38;5;33mConv2DTranspose\u001b[0m) │ (\u001b[38;5;45mNone\u001b[0m, \u001b[38;5;34m32\u001b[0m, \u001b[38;5;34m32\u001b[0m, \u001b[38;5;34m64\u001b[0m)          │          \u001b[38;5;34m73,792\u001b[0m │\n",
              "├──────────────────────────────────────┼─────────────────────────────┼─────────────────┤\n",
              "│ conv2d_transpose_2 (\u001b[38;5;33mConv2DTranspose\u001b[0m) │ (\u001b[38;5;45mNone\u001b[0m, \u001b[38;5;34m64\u001b[0m, \u001b[38;5;34m64\u001b[0m, \u001b[38;5;34m32\u001b[0m)          │          \u001b[38;5;34m18,464\u001b[0m │\n",
              "├──────────────────────────────────────┼─────────────────────────────┼─────────────────┤\n",
              "│ conv2d_3 (\u001b[38;5;33mConv2D\u001b[0m)                    │ (\u001b[38;5;45mNone\u001b[0m, \u001b[38;5;34m64\u001b[0m, \u001b[38;5;34m64\u001b[0m, \u001b[38;5;34m3\u001b[0m)           │             \u001b[38;5;34m867\u001b[0m │\n",
              "└──────────────────────────────────────┴─────────────────────────────┴─────────────────┘\n"
            ],
            "text/html": [
              "<pre style=\"white-space:pre;overflow-x:auto;line-height:normal;font-family:Menlo,'DejaVu Sans Mono',consolas,'Courier New',monospace\">┏━━━━━━━━━━━━━━━━━━━━━━━━━━━━━━━━━━━━━━┳━━━━━━━━━━━━━━━━━━━━━━━━━━━━━┳━━━━━━━━━━━━━━━━━┓\n",
              "┃<span style=\"font-weight: bold\"> Layer (type)                         </span>┃<span style=\"font-weight: bold\"> Output Shape                </span>┃<span style=\"font-weight: bold\">         Param # </span>┃\n",
              "┡━━━━━━━━━━━━━━━━━━━━━━━━━━━━━━━━━━━━━━╇━━━━━━━━━━━━━━━━━━━━━━━━━━━━━╇━━━━━━━━━━━━━━━━━┩\n",
              "│ input_layer (<span style=\"color: #0087ff; text-decoration-color: #0087ff\">InputLayer</span>)             │ (<span style=\"color: #00d7ff; text-decoration-color: #00d7ff\">None</span>, <span style=\"color: #00af00; text-decoration-color: #00af00\">64</span>, <span style=\"color: #00af00; text-decoration-color: #00af00\">64</span>, <span style=\"color: #00af00; text-decoration-color: #00af00\">3</span>)           │               <span style=\"color: #00af00; text-decoration-color: #00af00\">0</span> │\n",
              "├──────────────────────────────────────┼─────────────────────────────┼─────────────────┤\n",
              "│ conv2d (<span style=\"color: #0087ff; text-decoration-color: #0087ff\">Conv2D</span>)                      │ (<span style=\"color: #00d7ff; text-decoration-color: #00d7ff\">None</span>, <span style=\"color: #00af00; text-decoration-color: #00af00\">64</span>, <span style=\"color: #00af00; text-decoration-color: #00af00\">64</span>, <span style=\"color: #00af00; text-decoration-color: #00af00\">32</span>)          │             <span style=\"color: #00af00; text-decoration-color: #00af00\">896</span> │\n",
              "├──────────────────────────────────────┼─────────────────────────────┼─────────────────┤\n",
              "│ max_pooling2d (<span style=\"color: #0087ff; text-decoration-color: #0087ff\">MaxPooling2D</span>)         │ (<span style=\"color: #00d7ff; text-decoration-color: #00d7ff\">None</span>, <span style=\"color: #00af00; text-decoration-color: #00af00\">32</span>, <span style=\"color: #00af00; text-decoration-color: #00af00\">32</span>, <span style=\"color: #00af00; text-decoration-color: #00af00\">32</span>)          │               <span style=\"color: #00af00; text-decoration-color: #00af00\">0</span> │\n",
              "├──────────────────────────────────────┼─────────────────────────────┼─────────────────┤\n",
              "│ conv2d_1 (<span style=\"color: #0087ff; text-decoration-color: #0087ff\">Conv2D</span>)                    │ (<span style=\"color: #00d7ff; text-decoration-color: #00d7ff\">None</span>, <span style=\"color: #00af00; text-decoration-color: #00af00\">32</span>, <span style=\"color: #00af00; text-decoration-color: #00af00\">32</span>, <span style=\"color: #00af00; text-decoration-color: #00af00\">64</span>)          │          <span style=\"color: #00af00; text-decoration-color: #00af00\">18,496</span> │\n",
              "├──────────────────────────────────────┼─────────────────────────────┼─────────────────┤\n",
              "│ max_pooling2d_1 (<span style=\"color: #0087ff; text-decoration-color: #0087ff\">MaxPooling2D</span>)       │ (<span style=\"color: #00d7ff; text-decoration-color: #00d7ff\">None</span>, <span style=\"color: #00af00; text-decoration-color: #00af00\">16</span>, <span style=\"color: #00af00; text-decoration-color: #00af00\">16</span>, <span style=\"color: #00af00; text-decoration-color: #00af00\">64</span>)          │               <span style=\"color: #00af00; text-decoration-color: #00af00\">0</span> │\n",
              "├──────────────────────────────────────┼─────────────────────────────┼─────────────────┤\n",
              "│ conv2d_2 (<span style=\"color: #0087ff; text-decoration-color: #0087ff\">Conv2D</span>)                    │ (<span style=\"color: #00d7ff; text-decoration-color: #00d7ff\">None</span>, <span style=\"color: #00af00; text-decoration-color: #00af00\">16</span>, <span style=\"color: #00af00; text-decoration-color: #00af00\">16</span>, <span style=\"color: #00af00; text-decoration-color: #00af00\">128</span>)         │          <span style=\"color: #00af00; text-decoration-color: #00af00\">73,856</span> │\n",
              "├──────────────────────────────────────┼─────────────────────────────┼─────────────────┤\n",
              "│ max_pooling2d_2 (<span style=\"color: #0087ff; text-decoration-color: #0087ff\">MaxPooling2D</span>)       │ (<span style=\"color: #00d7ff; text-decoration-color: #00d7ff\">None</span>, <span style=\"color: #00af00; text-decoration-color: #00af00\">8</span>, <span style=\"color: #00af00; text-decoration-color: #00af00\">8</span>, <span style=\"color: #00af00; text-decoration-color: #00af00\">128</span>)           │               <span style=\"color: #00af00; text-decoration-color: #00af00\">0</span> │\n",
              "├──────────────────────────────────────┼─────────────────────────────┼─────────────────┤\n",
              "│ conv2d_transpose (<span style=\"color: #0087ff; text-decoration-color: #0087ff\">Conv2DTranspose</span>)   │ (<span style=\"color: #00d7ff; text-decoration-color: #00d7ff\">None</span>, <span style=\"color: #00af00; text-decoration-color: #00af00\">16</span>, <span style=\"color: #00af00; text-decoration-color: #00af00\">16</span>, <span style=\"color: #00af00; text-decoration-color: #00af00\">128</span>)         │         <span style=\"color: #00af00; text-decoration-color: #00af00\">147,584</span> │\n",
              "├──────────────────────────────────────┼─────────────────────────────┼─────────────────┤\n",
              "│ conv2d_transpose_1 (<span style=\"color: #0087ff; text-decoration-color: #0087ff\">Conv2DTranspose</span>) │ (<span style=\"color: #00d7ff; text-decoration-color: #00d7ff\">None</span>, <span style=\"color: #00af00; text-decoration-color: #00af00\">32</span>, <span style=\"color: #00af00; text-decoration-color: #00af00\">32</span>, <span style=\"color: #00af00; text-decoration-color: #00af00\">64</span>)          │          <span style=\"color: #00af00; text-decoration-color: #00af00\">73,792</span> │\n",
              "├──────────────────────────────────────┼─────────────────────────────┼─────────────────┤\n",
              "│ conv2d_transpose_2 (<span style=\"color: #0087ff; text-decoration-color: #0087ff\">Conv2DTranspose</span>) │ (<span style=\"color: #00d7ff; text-decoration-color: #00d7ff\">None</span>, <span style=\"color: #00af00; text-decoration-color: #00af00\">64</span>, <span style=\"color: #00af00; text-decoration-color: #00af00\">64</span>, <span style=\"color: #00af00; text-decoration-color: #00af00\">32</span>)          │          <span style=\"color: #00af00; text-decoration-color: #00af00\">18,464</span> │\n",
              "├──────────────────────────────────────┼─────────────────────────────┼─────────────────┤\n",
              "│ conv2d_3 (<span style=\"color: #0087ff; text-decoration-color: #0087ff\">Conv2D</span>)                    │ (<span style=\"color: #00d7ff; text-decoration-color: #00d7ff\">None</span>, <span style=\"color: #00af00; text-decoration-color: #00af00\">64</span>, <span style=\"color: #00af00; text-decoration-color: #00af00\">64</span>, <span style=\"color: #00af00; text-decoration-color: #00af00\">3</span>)           │             <span style=\"color: #00af00; text-decoration-color: #00af00\">867</span> │\n",
              "└──────────────────────────────────────┴─────────────────────────────┴─────────────────┘\n",
              "</pre>\n"
            ]
          },
          "metadata": {}
        },
        {
          "output_type": "display_data",
          "data": {
            "text/plain": [
              "\u001b[1m Total params: \u001b[0m\u001b[38;5;34m333,955\u001b[0m (1.27 MB)\n"
            ],
            "text/html": [
              "<pre style=\"white-space:pre;overflow-x:auto;line-height:normal;font-family:Menlo,'DejaVu Sans Mono',consolas,'Courier New',monospace\"><span style=\"font-weight: bold\"> Total params: </span><span style=\"color: #00af00; text-decoration-color: #00af00\">333,955</span> (1.27 MB)\n",
              "</pre>\n"
            ]
          },
          "metadata": {}
        },
        {
          "output_type": "display_data",
          "data": {
            "text/plain": [
              "\u001b[1m Trainable params: \u001b[0m\u001b[38;5;34m333,955\u001b[0m (1.27 MB)\n"
            ],
            "text/html": [
              "<pre style=\"white-space:pre;overflow-x:auto;line-height:normal;font-family:Menlo,'DejaVu Sans Mono',consolas,'Courier New',monospace\"><span style=\"font-weight: bold\"> Trainable params: </span><span style=\"color: #00af00; text-decoration-color: #00af00\">333,955</span> (1.27 MB)\n",
              "</pre>\n"
            ]
          },
          "metadata": {}
        },
        {
          "output_type": "display_data",
          "data": {
            "text/plain": [
              "\u001b[1m Non-trainable params: \u001b[0m\u001b[38;5;34m0\u001b[0m (0.00 B)\n"
            ],
            "text/html": [
              "<pre style=\"white-space:pre;overflow-x:auto;line-height:normal;font-family:Menlo,'DejaVu Sans Mono',consolas,'Courier New',monospace\"><span style=\"font-weight: bold\"> Non-trainable params: </span><span style=\"color: #00af00; text-decoration-color: #00af00\">0</span> (0.00 B)\n",
              "</pre>\n"
            ]
          },
          "metadata": {}
        }
      ]
    },
    {
      "cell_type": "code",
      "source": [
        "import tensorflow as tf\n",
        "\n",
        "# Definir función de ruido usando TensorFlow (para integrarla en tf.data pipeline)\n",
        "def add_noise_tf(image):\n",
        "    \"\"\"\n",
        "    Agrega aleatoriamente ruido Gaussiano o Sal&Pimienta a la imagen (tensor).\n",
        "    Retorna la imagen ruidosa.\n",
        "    \"\"\"\n",
        "    # Probabilidad de elegir uno u otro tipo de ruido\n",
        "    rand = tf.random.uniform(shape=(), minval=0, maxval=1)\n",
        "    # Ruido Gaussiano\n",
        "    gauss_std = 0.1  # desviación estándar del ruido gaussiano\n",
        "    noisy_gauss = image + tf.random.normal(shape=tf.shape(image), mean=0.0, stddev=gauss_std)\n",
        "    noisy_gauss = tf.clip_by_value(noisy_gauss, 0.0, 1.0)  # asegurar que sigue en [0,1]\n",
        "    # Ruido Sal y Pimienta\n",
        "    prob = 0.1  # proporción de píxeles a arruinar\n",
        "    rnd = tf.random.uniform(shape=tf.shape(image))\n",
        "    salt_mask = rnd > (1 - prob/2)\n",
        "    pepper_mask = rnd < (prob/2)\n",
        "    # Iniciar con imagen original\n",
        "    noisy_sp = image\n",
        "    # Aplicar pimienta (negro) y sal (blanco)\n",
        "    noisy_sp = tf.where(pepper_mask, tf.zeros_like(noisy_sp), noisy_sp)\n",
        "    noisy_sp = tf.where(salt_mask, tf.ones_like(noisy_sp), noisy_sp)\n",
        "    # Elegir aleatoriamente cuál ruido aplicar\n",
        "    noisy_image = tf.cond(rand < 0.5, lambda: noisy_gauss, lambda: noisy_sp)\n",
        "    return noisy_image"
      ],
      "metadata": {
        "id": "Obnh1OoQzL2i"
      },
      "execution_count": 7,
      "outputs": []
    },
    {
      "cell_type": "markdown",
      "source": [
        "\n",
        "La función `add_noise_tf` devuelve un tensor de imagen con uno de los dos ruidos aplicados aleatoriamente. Hemos fijado parámetros de ruido razonables (10% de píxeles alterados para sal&pimienta, desviación 0.1 para gaussiano) que se pueden ajustar.\n",
        "\n",
        "### 2.3 Preparación de datos para entrenamiento (con pipeline en GPU)\n",
        "Aprovecharemos la API `tf.data` de TensorFlow para crear un pipeline eficiente de datos que agregue ruido sobre la marcha. Esto nos permite procesar en batches y en GPU, evitando cargar todas las variantes ruidosas en memoria a la vez."
      ],
      "metadata": {
        "id": "c0Af1i61zRAT"
      }
    },
    {
      "cell_type": "code",
      "source": [
        "BATCH_SIZE = 32\n",
        "\n",
        "# Crear dataset de entrenamiento a partir de los datos preprocesados en numpy\n",
        "train_dataset = tf.data.Dataset.from_tensor_slices(X_train) \\\n",
        "                .shuffle(buffer_size=len(X_train)) \\\n",
        "                .batch(BATCH_SIZE) \\\n",
        "                .map(lambda batch: (add_noise_tf(batch), batch)) \\\n",
        "                .prefetch(tf.data.experimental.AUTOTUNE)\n",
        "\n",
        "# Dataset de validación (aquí podemos agregar ruido también para validar la capacidad del modelo)\n",
        "val_dataset = tf.data.Dataset.from_tensor_slices(X_val) \\\n",
        "              .batch(BATCH_SIZE) \\\n",
        "              .map(lambda batch: (add_noise_tf(batch), batch))"
      ],
      "metadata": {
        "id": "gmStMAcXzXdc"
      },
      "execution_count": 8,
      "outputs": []
    },
    {
      "cell_type": "markdown",
      "source": [
        "Explicación:\n",
        "- Usamos `from_tensor_slices` para crear un dataset a partir del array de entrenamiento (`X_train`).\n",
        "- Barajamos (`shuffle`) los ejemplos y luego agrupamos en *batches*.\n",
        "- Aplicamos `.map` para agregar ruido: la función toma un batch de imágenes `batch` y retorna `(imagenes_con_ruido, imagenes_originales)`. Así tenemos los pares entrada-salida necesarios para entrenamiento del autoencoder.\n",
        "- `prefetch` con `AUTOTUNE` permite que el pipeline cargue datos en paralelo a la GPU, manteniendo el entrenamiento alimentado.\n",
        "\n",
        "Para el conjunto de validación, también podemos añadir ruido a las entradas para evaluar cómo de bien las limpia el modelo, aunque es importante usar la misma imagen original como objetivo.\n",
        "\n",
        "### 2.4 Configuración de Weights & Biases (W&B) para seguimiento\n",
        "Integrar W&B nos permitirá monitorizar las métricas de entrenamiento (pérdida de entrenamiento y validación, por ejemplo) en tiempo real, guardar gráficas y versionar el modelo.\n",
        "\n",
        "Primero, instalamos e inicializamos W&B con nuestra API key (debe obtenerse de nuestra cuenta W&B). Para mayor automatización, podríamos almacenarla en una variable de entorno.\n"
      ],
      "metadata": {
        "id": "UzM0frjgzamo"
      }
    },
    {
      "cell_type": "code",
      "source": [
        "#!pip install wandb"
      ],
      "metadata": {
        "id": "MyrlpqVUzhNG"
      },
      "execution_count": 9,
      "outputs": []
    },
    {
      "cell_type": "code",
      "source": [
        "import wandb\n",
        "#\n",
        "\n",
        "# Iniciar sesión en W&B (requiere proporcionar la API key personal)\n",
        "wandb.login()  # Esto abrirá un prompt para ingresar la clave API si no está configurada como variable de entorno"
      ],
      "metadata": {
        "id": "RfxxzIEmzpum",
        "colab": {
          "base_uri": "https://localhost:8080/"
        },
        "outputId": "96123a41-c43b-4783-dbc5-1242b3e4757d"
      },
      "execution_count": 10,
      "outputs": [
        {
          "output_type": "stream",
          "name": "stderr",
          "text": [
            "\u001b[34m\u001b[1mwandb\u001b[0m: Using wandb-core as the SDK backend.  Please refer to https://wandb.me/wandb-core for more information.\n",
            "\u001b[34m\u001b[1mwandb\u001b[0m: Currently logged in as: \u001b[33mdiegomercadoc\u001b[0m (\u001b[33mdiegomercadoc-iteso\u001b[0m) to \u001b[32mhttps://api.wandb.ai\u001b[0m. Use \u001b[1m`wandb login --relogin`\u001b[0m to force relogin\n"
          ]
        },
        {
          "output_type": "execute_result",
          "data": {
            "text/plain": [
              "True"
            ]
          },
          "metadata": {},
          "execution_count": 10
        }
      ]
    },
    {
      "cell_type": "markdown",
      "source": [
        "\n",
        "*(Alternativamente, se podría hacer `wandb.login(key=\"TU_WANDB_API_KEY\")` para evitar el prompt, o setear `os.environ['WANDB_API_KEY']` previamente.)*\n",
        "\n",
        "Ahora inicializamos un proyecto en W&B para nuestro DAE y definimos algunos hiperparámetros básicos en `config`:\n"
      ],
      "metadata": {
        "id": "o7wsnHOfzwA8"
      }
    },
    {
      "cell_type": "code",
      "source": [
        "wandb.init(# Set the wandb entity where your project will be logged (generally your team name).\n",
        "    entity=\"arturo-torres-iteso\", project=\"VAE + DAE\", name=\"DAE-training\", config={\n",
        "    \"epochs\": 20,\n",
        "    \"batch_size\": BATCH_SIZE,\n",
        "    \"img_size\": IMG_SIZE,\n",
        "    \"noise_type\": \"gaussian+salt&pepper\",\n",
        "    \"optimizer\": \"adam\",\n",
        "    \"loss\": \"mse\"\n",
        "})"
      ],
      "metadata": {
        "id": "CSWJvs5Hz2Sx",
        "colab": {
          "base_uri": "https://localhost:8080/",
          "height": 123
        },
        "outputId": "7062aba6-362c-4bf5-9f27-62493c17de03"
      },
      "execution_count": 11,
      "outputs": [
        {
          "output_type": "display_data",
          "data": {
            "text/plain": [
              "<IPython.core.display.HTML object>"
            ],
            "text/html": [
              "Tracking run with wandb version 0.19.8"
            ]
          },
          "metadata": {}
        },
        {
          "output_type": "display_data",
          "data": {
            "text/plain": [
              "<IPython.core.display.HTML object>"
            ],
            "text/html": [
              "Run data is saved locally in <code>/content/wandb/run-20250318_022752-u8m7ohrj</code>"
            ]
          },
          "metadata": {}
        },
        {
          "output_type": "display_data",
          "data": {
            "text/plain": [
              "<IPython.core.display.HTML object>"
            ],
            "text/html": [
              "Syncing run <strong><a href='https://wandb.ai/arturo-torres-iteso/VAE%20%2B%20DAE/runs/u8m7ohrj' target=\"_blank\">DAE-training</a></strong> to <a href='https://wandb.ai/arturo-torres-iteso/VAE%20%2B%20DAE' target=\"_blank\">Weights & Biases</a> (<a href='https://wandb.me/developer-guide' target=\"_blank\">docs</a>)<br>"
            ]
          },
          "metadata": {}
        },
        {
          "output_type": "display_data",
          "data": {
            "text/plain": [
              "<IPython.core.display.HTML object>"
            ],
            "text/html": [
              " View project at <a href='https://wandb.ai/arturo-torres-iteso/VAE%20%2B%20DAE' target=\"_blank\">https://wandb.ai/arturo-torres-iteso/VAE%20%2B%20DAE</a>"
            ]
          },
          "metadata": {}
        },
        {
          "output_type": "display_data",
          "data": {
            "text/plain": [
              "<IPython.core.display.HTML object>"
            ],
            "text/html": [
              " View run at <a href='https://wandb.ai/arturo-torres-iteso/VAE%20%2B%20DAE/runs/u8m7ohrj' target=\"_blank\">https://wandb.ai/arturo-torres-iteso/VAE%20%2B%20DAE/runs/u8m7ohrj</a>"
            ]
          },
          "metadata": {}
        },
        {
          "output_type": "execute_result",
          "data": {
            "text/html": [
              "<button onClick=\"this.nextSibling.style.display='block';this.style.display='none';\">Display W&B run</button><iframe src='https://wandb.ai/arturo-torres-iteso/VAE%20%2B%20DAE/runs/u8m7ohrj?jupyter=true' style='border:none;width:100%;height:420px;display:none;'></iframe>"
            ],
            "text/plain": [
              "<wandb.sdk.wandb_run.Run at 0x794a50a83250>"
            ]
          },
          "metadata": {},
          "execution_count": 11
        }
      ]
    },
    {
      "cell_type": "markdown",
      "source": [
        "### 2.5 Entrenamiento del DAE en GPU\n",
        "Compilamos el modelo con un optimizador y función de pérdida apropiados. Para un DAE, utilizaremos **MSE (mean squared error)** entre la imagen reconstruida y la original como pérdida, dado que buscamos similitud pixel a pixel."
      ],
      "metadata": {
        "id": "1Ny-R37bz6Xu"
      }
    },
    {
      "cell_type": "code",
      "source": [],
      "metadata": {
        "id": "y3llz4uTFcfU"
      },
      "execution_count": null,
      "outputs": []
    },
    {
      "cell_type": "code",
      "source": [
        "from wandb.integration.keras import WandbCallback, WandbMetricsLogger, WandbModelCheckpoint\n",
        "\n",
        "# Definir callbacks actualizados para W&B\n",
        "callbacks = [\n",
        "    WandbMetricsLogger(),  # Registra métricas durante el entrenamiento\n",
        "    WandbModelCheckpoint(filepath=\"dae_model_best.keras\", save_weights_only=False)\n",
        "  # Guarda el mejor modelo\n",
        "]\n",
        "\n",
        "# Entrenar el modelo con los nuevos callbacks\n",
        "EPOCHS = 20\n",
        "dae_history = dae_model.fit(\n",
        "    train_dataset,\n",
        "    epochs=EPOCHS,\n",
        "    validation_data=val_dataset,\n",
        "    callbacks=callbacks\n",
        ")"
      ],
      "metadata": {
        "id": "D3QkXXxmz93d",
        "colab": {
          "base_uri": "https://localhost:8080/"
        },
        "outputId": "844666e9-4337-4bb2-8ea0-ae2ee7d6eea1"
      },
      "execution_count": 17,
      "outputs": [
        {
          "output_type": "stream",
          "name": "stdout",
          "text": [
            "Epoch 1/20\n",
            "\u001b[1m5/5\u001b[0m \u001b[32m━━━━━━━━━━━━━━━━━━━━\u001b[0m\u001b[37m\u001b[0m \u001b[1m3s\u001b[0m 740ms/step - loss: 0.0973 - val_loss: 0.1039\n",
            "Epoch 2/20\n",
            "\u001b[1m5/5\u001b[0m \u001b[32m━━━━━━━━━━━━━━━━━━━━\u001b[0m\u001b[37m\u001b[0m \u001b[1m0s\u001b[0m 59ms/step - loss: 0.0938 - val_loss: 0.0935\n",
            "Epoch 3/20\n",
            "\u001b[1m5/5\u001b[0m \u001b[32m━━━━━━━━━━━━━━━━━━━━\u001b[0m\u001b[37m\u001b[0m \u001b[1m0s\u001b[0m 53ms/step - loss: 0.0845 - val_loss: 0.0802\n",
            "Epoch 4/20\n",
            "\u001b[1m5/5\u001b[0m \u001b[32m━━━━━━━━━━━━━━━━━━━━\u001b[0m\u001b[37m\u001b[0m \u001b[1m0s\u001b[0m 55ms/step - loss: 0.0754 - val_loss: 0.0729\n",
            "Epoch 5/20\n",
            "\u001b[1m5/5\u001b[0m \u001b[32m━━━━━━━━━━━━━━━━━━━━\u001b[0m\u001b[37m\u001b[0m \u001b[1m0s\u001b[0m 59ms/step - loss: 0.0702 - val_loss: 0.0665\n",
            "Epoch 6/20\n",
            "\u001b[1m5/5\u001b[0m \u001b[32m━━━━━━━━━━━━━━━━━━━━\u001b[0m\u001b[37m\u001b[0m \u001b[1m0s\u001b[0m 60ms/step - loss: 0.0627 - val_loss: 0.0753\n",
            "Epoch 7/20\n",
            "\u001b[1m5/5\u001b[0m \u001b[32m━━━━━━━━━━━━━━━━━━━━\u001b[0m\u001b[37m\u001b[0m \u001b[1m0s\u001b[0m 56ms/step - loss: 0.0585 - val_loss: 0.0560\n",
            "Epoch 8/20\n",
            "\u001b[1m5/5\u001b[0m \u001b[32m━━━━━━━━━━━━━━━━━━━━\u001b[0m\u001b[37m\u001b[0m \u001b[1m0s\u001b[0m 57ms/step - loss: 0.0581 - val_loss: 0.0592\n",
            "Epoch 9/20\n",
            "\u001b[1m5/5\u001b[0m \u001b[32m━━━━━━━━━━━━━━━━━━━━\u001b[0m\u001b[37m\u001b[0m \u001b[1m0s\u001b[0m 57ms/step - loss: 0.0551 - val_loss: 0.0418\n",
            "Epoch 10/20\n",
            "\u001b[1m5/5\u001b[0m \u001b[32m━━━━━━━━━━━━━━━━━━━━\u001b[0m\u001b[37m\u001b[0m \u001b[1m0s\u001b[0m 63ms/step - loss: 0.0450 - val_loss: 0.0366\n",
            "Epoch 11/20\n",
            "\u001b[1m5/5\u001b[0m \u001b[32m━━━━━━━━━━━━━━━━━━━━\u001b[0m\u001b[37m\u001b[0m \u001b[1m0s\u001b[0m 57ms/step - loss: 0.0513 - val_loss: 0.0527\n",
            "Epoch 12/20\n",
            "\u001b[1m5/5\u001b[0m \u001b[32m━━━━━━━━━━━━━━━━━━━━\u001b[0m\u001b[37m\u001b[0m \u001b[1m0s\u001b[0m 57ms/step - loss: 0.0478 - val_loss: 0.0413\n",
            "Epoch 13/20\n",
            "\u001b[1m5/5\u001b[0m \u001b[32m━━━━━━━━━━━━━━━━━━━━\u001b[0m\u001b[37m\u001b[0m \u001b[1m0s\u001b[0m 65ms/step - loss: 0.0365 - val_loss: 0.0356\n",
            "Epoch 14/20\n",
            "\u001b[1m5/5\u001b[0m \u001b[32m━━━━━━━━━━━━━━━━━━━━\u001b[0m\u001b[37m\u001b[0m \u001b[1m0s\u001b[0m 55ms/step - loss: 0.0408 - val_loss: 0.0343\n",
            "Epoch 15/20\n",
            "\u001b[1m5/5\u001b[0m \u001b[32m━━━━━━━━━━━━━━━━━━━━\u001b[0m\u001b[37m\u001b[0m \u001b[1m0s\u001b[0m 61ms/step - loss: 0.0328 - val_loss: 0.0332\n",
            "Epoch 16/20\n",
            "\u001b[1m5/5\u001b[0m \u001b[32m━━━━━━━━━━━━━━━━━━━━\u001b[0m\u001b[37m\u001b[0m \u001b[1m0s\u001b[0m 63ms/step - loss: 0.0345 - val_loss: 0.0373\n",
            "Epoch 17/20\n",
            "\u001b[1m5/5\u001b[0m \u001b[32m━━━━━━━━━━━━━━━━━━━━\u001b[0m\u001b[37m\u001b[0m \u001b[1m0s\u001b[0m 64ms/step - loss: 0.0339 - val_loss: 0.0315\n",
            "Epoch 18/20\n",
            "\u001b[1m5/5\u001b[0m \u001b[32m━━━━━━━━━━━━━━━━━━━━\u001b[0m\u001b[37m\u001b[0m \u001b[1m0s\u001b[0m 65ms/step - loss: 0.0327 - val_loss: 0.0328\n",
            "Epoch 19/20\n",
            "\u001b[1m5/5\u001b[0m \u001b[32m━━━━━━━━━━━━━━━━━━━━\u001b[0m\u001b[37m\u001b[0m \u001b[1m0s\u001b[0m 55ms/step - loss: 0.0315 - val_loss: 0.0320\n",
            "Epoch 20/20\n",
            "\u001b[1m5/5\u001b[0m \u001b[32m━━━━━━━━━━━━━━━━━━━━\u001b[0m\u001b[37m\u001b[0m \u001b[1m0s\u001b[0m 60ms/step - loss: 0.0300 - val_loss: 0.0296\n"
          ]
        }
      ]
    },
    {
      "cell_type": "markdown",
      "source": [
        "Durante el entrenamiento, el modelo recibe imágenes ruidosas como entrada y aprende a predecir la versión limpia. El callback de W&B registra automáticamente la pérdida de entrenamiento y validación en cada época, permitiendo visualizar curvas de aprendizaje en la plataforma W&B. Además, W&B almacena los hiperparámetros y puede guardar el modelo entrenado como *artefacto* si se configura (por simplicidad, aquí usamos solo el callback básico).\n",
        "\n",
        "### 2.6 Validación y evaluación del DAE\n",
        "Tras el entrenamiento, evaluaremos el desempeño del DAE usando el conjunto de **prueba**. Generaremos versiones ruidosas de las imágenes de prueba y mediremos el error de reconstrucción. Esto nos indica la capacidad del modelo de generalizar la limpieza de ruido a imágenes no vistas durante entrenamiento."
      ],
      "metadata": {
        "id": "-_gwRmIC0HGm"
      }
    },
    {
      "cell_type": "code",
      "source": [
        "# Generar imágenes de prueba con ruido (usando la misma función de ruido)\n",
        "X_test_noisy = add_noise_tf(X_test).numpy()  # convertimos a numpy para evaluar fácilmente\n",
        "\n",
        "# Evaluar el modelo en el conjunto de prueba\n",
        "test_loss = dae_model.evaluate(X_test_noisy, X_test, verbose=0)\n",
        "print(f\"Pérdida (MSE) en conjunto de prueba: {test_loss:.4f}\")"
      ],
      "metadata": {
        "id": "Lfq2shkV0JeZ",
        "colab": {
          "base_uri": "https://localhost:8080/"
        },
        "outputId": "fc2417ce-6ad4-4f7b-d4e2-58f59a87253d"
      },
      "execution_count": 18,
      "outputs": [
        {
          "output_type": "stream",
          "name": "stdout",
          "text": [
            "Pérdida (MSE) en conjunto de prueba: 0.0283\n"
          ]
        }
      ]
    },
    {
      "cell_type": "markdown",
      "source": [
        "También podemos observar visualmente algunos resultados tomando imágenes de prueba ruidosas y viendo la salida del DAE comparada con la original:"
      ],
      "metadata": {
        "id": "PPXZylfm0MdK"
      }
    },
    {
      "cell_type": "code",
      "source": [
        "import matplotlib.pyplot as plt\n",
        "\n",
        "# Tomar algunas imágenes de ejemplo del test\n",
        "num_examples = 5\n",
        "indices = np.random.choice(len(X_test), size=num_examples, replace=False)\n",
        "sample_noisy = X_test_noisy[indices]\n",
        "sample_original = X_test[indices]\n",
        "sample_denoised = dae_model.predict(sample_noisy)\n",
        "\n",
        "# Mostrar comparaciones\n",
        "plt.figure(figsize=(num_examples*3, 3))\n",
        "for i in range(num_examples):\n",
        "    # Imagen ruidosa\n",
        "    plt.subplot(3, num_examples, i+1)\n",
        "    plt.imshow(sample_noisy[i])\n",
        "    plt.title(\"Entrada ruidosa\")\n",
        "    plt.axis('off')\n",
        "    # Imagen denoised por el DAE\n",
        "    plt.subplot(3, num_examples, num_examples + i + 1)\n",
        "    plt.imshow(sample_denoised[i])\n",
        "    plt.title(\"Salida DAE\")\n",
        "    plt.axis('off')\n",
        "    # Imagen original\n",
        "    plt.subplot(3, num_examples, 2*num_examples + i + 1)\n",
        "    plt.imshow(sample_original[i])\n",
        "    plt.title(\"Original\")\n",
        "    plt.axis('off')\n",
        "plt.show()"
      ],
      "metadata": {
        "id": "PCF4gYk20UJ_",
        "colab": {
          "base_uri": "https://localhost:8080/",
          "height": 307
        },
        "outputId": "380d0fe1-01d2-423e-8a25-0a982d63c871"
      },
      "execution_count": 19,
      "outputs": [
        {
          "output_type": "stream",
          "name": "stdout",
          "text": [
            "\u001b[1m1/1\u001b[0m \u001b[32m━━━━━━━━━━━━━━━━━━━━\u001b[0m\u001b[37m\u001b[0m \u001b[1m1s\u001b[0m 548ms/step\n"
          ]
        },
        {
          "output_type": "display_data",
          "data": {
            "text/plain": [
              "<Figure size 1500x300 with 15 Axes>"
            ],
            "image/png": "[encoded data removed]"
          },
          "metadata": {}
        }
      ]
    },
    {
      "cell_type": "markdown",
      "source": [
        "\n",
        "*(En un entorno con interfaz gráfica, este código mostraría las imágenes; en Colab se pueden visualizar. Aquí es para ilustrar cómo verificar resultados.)*\n",
        "\n",
        "Después de la evaluación, guardamos el modelo entrenado para uso posterior (por ejemplo, para la demo con Gradio o para cargarlo sin reentrenar):"
      ],
      "metadata": {
        "id": "bXoDA85A0Y4l"
      }
    },
    {
      "cell_type": "code",
      "source": [
        "dae_model.save(\"dae_model.h5\")"
      ],
      "metadata": {
        "id": "EqAhjJcT0dSl",
        "colab": {
          "base_uri": "https://localhost:8080/"
        },
        "outputId": "e39b6acf-b415-4ce9-fb2e-da0c2d12e468"
      },
      "execution_count": 20,
      "outputs": [
        {
          "output_type": "stream",
          "name": "stderr",
          "text": [
            "WARNING:absl:You are saving your model as an HDF5 file via `model.save()` or `keras.saving.save_model(model)`. This file format is considered legacy. We recommend using instead the native Keras format, e.g. `model.save('my_model.keras')` or `keras.saving.save_model(model, 'my_model.keras')`. \n"
          ]
        }
      ]
    },
    {
      "cell_type": "markdown",
      "source": [
        "Además, finalizamos el run de W&B asociado al DAE para separar los logs del siguiente modelo:"
      ],
      "metadata": {
        "id": "n4sueUQP0hV8"
      }
    },
    {
      "cell_type": "code",
      "source": [
        "wandb.finish()"
      ],
      "metadata": {
        "colab": {
          "base_uri": "https://localhost:8080/",
          "height": 437
        },
        "id": "ixxZG2pH5Dkw",
        "outputId": "bf40921f-4754-4c1d-8249-9660986f43ce"
      },
      "execution_count": 21,
      "outputs": [
        {
          "output_type": "display_data",
          "data": {
            "text/plain": [
              "<IPython.core.display.HTML object>"
            ],
            "text/html": []
          },
          "metadata": {}
        },
        {
          "output_type": "display_data",
          "data": {
            "text/plain": [
              "<IPython.core.display.HTML object>"
            ],
            "text/html": [
              "<br>    <style><br>        .wandb-row {<br>            display: flex;<br>            flex-direction: row;<br>            flex-wrap: wrap;<br>            justify-content: flex-start;<br>            width: 100%;<br>        }<br>        .wandb-col {<br>            display: flex;<br>            flex-direction: column;<br>            flex-basis: 100%;<br>            flex: 1;<br>            padding: 10px;<br>        }<br>    </style><br><div class=\"wandb-row\"><div class=\"wandb-col\"><h3>Run history:</h3><br/><table class=\"wandb\"><tr><td>epoch/epoch</td><td>▁▁▂▂▂▃▃▄▄▄▅▅▅▆▆▇▇▇██</td></tr><tr><td>epoch/learning_rate</td><td>▁▁▁▁▁▁▁▁▁▁▁▁▁▁▁▁▁▁▁▁</td></tr><tr><td>epoch/loss</td><td>█▇▆▆▅▄▄▄▃▃▃▃▂▂▁▁▁▁▁▁</td></tr><tr><td>epoch/val_loss</td><td>█▇▆▅▄▅▃▄▂▂▃▂▂▁▁▂▁▁▁▁</td></tr></table><br/></div><div class=\"wandb-col\"><h3>Run summary:</h3><br/><table class=\"wandb\"><tr><td>epoch/epoch</td><td>19</td></tr><tr><td>epoch/learning_rate</td><td>0.001</td></tr><tr><td>epoch/loss</td><td>0.02993</td></tr><tr><td>epoch/val_loss</td><td>0.02964</td></tr></table><br/></div></div>"
            ]
          },
          "metadata": {}
        },
        {
          "output_type": "display_data",
          "data": {
            "text/plain": [
              "<IPython.core.display.HTML object>"
            ],
            "text/html": [
              " View run <strong style=\"color:#cdcd00\">DAE-training</strong> at: <a href='https://wandb.ai/arturo-torres-iteso/VAE%20%2B%20DAE/runs/u8m7ohrj' target=\"_blank\">https://wandb.ai/arturo-torres-iteso/VAE%20%2B%20DAE/runs/u8m7ohrj</a><br> View project at: <a href='https://wandb.ai/arturo-torres-iteso/VAE%20%2B%20DAE' target=\"_blank\">https://wandb.ai/arturo-torres-iteso/VAE%20%2B%20DAE</a><br>Synced 5 W&B file(s), 0 media file(s), 40 artifact file(s) and 0 other file(s)"
            ]
          },
          "metadata": {}
        },
        {
          "output_type": "display_data",
          "data": {
            "text/plain": [
              "<IPython.core.display.HTML object>"
            ],
            "text/html": [
              "Find logs at: <code>./wandb/run-20250318_022752-u8m7ohrj/logs</code>"
            ]
          },
          "metadata": {}
        }
      ]
    },
    {
      "cell_type": "code",
      "source": [
        "from tensorflow.keras import backend as K\n",
        "import gc\n",
        "\n",
        "del dae_model\n",
        "K.clear_session()\n",
        "gc.collect()"
      ],
      "metadata": {
        "colab": {
          "base_uri": "https://localhost:8080/"
        },
        "id": "E9ZY8kY_5RMc",
        "outputId": "d7f0520e-df2a-41c8-c13d-e6b61d180a35"
      },
      "execution_count": 22,
      "outputs": [
        {
          "output_type": "execute_result",
          "data": {
            "text/plain": [
              "0"
            ]
          },
          "metadata": {},
          "execution_count": 22
        }
      ]
    },
    {
      "cell_type": "markdown",
      "source": [
        "Esto es importante en Colab si vamos a crear/entrenar otro modelo grande (como el VAE) a continuación, para no agotar la VRAM."
      ],
      "metadata": {
        "id": "3Qxu1Djc5Wu0"
      }
    },
    {
      "cell_type": "markdown",
      "source": [
        "\n",
        "## 3. Variational Autoencoder (VAE)\n",
        "Ahora implementaremos un **Autoencoder Variacional** para generación de imágenes. A diferencia del autoencoder tradicional, el VAE aprende una **distribución latente** de la cual podemos samplear para generar imágenes nuevas. Incluiremos la evaluación de la calidad de generación usando una métrica personalizada **Mean and Variance Distance (MVD)**, optimizaremos la implementación para usar menos memoria en GPU y también registraremos este experimento en W&B.\n",
        "\n",
        "### 3.1 Arquitectura del VAE\n",
        "Un VAE consta de tres partes principales:\n",
        "- **Encoder**: similar a un autoencoder normal, pero en lugar de producir directamente una codificación fija, genera dos vectores de tamaño `latent_dim`: uno de medias (`z_mean`) y otro de desviaciones estándar implícitas (`z_log_var`) que definen una distribución Gaussiana en el espacio latente.\n",
        "- **Muestreador latente**: un paso intermedio que aplica la *reparametrización*. A partir de `z_mean` y `z_log_var`, se genera un vector latente `z = z_mean + sigma * epsilon`, donde `epsilon` es ruido gaussiano. Este truco permite que el gradiente se propague a través de la operación de muestreo.\n",
        "- **Decoder**: toma un vector latente `z` y produce la imagen reconstruida (o generada) correspondiente, intentando aproximar la distribución de las imágenes reales.\n",
        "\n",
        "Definimos la arquitectura con capas convolucionales en el encoder y decoder, aprovechando la estructura ya utilizada en el DAE. Usaremos un tamaño de dimensión latente (`latent_dim`) para el espacio oculto.\n"
      ],
      "metadata": {
        "id": "R5gssI7r5X_c"
      }
    },
    {
      "cell_type": "code",
      "source": [
        "from tensorflow.keras import backend as K\n",
        "\n",
        "latent_dim = 64  # dimensión del espacio latente\n",
        "\n",
        "# Encoder\n",
        "enc_input = Input(shape=(IMG_SIZE, IMG_SIZE, 3), name=\"encoder_input\")\n",
        "x = layers.Conv2D(32, (3,3), activation='relu', padding='same')(enc_input)\n",
        "x = layers.MaxPool2D((2,2))(x)  # 64->32\n",
        "x = layers.Conv2D(64, (3,3), activation='relu', padding='same')(x)\n",
        "x = layers.MaxPool2D((2,2))(x)  # 32->16\n",
        "x = layers.Conv2D(128, (3,3), activation='relu', padding='same')(x)\n",
        "x = layers.MaxPool2D((2,2))(x)  # 16->8\n",
        "x = layers.Flatten()(x)\n",
        "x = layers.Dense(256, activation='relu')(x)\n",
        "# Obtener parámetros de la distribución latente\n",
        "z_mean = layers.Dense(latent_dim, name=\"z_mean\")(x)\n",
        "z_log_var = layers.Dense(latent_dim, name=\"z_log_var\")(x)\n",
        "\n",
        "# Capa de muestreo (reparametrización)\n",
        "def sampling(z_mean, z_log_var):\n",
        "    epsilon = tf.random.normal(shape=(tf.shape(z_mean)[0], latent_dim))\n",
        "    return z_mean + tf.exp(0.5 * z_log_var) * epsilon\n",
        "\n",
        "# Usar Lambda layer para integrar la función de muestreo en el modelo\n",
        "z = layers.Lambda(lambda args: sampling(args[0], args[1]), output_shape=(latent_dim,), name=\"z\")([z_mean, z_log_var])\n",
        "\n",
        "# Decoder\n",
        "dec_input = Input(shape=(latent_dim,), name=\"decoder_input\")\n",
        "y = layers.Dense(8 * 8 * 128, activation='relu')(dec_input)\n",
        "y = layers.Reshape((8, 8, 128))(y)\n",
        "y = layers.Conv2DTranspose(128, (3,3), activation='relu', padding='same', strides=(2,2))(y)  # 8->16\n",
        "y = layers.Conv2DTranspose(64, (3,3), activation='relu', padding='same', strides=(2,2))(y)    # 16->32\n",
        "y = layers.Conv2DTranspose(32, (3,3), activation='relu', padding='same', strides=(2,2))(y)    # 32->64\n",
        "y_output = layers.Conv2D(3, (3,3), activation='sigmoid', padding='same', name=\"decoder_output\")(y)\n",
        "\n",
        "# Definir modelo encoder, modelo decoder y modelo VAE completo\n",
        "encoder = Model(enc_input, [z_mean, z_log_var, z], name=\"Encoder\")\n",
        "decoder = Model(dec_input, y_output, name=\"Decoder\")\n",
        "vae_output = decoder(z)  # salida del VAE al pasar z muestreado por el decoder\n",
        "vae_model = Model(enc_input, vae_output, name=\"VAE\")\n",
        "vae_model.summary()"
      ],
      "metadata": {
        "colab": {
          "base_uri": "https://localhost:8080/",
          "height": 650
        },
        "id": "BpReGjks5fBv",
        "outputId": "47a14d3b-ba0d-4a0a-8f7d-656bb480190f"
      },
      "execution_count": 23,
      "outputs": [
        {
          "output_type": "display_data",
          "data": {
            "text/plain": [
              "\u001b[1mModel: \"VAE\"\u001b[0m\n"
            ],
            "text/html": [
              "<pre style=\"white-space:pre;overflow-x:auto;line-height:normal;font-family:Menlo,'DejaVu Sans Mono',consolas,'Courier New',monospace\"><span style=\"font-weight: bold\">Model: \"VAE\"</span>\n",
              "</pre>\n"
            ]
          },
          "metadata": {}
        },
        {
          "output_type": "display_data",
          "data": {
            "text/plain": [
              "┏━━━━━━━━━━━━━━━━━━━━━━━━━━━┳━━━━━━━━━━━━━━━━━━━━━━━━┳━━━━━━━━━━━━━━━━┳━━━━━━━━━━━━━━━━━━━━━━━━┓\n",
              "┃\u001b[1m \u001b[0m\u001b[1mLayer (type)             \u001b[0m\u001b[1m \u001b[0m┃\u001b[1m \u001b[0m\u001b[1mOutput Shape          \u001b[0m\u001b[1m \u001b[0m┃\u001b[1m \u001b[0m\u001b[1m       Param #\u001b[0m\u001b[1m \u001b[0m┃\u001b[1m \u001b[0m\u001b[1mConnected to          \u001b[0m\u001b[1m \u001b[0m┃\n",
              "┡━━━━━━━━━━━━━━━━━━━━━━━━━━━╇━━━━━━━━━━━━━━━━━━━━━━━━╇━━━━━━━━━━━━━━━━╇━━━━━━━━━━━━━━━━━━━━━━━━┩\n",
              "│ encoder_input             │ (\u001b[38;5;45mNone\u001b[0m, \u001b[38;5;34m64\u001b[0m, \u001b[38;5;34m64\u001b[0m, \u001b[38;5;34m3\u001b[0m)      │              \u001b[38;5;34m0\u001b[0m │ -                      │\n",
              "│ (\u001b[38;5;33mInputLayer\u001b[0m)              │                        │                │                        │\n",
              "├───────────────────────────┼────────────────────────┼────────────────┼────────────────────────┤\n",
              "│ conv2d (\u001b[38;5;33mConv2D\u001b[0m)           │ (\u001b[38;5;45mNone\u001b[0m, \u001b[38;5;34m64\u001b[0m, \u001b[38;5;34m64\u001b[0m, \u001b[38;5;34m32\u001b[0m)     │            \u001b[38;5;34m896\u001b[0m │ encoder_input[\u001b[38;5;34m0\u001b[0m][\u001b[38;5;34m0\u001b[0m]    │\n",
              "├───────────────────────────┼────────────────────────┼────────────────┼────────────────────────┤\n",
              "│ max_pooling2d             │ (\u001b[38;5;45mNone\u001b[0m, \u001b[38;5;34m32\u001b[0m, \u001b[38;5;34m32\u001b[0m, \u001b[38;5;34m32\u001b[0m)     │              \u001b[38;5;34m0\u001b[0m │ conv2d[\u001b[38;5;34m0\u001b[0m][\u001b[38;5;34m0\u001b[0m]           │\n",
              "│ (\u001b[38;5;33mMaxPooling2D\u001b[0m)            │                        │                │                        │\n",
              "├───────────────────────────┼────────────────────────┼────────────────┼────────────────────────┤\n",
              "│ conv2d_1 (\u001b[38;5;33mConv2D\u001b[0m)         │ (\u001b[38;5;45mNone\u001b[0m, \u001b[38;5;34m32\u001b[0m, \u001b[38;5;34m32\u001b[0m, \u001b[38;5;34m64\u001b[0m)     │         \u001b[38;5;34m18,496\u001b[0m │ max_pooling2d[\u001b[38;5;34m0\u001b[0m][\u001b[38;5;34m0\u001b[0m]    │\n",
              "├───────────────────────────┼────────────────────────┼────────────────┼────────────────────────┤\n",
              "│ max_pooling2d_1           │ (\u001b[38;5;45mNone\u001b[0m, \u001b[38;5;34m16\u001b[0m, \u001b[38;5;34m16\u001b[0m, \u001b[38;5;34m64\u001b[0m)     │              \u001b[38;5;34m0\u001b[0m │ conv2d_1[\u001b[38;5;34m0\u001b[0m][\u001b[38;5;34m0\u001b[0m]         │\n",
              "│ (\u001b[38;5;33mMaxPooling2D\u001b[0m)            │                        │                │                        │\n",
              "├───────────────────────────┼────────────────────────┼────────────────┼────────────────────────┤\n",
              "│ conv2d_2 (\u001b[38;5;33mConv2D\u001b[0m)         │ (\u001b[38;5;45mNone\u001b[0m, \u001b[38;5;34m16\u001b[0m, \u001b[38;5;34m16\u001b[0m, \u001b[38;5;34m128\u001b[0m)    │         \u001b[38;5;34m73,856\u001b[0m │ max_pooling2d_1[\u001b[38;5;34m0\u001b[0m][\u001b[38;5;34m0\u001b[0m]  │\n",
              "├───────────────────────────┼────────────────────────┼────────────────┼────────────────────────┤\n",
              "│ max_pooling2d_2           │ (\u001b[38;5;45mNone\u001b[0m, \u001b[38;5;34m8\u001b[0m, \u001b[38;5;34m8\u001b[0m, \u001b[38;5;34m128\u001b[0m)      │              \u001b[38;5;34m0\u001b[0m │ conv2d_2[\u001b[38;5;34m0\u001b[0m][\u001b[38;5;34m0\u001b[0m]         │\n",
              "│ (\u001b[38;5;33mMaxPooling2D\u001b[0m)            │                        │                │                        │\n",
              "├───────────────────────────┼────────────────────────┼────────────────┼────────────────────────┤\n",
              "│ flatten (\u001b[38;5;33mFlatten\u001b[0m)         │ (\u001b[38;5;45mNone\u001b[0m, \u001b[38;5;34m8192\u001b[0m)           │              \u001b[38;5;34m0\u001b[0m │ max_pooling2d_2[\u001b[38;5;34m0\u001b[0m][\u001b[38;5;34m0\u001b[0m]  │\n",
              "├───────────────────────────┼────────────────────────┼────────────────┼────────────────────────┤\n",
              "│ dense (\u001b[38;5;33mDense\u001b[0m)             │ (\u001b[38;5;45mNone\u001b[0m, \u001b[38;5;34m256\u001b[0m)            │      \u001b[38;5;34m2,097,408\u001b[0m │ flatten[\u001b[38;5;34m0\u001b[0m][\u001b[38;5;34m0\u001b[0m]          │\n",
              "├───────────────────────────┼────────────────────────┼────────────────┼────────────────────────┤\n",
              "│ z_mean (\u001b[38;5;33mDense\u001b[0m)            │ (\u001b[38;5;45mNone\u001b[0m, \u001b[38;5;34m64\u001b[0m)             │         \u001b[38;5;34m16,448\u001b[0m │ dense[\u001b[38;5;34m0\u001b[0m][\u001b[38;5;34m0\u001b[0m]            │\n",
              "├───────────────────────────┼────────────────────────┼────────────────┼────────────────────────┤\n",
              "│ z_log_var (\u001b[38;5;33mDense\u001b[0m)         │ (\u001b[38;5;45mNone\u001b[0m, \u001b[38;5;34m64\u001b[0m)             │         \u001b[38;5;34m16,448\u001b[0m │ dense[\u001b[38;5;34m0\u001b[0m][\u001b[38;5;34m0\u001b[0m]            │\n",
              "├───────────────────────────┼────────────────────────┼────────────────┼────────────────────────┤\n",
              "│ z (\u001b[38;5;33mLambda\u001b[0m)                │ (\u001b[38;5;45mNone\u001b[0m, \u001b[38;5;34m64\u001b[0m)             │              \u001b[38;5;34m0\u001b[0m │ z_mean[\u001b[38;5;34m0\u001b[0m][\u001b[38;5;34m0\u001b[0m],          │\n",
              "│                           │                        │                │ z_log_var[\u001b[38;5;34m0\u001b[0m][\u001b[38;5;34m0\u001b[0m]        │\n",
              "├───────────────────────────┼────────────────────────┼────────────────┼────────────────────────┤\n",
              "│ Decoder (\u001b[38;5;33mFunctional\u001b[0m)      │ (\u001b[38;5;45mNone\u001b[0m, \u001b[38;5;34m64\u001b[0m, \u001b[38;5;34m64\u001b[0m, \u001b[38;5;34m3\u001b[0m)      │        \u001b[38;5;34m773,187\u001b[0m │ z[\u001b[38;5;34m0\u001b[0m][\u001b[38;5;34m0\u001b[0m]                │\n",
              "└───────────────────────────┴────────────────────────┴────────────────┴────────────────────────┘\n"
            ],
            "text/html": [
              "<pre style=\"white-space:pre;overflow-x:auto;line-height:normal;font-family:Menlo,'DejaVu Sans Mono',consolas,'Courier New',monospace\">┏━━━━━━━━━━━━━━━━━━━━━━━━━━━┳━━━━━━━━━━━━━━━━━━━━━━━━┳━━━━━━━━━━━━━━━━┳━━━━━━━━━━━━━━━━━━━━━━━━┓\n",
              "┃<span style=\"font-weight: bold\"> Layer (type)              </span>┃<span style=\"font-weight: bold\"> Output Shape           </span>┃<span style=\"font-weight: bold\">        Param # </span>┃<span style=\"font-weight: bold\"> Connected to           </span>┃\n",
              "┡━━━━━━━━━━━━━━━━━━━━━━━━━━━╇━━━━━━━━━━━━━━━━━━━━━━━━╇━━━━━━━━━━━━━━━━╇━━━━━━━━━━━━━━━━━━━━━━━━┩\n",
              "│ encoder_input             │ (<span style=\"color: #00d7ff; text-decoration-color: #00d7ff\">None</span>, <span style=\"color: #00af00; text-decoration-color: #00af00\">64</span>, <span style=\"color: #00af00; text-decoration-color: #00af00\">64</span>, <span style=\"color: #00af00; text-decoration-color: #00af00\">3</span>)      │              <span style=\"color: #00af00; text-decoration-color: #00af00\">0</span> │ -                      │\n",
              "│ (<span style=\"color: #0087ff; text-decoration-color: #0087ff\">InputLayer</span>)              │                        │                │                        │\n",
              "├───────────────────────────┼────────────────────────┼────────────────┼────────────────────────┤\n",
              "│ conv2d (<span style=\"color: #0087ff; text-decoration-color: #0087ff\">Conv2D</span>)           │ (<span style=\"color: #00d7ff; text-decoration-color: #00d7ff\">None</span>, <span style=\"color: #00af00; text-decoration-color: #00af00\">64</span>, <span style=\"color: #00af00; text-decoration-color: #00af00\">64</span>, <span style=\"color: #00af00; text-decoration-color: #00af00\">32</span>)     │            <span style=\"color: #00af00; text-decoration-color: #00af00\">896</span> │ encoder_input[<span style=\"color: #00af00; text-decoration-color: #00af00\">0</span>][<span style=\"color: #00af00; text-decoration-color: #00af00\">0</span>]    │\n",
              "├───────────────────────────┼────────────────────────┼────────────────┼────────────────────────┤\n",
              "│ max_pooling2d             │ (<span style=\"color: #00d7ff; text-decoration-color: #00d7ff\">None</span>, <span style=\"color: #00af00; text-decoration-color: #00af00\">32</span>, <span style=\"color: #00af00; text-decoration-color: #00af00\">32</span>, <span style=\"color: #00af00; text-decoration-color: #00af00\">32</span>)     │              <span style=\"color: #00af00; text-decoration-color: #00af00\">0</span> │ conv2d[<span style=\"color: #00af00; text-decoration-color: #00af00\">0</span>][<span style=\"color: #00af00; text-decoration-color: #00af00\">0</span>]           │\n",
              "│ (<span style=\"color: #0087ff; text-decoration-color: #0087ff\">MaxPooling2D</span>)            │                        │                │                        │\n",
              "├───────────────────────────┼────────────────────────┼────────────────┼────────────────────────┤\n",
              "│ conv2d_1 (<span style=\"color: #0087ff; text-decoration-color: #0087ff\">Conv2D</span>)         │ (<span style=\"color: #00d7ff; text-decoration-color: #00d7ff\">None</span>, <span style=\"color: #00af00; text-decoration-color: #00af00\">32</span>, <span style=\"color: #00af00; text-decoration-color: #00af00\">32</span>, <span style=\"color: #00af00; text-decoration-color: #00af00\">64</span>)     │         <span style=\"color: #00af00; text-decoration-color: #00af00\">18,496</span> │ max_pooling2d[<span style=\"color: #00af00; text-decoration-color: #00af00\">0</span>][<span style=\"color: #00af00; text-decoration-color: #00af00\">0</span>]    │\n",
              "├───────────────────────────┼────────────────────────┼────────────────┼────────────────────────┤\n",
              "│ max_pooling2d_1           │ (<span style=\"color: #00d7ff; text-decoration-color: #00d7ff\">None</span>, <span style=\"color: #00af00; text-decoration-color: #00af00\">16</span>, <span style=\"color: #00af00; text-decoration-color: #00af00\">16</span>, <span style=\"color: #00af00; text-decoration-color: #00af00\">64</span>)     │              <span style=\"color: #00af00; text-decoration-color: #00af00\">0</span> │ conv2d_1[<span style=\"color: #00af00; text-decoration-color: #00af00\">0</span>][<span style=\"color: #00af00; text-decoration-color: #00af00\">0</span>]         │\n",
              "│ (<span style=\"color: #0087ff; text-decoration-color: #0087ff\">MaxPooling2D</span>)            │                        │                │                        │\n",
              "├───────────────────────────┼────────────────────────┼────────────────┼────────────────────────┤\n",
              "│ conv2d_2 (<span style=\"color: #0087ff; text-decoration-color: #0087ff\">Conv2D</span>)         │ (<span style=\"color: #00d7ff; text-decoration-color: #00d7ff\">None</span>, <span style=\"color: #00af00; text-decoration-color: #00af00\">16</span>, <span style=\"color: #00af00; text-decoration-color: #00af00\">16</span>, <span style=\"color: #00af00; text-decoration-color: #00af00\">128</span>)    │         <span style=\"color: #00af00; text-decoration-color: #00af00\">73,856</span> │ max_pooling2d_1[<span style=\"color: #00af00; text-decoration-color: #00af00\">0</span>][<span style=\"color: #00af00; text-decoration-color: #00af00\">0</span>]  │\n",
              "├───────────────────────────┼────────────────────────┼────────────────┼────────────────────────┤\n",
              "│ max_pooling2d_2           │ (<span style=\"color: #00d7ff; text-decoration-color: #00d7ff\">None</span>, <span style=\"color: #00af00; text-decoration-color: #00af00\">8</span>, <span style=\"color: #00af00; text-decoration-color: #00af00\">8</span>, <span style=\"color: #00af00; text-decoration-color: #00af00\">128</span>)      │              <span style=\"color: #00af00; text-decoration-color: #00af00\">0</span> │ conv2d_2[<span style=\"color: #00af00; text-decoration-color: #00af00\">0</span>][<span style=\"color: #00af00; text-decoration-color: #00af00\">0</span>]         │\n",
              "│ (<span style=\"color: #0087ff; text-decoration-color: #0087ff\">MaxPooling2D</span>)            │                        │                │                        │\n",
              "├───────────────────────────┼────────────────────────┼────────────────┼────────────────────────┤\n",
              "│ flatten (<span style=\"color: #0087ff; text-decoration-color: #0087ff\">Flatten</span>)         │ (<span style=\"color: #00d7ff; text-decoration-color: #00d7ff\">None</span>, <span style=\"color: #00af00; text-decoration-color: #00af00\">8192</span>)           │              <span style=\"color: #00af00; text-decoration-color: #00af00\">0</span> │ max_pooling2d_2[<span style=\"color: #00af00; text-decoration-color: #00af00\">0</span>][<span style=\"color: #00af00; text-decoration-color: #00af00\">0</span>]  │\n",
              "├───────────────────────────┼────────────────────────┼────────────────┼────────────────────────┤\n",
              "│ dense (<span style=\"color: #0087ff; text-decoration-color: #0087ff\">Dense</span>)             │ (<span style=\"color: #00d7ff; text-decoration-color: #00d7ff\">None</span>, <span style=\"color: #00af00; text-decoration-color: #00af00\">256</span>)            │      <span style=\"color: #00af00; text-decoration-color: #00af00\">2,097,408</span> │ flatten[<span style=\"color: #00af00; text-decoration-color: #00af00\">0</span>][<span style=\"color: #00af00; text-decoration-color: #00af00\">0</span>]          │\n",
              "├───────────────────────────┼────────────────────────┼────────────────┼────────────────────────┤\n",
              "│ z_mean (<span style=\"color: #0087ff; text-decoration-color: #0087ff\">Dense</span>)            │ (<span style=\"color: #00d7ff; text-decoration-color: #00d7ff\">None</span>, <span style=\"color: #00af00; text-decoration-color: #00af00\">64</span>)             │         <span style=\"color: #00af00; text-decoration-color: #00af00\">16,448</span> │ dense[<span style=\"color: #00af00; text-decoration-color: #00af00\">0</span>][<span style=\"color: #00af00; text-decoration-color: #00af00\">0</span>]            │\n",
              "├───────────────────────────┼────────────────────────┼────────────────┼────────────────────────┤\n",
              "│ z_log_var (<span style=\"color: #0087ff; text-decoration-color: #0087ff\">Dense</span>)         │ (<span style=\"color: #00d7ff; text-decoration-color: #00d7ff\">None</span>, <span style=\"color: #00af00; text-decoration-color: #00af00\">64</span>)             │         <span style=\"color: #00af00; text-decoration-color: #00af00\">16,448</span> │ dense[<span style=\"color: #00af00; text-decoration-color: #00af00\">0</span>][<span style=\"color: #00af00; text-decoration-color: #00af00\">0</span>]            │\n",
              "├───────────────────────────┼────────────────────────┼────────────────┼────────────────────────┤\n",
              "│ z (<span style=\"color: #0087ff; text-decoration-color: #0087ff\">Lambda</span>)                │ (<span style=\"color: #00d7ff; text-decoration-color: #00d7ff\">None</span>, <span style=\"color: #00af00; text-decoration-color: #00af00\">64</span>)             │              <span style=\"color: #00af00; text-decoration-color: #00af00\">0</span> │ z_mean[<span style=\"color: #00af00; text-decoration-color: #00af00\">0</span>][<span style=\"color: #00af00; text-decoration-color: #00af00\">0</span>],          │\n",
              "│                           │                        │                │ z_log_var[<span style=\"color: #00af00; text-decoration-color: #00af00\">0</span>][<span style=\"color: #00af00; text-decoration-color: #00af00\">0</span>]        │\n",
              "├───────────────────────────┼────────────────────────┼────────────────┼────────────────────────┤\n",
              "│ Decoder (<span style=\"color: #0087ff; text-decoration-color: #0087ff\">Functional</span>)      │ (<span style=\"color: #00d7ff; text-decoration-color: #00d7ff\">None</span>, <span style=\"color: #00af00; text-decoration-color: #00af00\">64</span>, <span style=\"color: #00af00; text-decoration-color: #00af00\">64</span>, <span style=\"color: #00af00; text-decoration-color: #00af00\">3</span>)      │        <span style=\"color: #00af00; text-decoration-color: #00af00\">773,187</span> │ z[<span style=\"color: #00af00; text-decoration-color: #00af00\">0</span>][<span style=\"color: #00af00; text-decoration-color: #00af00\">0</span>]                │\n",
              "└───────────────────────────┴────────────────────────┴────────────────┴────────────────────────┘\n",
              "</pre>\n"
            ]
          },
          "metadata": {}
        },
        {
          "output_type": "display_data",
          "data": {
            "text/plain": [
              "\u001b[1m Total params: \u001b[0m\u001b[38;5;34m2,996,739\u001b[0m (11.43 MB)\n"
            ],
            "text/html": [
              "<pre style=\"white-space:pre;overflow-x:auto;line-height:normal;font-family:Menlo,'DejaVu Sans Mono',consolas,'Courier New',monospace\"><span style=\"font-weight: bold\"> Total params: </span><span style=\"color: #00af00; text-decoration-color: #00af00\">2,996,739</span> (11.43 MB)\n",
              "</pre>\n"
            ]
          },
          "metadata": {}
        },
        {
          "output_type": "display_data",
          "data": {
            "text/plain": [
              "\u001b[1m Trainable params: \u001b[0m\u001b[38;5;34m2,996,739\u001b[0m (11.43 MB)\n"
            ],
            "text/html": [
              "<pre style=\"white-space:pre;overflow-x:auto;line-height:normal;font-family:Menlo,'DejaVu Sans Mono',consolas,'Courier New',monospace\"><span style=\"font-weight: bold\"> Trainable params: </span><span style=\"color: #00af00; text-decoration-color: #00af00\">2,996,739</span> (11.43 MB)\n",
              "</pre>\n"
            ]
          },
          "metadata": {}
        },
        {
          "output_type": "display_data",
          "data": {
            "text/plain": [
              "\u001b[1m Non-trainable params: \u001b[0m\u001b[38;5;34m0\u001b[0m (0.00 B)\n"
            ],
            "text/html": [
              "<pre style=\"white-space:pre;overflow-x:auto;line-height:normal;font-family:Menlo,'DejaVu Sans Mono',consolas,'Courier New',monospace\"><span style=\"font-weight: bold\"> Non-trainable params: </span><span style=\"color: #00af00; text-decoration-color: #00af00\">0</span> (0.00 B)\n",
              "</pre>\n"
            ]
          },
          "metadata": {}
        }
      ]
    },
    {
      "cell_type": "markdown",
      "source": [
        "Aquí:\n",
        "- El encoder comprime la imagen 64x64x3 gradualmente a un vector de longitud `latent_dim` (64), representando los parámetros de la distribución latente.\n",
        "- La función de muestreo (implementada con `Lambda`) toma `z_mean` y `z_log_var` para producir un *sample* `z`.\n",
        "- El decoder luego reconstruye la imagen a partir de `z`."
      ],
      "metadata": {
        "id": "WXZr_rPW5jDB"
      }
    },
    {
      "cell_type": "markdown",
      "source": [
        "### 3.2 Función de Pérdida del VAE\n",
        "El entrenamiento del VAE usa una pérdida compuesta:\n",
        "- **Pérdida de reconstrucción**: mide qué tan bien la imagen reconstruida coincide con la original (podemos usar entropía cruzada binaria o MSE).\n",
        "- **Pérdida KL (Kullback-Leibler)**: fuerza la distribución latente aproximada (definida por `z_mean` y `z_log_var`) a acercarse a una distribución normal estándar (0,1). La fórmula para un dato es:\n",
        "  \\( D_{KL}(q(z|x) || p(z)) = -\\frac{1}{2} \\sum_{i=1}^{latent\\_dim} (1 + \\log\\sigma_i^2 - \\mu_i^2 - \\sigma_i^2) \\)\n",
        "  donde \\(\\mu = z\\_mean\\) y \\(\\sigma^2 = \\exp(z\\_log\\_var)\\).\n",
        "\n",
        "Implementamos esta pérdida personalizada y la añadimos al modelo. Usaremos entropía cruzada binaria promedio por píxel como pérdida de reconstrucción (asumiendo las imágenes normalizadas pueden considerarse como probabilidades de pixel activado).\n"
      ],
      "metadata": {
        "id": "6HjRmpns5lMJ"
      }
    },
    {
      "cell_type": "code",
      "source": [
        "import tensorflow as tf\n",
        "from tensorflow.keras import Model\n",
        "from tensorflow.keras.losses import binary_crossentropy\n",
        "\n",
        "class VAEModel(Model):\n",
        "    def train_step(self, data):\n",
        "        # Se asume que data es (x, x) ya que las entradas y salidas son iguales\n",
        "        if isinstance(data, tuple):\n",
        "            x, _ = data\n",
        "        else:\n",
        "            x = data\n",
        "        with tf.GradientTape() as tape:\n",
        "            # Forward pass: obtener parámetros latentes y reconstrucción\n",
        "            z_mean, z_log_var, z = encoder(x)\n",
        "            reconstruction = decoder(z)\n",
        "            # Calcular pérdida de reconstrucción usando binary_crossentropy.\n",
        "            # Usamos axis=[1,2] ya que binary_crossentropy devuelve un tensor de forma (batch, height, width)\n",
        "            reconstruction_loss = tf.reduce_sum(binary_crossentropy(x, reconstruction), axis=[1,2])\n",
        "            # Calcular pérdida KL para forzar la distribución latente a N(0,1)\n",
        "            kl_loss = -0.5 * tf.reduce_sum(1 + z_log_var - tf.square(z_mean) - tf.exp(z_log_var), axis=1)\n",
        "            # Pérdida total: promedio sobre el batch\n",
        "            total_loss = tf.reduce_mean(reconstruction_loss + kl_loss)\n",
        "        # Calcular gradientes y aplicar actualización\n",
        "        grads = tape.gradient(total_loss, self.trainable_weights)\n",
        "        self.optimizer.apply_gradients(zip(grads, self.trainable_weights))\n",
        "        # Registrar la pérdida como métrica\n",
        "        return {\"loss\": total_loss}\n",
        "\n",
        "# Instanciar el modelo VAE usando la arquitectura ya definida (encoder y decoder previamente creados)\n",
        "vae_custom = VAEModel(inputs=enc_input, outputs=vae_output, name=\"VAE\")\n",
        "# Compilar el modelo con el optimizador\n",
        "vae_custom.compile(optimizer='adam')"
      ],
      "metadata": {
        "id": "T10tIyIo5oP5"
      },
      "execution_count": 30,
      "outputs": []
    },
    {
      "cell_type": "markdown",
      "source": [
        "**Nota:** Usamos `model.add_loss` porque la pérdida del VAE involucra tensores internos (`z_mean`, etc.) que no son directamente parte de `y_true` y `y_pred`. De este modo, Keras sabrá que debe minimizar `vae_loss` durante el entrenamiento, aunque `compile` no especifique explícitamente `loss`."
      ],
      "metadata": {
        "id": "YlrYahKo5sCe"
      }
    },
    {
      "cell_type": "markdown",
      "source": [
        "### 3.3 Entrenamiento del VAE con seguimiento en W&B\n",
        "Antes de entrenar, iniciamos un nuevo run en W&B para trackear el VAE:"
      ],
      "metadata": {
        "id": "SlwCC89z5wKP"
      }
    },
    {
      "cell_type": "code",
      "source": [
        "wandb.init(project=\"autoencoders_motos_autos\", name=\"VAE-training\", config={\n",
        "    \"epochs\": 30,\n",
        "    \"batch_size\": 32,\n",
        "    \"latent_dim\": latent_dim,\n",
        "    \"optimizer\": \"adam\",\n",
        "    \"recon_loss\": \"binary_crossentropy\",\n",
        "    \"kl_weight\": 1.0  # peso de la pérdida KL (1.0 por defecto)\n",
        "})"
      ],
      "metadata": {
        "colab": {
          "base_uri": "https://localhost:8080/",
          "height": 37
        },
        "id": "dxzp4Tiv5tV0",
        "outputId": "6e91d28f-7bb3-4b1a-9fe6-8b013875a6d1"
      },
      "execution_count": 31,
      "outputs": [
        {
          "output_type": "execute_result",
          "data": {
            "text/html": [
              "<button onClick=\"this.nextSibling.style.display='block';this.style.display='none';\">Display W&B run</button><iframe src='https://wandb.ai/diegomercadoc-iteso/autoencoders_motos_autos/runs/0o3dcven?jupyter=true' style='border:none;width:100%;height:420px;display:none;'></iframe>"
            ],
            "text/plain": [
              "<wandb.sdk.wandb_run.Run at 0x7949f038a250>"
            ]
          },
          "metadata": {},
          "execution_count": 31
        }
      ]
    },
    {
      "cell_type": "markdown",
      "source": [
        "Ahora entrenamos el VAE. Dado que es un modelo generativo no supervisado, usamos como entradas y salidas la misma imagen (como en un autoencoder estándar, pero recordemos que la pérdida especial ya está incorporada). Podemos reutilizar el mismo conjunto de entrenamiento `X_train` (imágenes originales sin ruido, porque el VAE se entrena para reproducir las mismas imágenes, no necesita ruido esta vez).\n",
        "\n",
        "Usaremos también el conjunto de validación para monitorear la pérdida en datos no entrenados."
      ],
      "metadata": {
        "id": "dgGQGBdC5yCV"
      }
    },
    {
      "cell_type": "code",
      "source": [
        "# Compilar el modelo usando una función de pérdida dummy, ya que en nuestro train_step calculamos la pérdida personalizada.\n",
        "vae_custom.compile(optimizer='adam', loss=lambda y_true, y_pred: 0.0)\n",
        "\n",
        "# Entrenar el modelo usando la instancia `vae_custom`\n",
        "EPOCHS_VAE = 30\n",
        "vae_history = vae_custom.fit(\n",
        "    X_train,   # Entradas\n",
        "    X_train,   # Salidas (dummy, pues la pérdida se calcula internamente en train_step)\n",
        "    epochs=EPOCHS_VAE,\n",
        "    batch_size=32,\n",
        "    validation_data=(X_val, X_val),\n",
        "    callbacks=[WandbMetricsLogger(), WandbModelCheckpoint(filepath=\"vae_model_best.keras\")]\n",
        ")"
      ],
      "metadata": {
        "colab": {
          "base_uri": "https://localhost:8080/"
        },
        "id": "oDLqAr8z52iJ",
        "outputId": "18adacde-089a-4411-a89b-8401e3b0be0e"
      },
      "execution_count": 33,
      "outputs": [
        {
          "output_type": "stream",
          "name": "stdout",
          "text": [
            "Epoch 1/30\n",
            "\u001b[1m5/5\u001b[0m \u001b[32m━━━━━━━━━━━━━━━━━━━━\u001b[0m\u001b[37m\u001b[0m \u001b[1m0s\u001b[0m 599ms/step - loss: 2837.7727"
          ]
        },
        {
          "output_type": "stream",
          "name": "stderr",
          "text": [
            "/usr/local/lib/python3.11/dist-packages/keras/src/saving/serialization_lib.py:390: UserWarning: The object being serialized includes a `lambda`. This is unsafe. In order to reload the object, you will have to pass `safe_mode=False` to the loading function. Please avoid using `lambda` in the future, and use named Python functions instead. This is the `lambda` being serialized: vae_custom.compile(optimizer='adam', loss=lambda y_true, y_pred: 0.0)\n",
            "\n",
            "  return {key: serialize_keras_object(value) for key, value in obj.items()}\n"
          ]
        },
        {
          "output_type": "stream",
          "name": "stdout",
          "text": [
            "\b\b\b\b\b\b\b\b\b\b\b\b\b\b\b\b\b\b\b\b\b\b\b\b\b\b\b\b\b\b\b\b\b\b\b\b\b\b\b\b\b\b\b\b\b\b\b\b\b\b\b\b\b\b\b\b\r\u001b[1m5/5\u001b[0m \u001b[32m━━━━━━━━━━━━━━━━━━━━\u001b[0m\u001b[37m\u001b[0m \u001b[1m9s\u001b[0m 800ms/step - loss: 2364.8105 - val_loss: 0.0000e+00\n",
            "Epoch 2/30\n",
            "\u001b[1m5/5\u001b[0m \u001b[32m━━━━━━━━━━━━━━━━━━━━\u001b[0m\u001b[37m\u001b[0m \u001b[1m1s\u001b[0m 118ms/step - loss: 2363.9368 - val_loss: 0.0000e+00\n",
            "Epoch 3/30\n",
            "\u001b[1m5/5\u001b[0m \u001b[32m━━━━━━━━━━━━━━━━━━━━\u001b[0m\u001b[37m\u001b[0m \u001b[1m0s\u001b[0m 111ms/step - loss: 2362.7419 - val_loss: 0.0000e+00\n",
            "Epoch 4/30\n",
            "\u001b[1m5/5\u001b[0m \u001b[32m━━━━━━━━━━━━━━━━━━━━\u001b[0m\u001b[37m\u001b[0m \u001b[1m0s\u001b[0m 111ms/step - loss: 2356.6489 - val_loss: 0.0000e+00\n",
            "Epoch 5/30\n",
            "\u001b[1m5/5\u001b[0m \u001b[32m━━━━━━━━━━━━━━━━━━━━\u001b[0m\u001b[37m\u001b[0m \u001b[1m1s\u001b[0m 126ms/step - loss: 2347.7332 - val_loss: 0.0000e+00\n",
            "Epoch 6/30\n",
            "\u001b[1m5/5\u001b[0m \u001b[32m━━━━━━━━━━━━━━━━━━━━\u001b[0m\u001b[37m\u001b[0m \u001b[1m0s\u001b[0m 106ms/step - loss: 2334.4883 - val_loss: 0.0000e+00\n",
            "Epoch 7/30\n",
            "\u001b[1m5/5\u001b[0m \u001b[32m━━━━━━━━━━━━━━━━━━━━\u001b[0m\u001b[37m\u001b[0m \u001b[1m0s\u001b[0m 109ms/step - loss: 2309.6050 - val_loss: 0.0000e+00\n",
            "Epoch 8/30\n",
            "\u001b[1m5/5\u001b[0m \u001b[32m━━━━━━━━━━━━━━━━━━━━\u001b[0m\u001b[37m\u001b[0m \u001b[1m0s\u001b[0m 114ms/step - loss: 2221.2661 - val_loss: 0.0000e+00\n",
            "Epoch 9/30\n",
            "\u001b[1m5/5\u001b[0m \u001b[32m━━━━━━━━━━━━━━━━━━━━\u001b[0m\u001b[37m\u001b[0m \u001b[1m0s\u001b[0m 107ms/step - loss: 2272.7458 - val_loss: 0.0000e+00\n",
            "Epoch 10/30\n",
            "\u001b[1m5/5\u001b[0m \u001b[32m━━━━━━━━━━━━━━━━━━━━\u001b[0m\u001b[37m\u001b[0m \u001b[1m0s\u001b[0m 110ms/step - loss: 2239.4277 - val_loss: 0.0000e+00\n",
            "Epoch 11/30\n",
            "\u001b[1m5/5\u001b[0m \u001b[32m━━━━━━━━━━━━━━━━━━━━\u001b[0m\u001b[37m\u001b[0m \u001b[1m0s\u001b[0m 111ms/step - loss: 2216.1328 - val_loss: 0.0000e+00\n",
            "Epoch 12/30\n",
            "\u001b[1m5/5\u001b[0m \u001b[32m━━━━━━━━━━━━━━━━━━━━\u001b[0m\u001b[37m\u001b[0m \u001b[1m0s\u001b[0m 117ms/step - loss: 2148.4919 - val_loss: 0.0000e+00\n",
            "Epoch 13/30\n",
            "\u001b[1m5/5\u001b[0m \u001b[32m━━━━━━━━━━━━━━━━━━━━\u001b[0m\u001b[37m\u001b[0m \u001b[1m1s\u001b[0m 134ms/step - loss: 2132.9507 - val_loss: 0.0000e+00\n",
            "Epoch 14/30\n",
            "\u001b[1m5/5\u001b[0m \u001b[32m━━━━━━━━━━━━━━━━━━━━\u001b[0m\u001b[37m\u001b[0m \u001b[1m0s\u001b[0m 107ms/step - loss: 2093.2217 - val_loss: 0.0000e+00\n",
            "Epoch 15/30\n",
            "\u001b[1m5/5\u001b[0m \u001b[32m━━━━━━━━━━━━━━━━━━━━\u001b[0m\u001b[37m\u001b[0m \u001b[1m1s\u001b[0m 118ms/step - loss: 2083.8608 - val_loss: 0.0000e+00\n",
            "Epoch 16/30\n",
            "\u001b[1m5/5\u001b[0m \u001b[32m━━━━━━━━━━━━━━━━━━━━\u001b[0m\u001b[37m\u001b[0m \u001b[1m0s\u001b[0m 106ms/step - loss: 2063.6255 - val_loss: 0.0000e+00\n",
            "Epoch 17/30\n",
            "\u001b[1m5/5\u001b[0m \u001b[32m━━━━━━━━━━━━━━━━━━━━\u001b[0m\u001b[37m\u001b[0m \u001b[1m0s\u001b[0m 116ms/step - loss: 2034.5339 - val_loss: 0.0000e+00\n",
            "Epoch 18/30\n",
            "\u001b[1m5/5\u001b[0m \u001b[32m━━━━━━━━━━━━━━━━━━━━\u001b[0m\u001b[37m\u001b[0m \u001b[1m1s\u001b[0m 289ms/step - loss: 1992.1460 - val_loss: 0.0000e+00\n",
            "Epoch 19/30\n",
            "\u001b[1m5/5\u001b[0m \u001b[32m━━━━━━━━━━━━━━━━━━━━\u001b[0m\u001b[37m\u001b[0m \u001b[1m0s\u001b[0m 109ms/step - loss: 2003.6901 - val_loss: 0.0000e+00\n",
            "Epoch 20/30\n",
            "\u001b[1m5/5\u001b[0m \u001b[32m━━━━━━━━━━━━━━━━━━━━\u001b[0m\u001b[37m\u001b[0m \u001b[1m1s\u001b[0m 117ms/step - loss: 2021.9910 - val_loss: 0.0000e+00\n",
            "Epoch 21/30\n",
            "\u001b[1m5/5\u001b[0m \u001b[32m━━━━━━━━━━━━━━━━━━━━\u001b[0m\u001b[37m\u001b[0m \u001b[1m0s\u001b[0m 107ms/step - loss: 1983.8606 - val_loss: 0.0000e+00\n",
            "Epoch 22/30\n",
            "\u001b[1m5/5\u001b[0m \u001b[32m━━━━━━━━━━━━━━━━━━━━\u001b[0m\u001b[37m\u001b[0m \u001b[1m0s\u001b[0m 107ms/step - loss: 1987.2899 - val_loss: 0.0000e+00\n",
            "Epoch 23/30\n",
            "\u001b[1m5/5\u001b[0m \u001b[32m━━━━━━━━━━━━━━━━━━━━\u001b[0m\u001b[37m\u001b[0m \u001b[1m0s\u001b[0m 109ms/step - loss: 1975.3661 - val_loss: 0.0000e+00\n",
            "Epoch 24/30\n",
            "\u001b[1m5/5\u001b[0m \u001b[32m━━━━━━━━━━━━━━━━━━━━\u001b[0m\u001b[37m\u001b[0m \u001b[1m0s\u001b[0m 106ms/step - loss: 1943.9304 - val_loss: 0.0000e+00\n",
            "Epoch 25/30\n",
            "\u001b[1m5/5\u001b[0m \u001b[32m━━━━━━━━━━━━━━━━━━━━\u001b[0m\u001b[37m\u001b[0m \u001b[1m0s\u001b[0m 112ms/step - loss: 1942.5475 - val_loss: 0.0000e+00\n",
            "Epoch 26/30\n",
            "\u001b[1m5/5\u001b[0m \u001b[32m━━━━━━━━━━━━━━━━━━━━\u001b[0m\u001b[37m\u001b[0m \u001b[1m0s\u001b[0m 114ms/step - loss: 1933.9131 - val_loss: 0.0000e+00\n",
            "Epoch 27/30\n",
            "\u001b[1m5/5\u001b[0m \u001b[32m━━━━━━━━━━━━━━━━━━━━\u001b[0m\u001b[37m\u001b[0m \u001b[1m0s\u001b[0m 111ms/step - loss: 1950.4371 - val_loss: 0.0000e+00\n",
            "Epoch 28/30\n",
            "\u001b[1m5/5\u001b[0m \u001b[32m━━━━━━━━━━━━━━━━━━━━\u001b[0m\u001b[37m\u001b[0m \u001b[1m0s\u001b[0m 109ms/step - loss: 1930.9694 - val_loss: 0.0000e+00\n",
            "Epoch 29/30\n",
            "\u001b[1m5/5\u001b[0m \u001b[32m━━━━━━━━━━━━━━━━━━━━\u001b[0m\u001b[37m\u001b[0m \u001b[1m0s\u001b[0m 107ms/step - loss: 1908.5437 - val_loss: 0.0000e+00\n",
            "Epoch 30/30\n",
            "\u001b[1m5/5\u001b[0m \u001b[32m━━━━━━━━━━━━━━━━━━━━\u001b[0m\u001b[37m\u001b[0m \u001b[1m0s\u001b[0m 112ms/step - loss: 1920.9196 - val_loss: 0.0000e+00\n"
          ]
        }
      ]
    },
    {
      "cell_type": "markdown",
      "source": [
        "W&B registrará la pérdida total del VAE por época. (Si quisiéramos separar reconstrucción y KL, tendríamos que personalizar más el callback o entrenamiento, pero nos enfocaremos en la pérdida combinada).\n"
      ],
      "metadata": {
        "id": "39myJvOA54Ro"
      }
    },
    {
      "cell_type": "markdown",
      "source": [
        "\n",
        "### 3.4 Evaluación de generación de imágenes con MVD\n",
        "Con el VAE entrenado, podemos **generar imágenes nuevas** muestreando vectores latentes aleatorios y pasándolos por el decoder. Para evaluar qué tan realistas o cercanas a las imágenes verdaderas son estas generaciones, usaremos la métrica **Mean and Variance Distance (MVD)**.\n",
        "\n",
        "La idea de MVD es comparar la distribución estadística básica (media y varianza de los pixeles) entre las imágenes generadas y las imágenes reales. Una diferencia pequeña indicaría que, en promedio, las imágenes sintéticas comparten similitudes globales con las reales en cuanto a brillo/contraste.\n",
        "\n",
        "Implementaremos la métrica MVD de la siguiente forma:\n",
        "1. Generar un conjunto de imágenes sintéticas con el VAE.\n",
        "2. Calcular la media y varianza de intensidades de pixel sobre este conjunto.\n",
        "3. Calcular la media y varianza de intensidades en un conjunto de imágenes reales de referencia.\n",
        "4. Definir MVD como la distancia euclidiana entre los pares (media, varianza) de ambas distribuciones, o también reportar por separado la diferencia de medias y de varianzas.\n",
        "\n",
        "Usaremos el conjunto de prueba como referencia de \"imágenes reales\" no vistas.\n"
      ],
      "metadata": {
        "id": "_LRrN5lS59pc"
      }
    },
    {
      "cell_type": "code",
      "source": [
        "# Generar imágenes sintéticas con el VAE\n",
        "num_generate = 100  # número de imágenes a generar para evaluación\n",
        "z_samples = np.random.normal(size=(num_generate, latent_dim))\n",
        "gen_images = decoder.predict(z_samples)\n",
        "\n",
        "# Aplanar los pixeles de las imágenes para calcular estadísticas\n",
        "gen_pixels = gen_images.reshape(-1, IMG_SIZE*IMG_SIZE*3)\n",
        "real_pixels = X_test.reshape(-1, IMG_SIZE*IMG_SIZE*3)\n",
        "\n",
        "# Calcular media y varianza (sobre todos los pixeles de todas las imágenes)\n",
        "mean_gen = np.mean(gen_pixels)\n",
        "var_gen = np.var(gen_pixels)\n",
        "mean_real = np.mean(real_pixels)\n",
        "var_real = np.var(real_pixels)\n",
        "\n",
        "# Calcular distancia de medias y varianzas\n",
        "mean_diff = abs(mean_real - mean_gen)\n",
        "var_diff = abs(var_real - var_gen)\n",
        "mvd_metric = np.sqrt((mean_real - mean_gen)**2 + (var_real - var_gen)**2)\n",
        "\n",
        "print(f\"Media (Real) = {mean_real:.4f}, Media (Generada) = {mean_gen:.4f}, Diferencia = {mean_diff:.4f}\")\n",
        "print(f\"Varianza (Real) = {var_real:.4f}, Varianza (Generada) = {var_gen:.4f}, Diferencia = {var_diff:.4f}\")\n",
        "print(f\"Mean & Variance Distance (MVD) = {mvd_metric:.4f}\")"
      ],
      "metadata": {
        "colab": {
          "base_uri": "https://localhost:8080/"
        },
        "id": "T6VbCx4e5_vI",
        "outputId": "136587b7-5e3c-4ba6-88bb-48c0b2427560"
      },
      "execution_count": 34,
      "outputs": [
        {
          "output_type": "stream",
          "name": "stdout",
          "text": [
            "\u001b[1m4/4\u001b[0m \u001b[32m━━━━━━━━━━━━━━━━━━━━\u001b[0m\u001b[37m\u001b[0m \u001b[1m1s\u001b[0m 144ms/step\n",
            "Media (Real) = 0.5050, Media (Generada) = 0.4635, Diferencia = 0.0414\n",
            "Varianza (Real) = 0.1017, Varianza (Generada) = 0.0121, Diferencia = 0.0897\n",
            "Mean & Variance Distance (MVD) = 0.0988\n"
          ]
        }
      ]
    },
    {
      "cell_type": "markdown",
      "source": [
        "\n",
        "Interpretación de resultados:\n",
        "- **Media (Real vs Generada)**: Deberían ser similares si el brillo promedio de las imágenes generadas se asemeja al de las reales.\n",
        "- **Varianza (Real vs Generada)**: Indica si el contraste o dispersión de pixeles es parecido en ambas.\n",
        "- **MVD**: Si es cercano a 0, significa que globalmente las imágenes generadas tienen estadísticamente similares intensidades que las reales (aunque esto no garantiza calidad visual, es una métrica simple para una idea rápida).\n",
        "\n",
        "Por ejemplo, un MVD muy alto podría indicar que las imágenes generadas son demasiado oscuras o claras en promedio, o demasiado contrastadas/planas en comparación con las reales.\n",
        "\n",
        "Finalmente, guardamos el modelo VAE entrenado (especialmente queremos guardar el decoder para generación):"
      ],
      "metadata": {
        "id": "m2H8m6R96Gk0"
      }
    },
    {
      "cell_type": "code",
      "source": [
        "# Guardar pesos del encoder y decoder por separado, o el modelo completo VAE\n",
        "encoder.save(\"vae_encoder.h5\")\n",
        "decoder.save(\"vae_decoder.h5\")\n",
        "vae_model.save(\"vae_complete.h5\")\n",
        "\n",
        "wandb.finish()  # terminar el run de W&B del VAE"
      ],
      "metadata": {
        "colab": {
          "base_uri": "https://localhost:8080/",
          "height": 509
        },
        "id": "Vy9-qNty6JSW",
        "outputId": "1c5013e8-857f-42df-c026-6cb226c7fb2c"
      },
      "execution_count": 35,
      "outputs": [
        {
          "output_type": "stream",
          "name": "stderr",
          "text": [
            "WARNING:absl:You are saving your model as an HDF5 file via `model.save()` or `keras.saving.save_model(model)`. This file format is considered legacy. We recommend using instead the native Keras format, e.g. `model.save('my_model.keras')` or `keras.saving.save_model(model, 'my_model.keras')`. \n",
            "WARNING:absl:You are saving your model as an HDF5 file via `model.save()` or `keras.saving.save_model(model)`. This file format is considered legacy. We recommend using instead the native Keras format, e.g. `model.save('my_model.keras')` or `keras.saving.save_model(model, 'my_model.keras')`. \n",
            "WARNING:absl:You are saving your model as an HDF5 file via `model.save()` or `keras.saving.save_model(model)`. This file format is considered legacy. We recommend using instead the native Keras format, e.g. `model.save('my_model.keras')` or `keras.saving.save_model(model, 'my_model.keras')`. \n"
          ]
        },
        {
          "output_type": "display_data",
          "data": {
            "text/plain": [
              "<IPython.core.display.HTML object>"
            ],
            "text/html": []
          },
          "metadata": {}
        },
        {
          "output_type": "display_data",
          "data": {
            "text/plain": [
              "<IPython.core.display.HTML object>"
            ],
            "text/html": [
              "<br>    <style><br>        .wandb-row {<br>            display: flex;<br>            flex-direction: row;<br>            flex-wrap: wrap;<br>            justify-content: flex-start;<br>            width: 100%;<br>        }<br>        .wandb-col {<br>            display: flex;<br>            flex-direction: column;<br>            flex-basis: 100%;<br>            flex: 1;<br>            padding: 10px;<br>        }<br>    </style><br><div class=\"wandb-row\"><div class=\"wandb-col\"><h3>Run history:</h3><br/><table class=\"wandb\"><tr><td>epoch/epoch</td><td>▁▁▁▂▂▂▂▃▃▃▃▄▄▄▄▅▅▅▅▆▆▆▆▇▇▇▇███</td></tr><tr><td>epoch/learning_rate</td><td>▁▁▁▁▁▁▁▁▁▁▁▁▁▁▁▁▁▁▁▁▁▁▁▁▁▁▁▁▁▁</td></tr><tr><td>epoch/loss</td><td>▁▁▁▁▁▁▁▁▁▁▁▁▁▁▁▁▁▁▁▁▁▁▁▁▁▁▁▁▁▁</td></tr><tr><td>epoch/val_loss</td><td>▁▁▁▁▁▁▁▁▁▁▁▁▁▁▁▁▁▁▁▁▁▁▁▁▁▁▁▁▁▁</td></tr></table><br/></div><div class=\"wandb-col\"><h3>Run summary:</h3><br/><table class=\"wandb\"><tr><td>epoch/epoch</td><td>29</td></tr><tr><td>epoch/learning_rate</td><td>0.001</td></tr><tr><td>epoch/loss</td><td>0</td></tr><tr><td>epoch/val_loss</td><td>0</td></tr></table><br/></div></div>"
            ]
          },
          "metadata": {}
        },
        {
          "output_type": "display_data",
          "data": {
            "text/plain": [
              "<IPython.core.display.HTML object>"
            ],
            "text/html": [
              " View run <strong style=\"color:#cdcd00\">VAE-training</strong> at: <a href='https://wandb.ai/diegomercadoc-iteso/autoencoders_motos_autos/runs/0o3dcven' target=\"_blank\">https://wandb.ai/diegomercadoc-iteso/autoencoders_motos_autos/runs/0o3dcven</a><br> View project at: <a href='https://wandb.ai/diegomercadoc-iteso/autoencoders_motos_autos' target=\"_blank\">https://wandb.ai/diegomercadoc-iteso/autoencoders_motos_autos</a><br>Synced 5 W&B file(s), 0 media file(s), 60 artifact file(s) and 0 other file(s)"
            ]
          },
          "metadata": {}
        },
        {
          "output_type": "display_data",
          "data": {
            "text/plain": [
              "<IPython.core.display.HTML object>"
            ],
            "text/html": [
              "Find logs at: <code>./wandb/run-20250318_024644-0o3dcven/logs</code>"
            ]
          },
          "metadata": {}
        }
      ]
    },
    {
      "cell_type": "markdown",
      "source": [
        " completado el entrenamiento y evaluación básica del VAE.\n",
        "\n",
        "*(Nota: Guardar el modelo completo con `model.save` en un VAE puede requerir custom objects debido a la Lambda; a veces es más seguro guardar pesos y arquitecturas por separado. Aquí lo incluimos por simplicidad.)*\n",
        "\n",
        "### 3.5 Optimización de Memoria en el VAE\n",
        "Entrenar VAEs puede consumir mucha memoria, especialmente con imágenes. Algunas estrategias aplicadas/consideradas:\n",
        "- **Batch Training**: ya implementado, entrenamos con batch de 32 en lugar de todo el conjunto a la vez.\n",
        "- **Reducción de complejidad**: escogimos un `latent_dim` relativamente moderado (64) y tamaño de imágenes 64x64 para mantener la red manejable.\n",
        "- **Limpieza de gráficos**: antes de crear el VAE, liberamos la memoria del modelo DAE (usando `clear_session()` y `gc.collect()`).\n",
        "- **Mixed Precision**: opcionalmente, podríamos habilitar cálculos en media precisión (float16) para reducir uso de memoria y acelerar en GPU:"
      ],
      "metadata": {
        "id": "9kC5z3k16OTz"
      }
    },
    {
      "cell_type": "code",
      "source": [
        "  # # Activar Mixed Precision (opcional, requiere GPU compatible)\n",
        "  # from tensorflow.keras.mixed_precision import experimental as mixed_precision\n",
        "\n",
        "  # policy = mixed_precision.Policy('mixed_float16')\n",
        "  # mixed_precision.set_policy(policy)"
      ],
      "metadata": {
        "colab": {
          "base_uri": "https://localhost:8080/",
          "height": 383
        },
        "id": "LE-M2Q9I6PKj",
        "outputId": "339ac8b3-a09d-400e-da8c-9e8a31d79783"
      },
      "execution_count": 36,
      "outputs": [
        {
          "output_type": "error",
          "ename": "ImportError",
          "evalue": "cannot import name 'experimental' from 'tensorflow.keras.mixed_precision' (/usr/local/lib/python3.11/dist-packages/keras/_tf_keras/keras/mixed_precision/__init__.py)",
          "traceback": [
            "\u001b[0;31m---------------------------------------------------------------------------\u001b[0m",
            "\u001b[0;31mImportError\u001b[0m                               Traceback (most recent call last)",
            "\u001b[0;32m<ipython-input-36-32a781c30c08>\u001b[0m in \u001b[0;36m<cell line: 0>\u001b[0;34m()\u001b[0m\n\u001b[1;32m      1\u001b[0m \u001b[0;31m# Activar Mixed Precision (opcional, requiere GPU compatible)\u001b[0m\u001b[0;34m\u001b[0m\u001b[0;34m\u001b[0m\u001b[0m\n\u001b[0;32m----> 2\u001b[0;31m \u001b[0;32mfrom\u001b[0m \u001b[0mtensorflow\u001b[0m\u001b[0;34m.\u001b[0m\u001b[0mkeras\u001b[0m\u001b[0;34m.\u001b[0m\u001b[0mmixed_precision\u001b[0m \u001b[0;32mimport\u001b[0m \u001b[0mexperimental\u001b[0m \u001b[0;32mas\u001b[0m \u001b[0mmixed_precision\u001b[0m\u001b[0;34m\u001b[0m\u001b[0;34m\u001b[0m\u001b[0m\n\u001b[0m\u001b[1;32m      3\u001b[0m \u001b[0;34m\u001b[0m\u001b[0m\n\u001b[1;32m      4\u001b[0m \u001b[0mpolicy\u001b[0m \u001b[0;34m=\u001b[0m \u001b[0mmixed_precision\u001b[0m\u001b[0;34m.\u001b[0m\u001b[0mPolicy\u001b[0m\u001b[0;34m(\u001b[0m\u001b[0;34m'mixed_float16'\u001b[0m\u001b[0;34m)\u001b[0m\u001b[0;34m\u001b[0m\u001b[0;34m\u001b[0m\u001b[0m\n\u001b[1;32m      5\u001b[0m \u001b[0mmixed_precision\u001b[0m\u001b[0;34m.\u001b[0m\u001b[0mset_policy\u001b[0m\u001b[0;34m(\u001b[0m\u001b[0mpolicy\u001b[0m\u001b[0;34m)\u001b[0m\u001b[0;34m\u001b[0m\u001b[0;34m\u001b[0m\u001b[0m\n",
            "\u001b[0;31mImportError\u001b[0m: cannot import name 'experimental' from 'tensorflow.keras.mixed_precision' (/usr/local/lib/python3.11/dist-packages/keras/_tf_keras/keras/mixed_precision/__init__.py)",
            "",
            "\u001b[0;31m---------------------------------------------------------------------------\u001b[0;32m\nNOTE: If your import is failing due to a missing package, you can\nmanually install dependencies using either !pip or !apt.\n\nTo view examples of installing some common dependencies, click the\n\"Open Examples\" button below.\n\u001b[0;31m---------------------------------------------------------------------------\u001b[0m\n"
          ],
          "errorDetails": {
            "actions": [
              {
                "action": "open_url",
                "actionText": "Open Examples",
                "url": "/notebooks/snippets/importing_libraries.ipynb"
              }
            ]
          }
        }
      ]
    },
    {
      "cell_type": "markdown",
      "source": [
        "\n",
        "Esto puede ahorrarnos memoria a costa de algo de precisión, útil en modelos grandes.\n",
        "- **Monitoreo**: usamos W&B para observar el uso de memoria (W&B puede registrar métricas del sistema) y asegurarnos de que no haya *leaks*.\n",
        "\n",
        "## 4. Demo Interactivo con Gradio\n",
        "En esta sección, crearemos una **interfaz web interactiva** usando Gradio para permitir probar nuestros modelos entrenados:\n",
        "- Probar el **DAE**: el usuario podrá ingresar una imagen (subir un archivo) y el sistema le añadirá ruido y luego la pasará por el DAE para mostrar la imagen *denoised*.\n",
        "- Probar el **VAE**: el usuario podrá generar imágenes nuevas, ya sea presionando un botón o eligiendo un valor de semilla para obtener una imagen aleatoria desde el modelo generativo.\n",
        "\n",
        "Finalmente mostraremos cómo desplegar esta aplicación en **Hugging Face Spaces**, incluyendo cómo autenticarse para subir el Space.\n",
        "\n",
        "### 4.1 Creación de la interfaz con Gradio\n",
        "Primero, instalamos Gradio si no está disponible:"
      ],
      "metadata": {
        "id": "0dimQNAw6Ucr"
      }
    },
    {
      "cell_type": "code",
      "source": [
        "#!pip install gradio"
      ],
      "metadata": {
        "colab": {
          "base_uri": "https://localhost:8080/",
          "height": 1000
        },
        "id": "oX3zk3DKLq9c",
        "outputId": "2232d6b9-d0b0-424c-e8cd-1336c0f26dc3"
      },
      "execution_count": 37,
      "outputs": [
        {
          "output_type": "stream",
          "name": "stdout",
          "text": [
            "Collecting gradio\n",
            "  Downloading gradio-5.21.0-py3-none-any.whl.metadata (16 kB)\n",
            "Collecting aiofiles<24.0,>=22.0 (from gradio)\n",
            "  Downloading aiofiles-23.2.1-py3-none-any.whl.metadata (9.7 kB)\n",
            "Requirement already satisfied: anyio<5.0,>=3.0 in /usr/local/lib/python3.11/dist-packages (from gradio) (3.7.1)\n",
            "Collecting fastapi<1.0,>=0.115.2 (from gradio)\n",
            "  Downloading fastapi-0.115.11-py3-none-any.whl.metadata (27 kB)\n",
            "Collecting ffmpy (from gradio)\n",
            "  Downloading ffmpy-0.5.0-py3-none-any.whl.metadata (3.0 kB)\n",
            "Collecting gradio-client==1.7.2 (from gradio)\n",
            "  Downloading gradio_client-1.7.2-py3-none-any.whl.metadata (7.1 kB)\n",
            "Collecting groovy~=0.1 (from gradio)\n",
            "  Downloading groovy-0.1.2-py3-none-any.whl.metadata (6.1 kB)\n",
            "Requirement already satisfied: httpx>=0.24.1 in /usr/local/lib/python3.11/dist-packages (from gradio) (0.28.1)\n",
            "Requirement already satisfied: huggingface-hub>=0.28.1 in /usr/local/lib/python3.11/dist-packages (from gradio) (0.28.1)\n",
            "Requirement already satisfied: jinja2<4.0 in /usr/local/lib/python3.11/dist-packages (from gradio) (3.1.6)\n",
            "Collecting markupsafe~=2.0 (from gradio)\n",
            "  Downloading MarkupSafe-2.1.5-cp311-cp311-manylinux_2_17_x86_64.manylinux2014_x86_64.whl.metadata (3.0 kB)\n",
            "Requirement already satisfied: numpy<3.0,>=1.0 in /usr/local/lib/python3.11/dist-packages (from gradio) (2.0.2)\n",
            "Requirement already satisfied: orjson~=3.0 in /usr/local/lib/python3.11/dist-packages (from gradio) (3.10.15)\n",
            "Requirement already satisfied: packaging in /usr/local/lib/python3.11/dist-packages (from gradio) (24.2)\n",
            "Requirement already satisfied: pandas<3.0,>=1.0 in /usr/local/lib/python3.11/dist-packages (from gradio) (2.2.2)\n",
            "Requirement already satisfied: pillow<12.0,>=8.0 in /usr/local/lib/python3.11/dist-packages (from gradio) (11.1.0)\n",
            "Requirement already satisfied: pydantic>=2.0 in /usr/local/lib/python3.11/dist-packages (from gradio) (2.10.6)\n",
            "Collecting pydub (from gradio)\n",
            "  Downloading pydub-0.25.1-py2.py3-none-any.whl.metadata (1.4 kB)\n",
            "Collecting python-multipart>=0.0.18 (from gradio)\n",
            "  Downloading python_multipart-0.0.20-py3-none-any.whl.metadata (1.8 kB)\n",
            "Requirement already satisfied: pyyaml<7.0,>=5.0 in /usr/local/lib/python3.11/dist-packages (from gradio) (6.0.2)\n",
            "Collecting ruff>=0.9.3 (from gradio)\n",
            "  Downloading ruff-0.11.0-py3-none-manylinux_2_17_x86_64.manylinux2014_x86_64.whl.metadata (25 kB)\n",
            "Collecting safehttpx<0.2.0,>=0.1.6 (from gradio)\n",
            "  Downloading safehttpx-0.1.6-py3-none-any.whl.metadata (4.2 kB)\n",
            "Collecting semantic-version~=2.0 (from gradio)\n",
            "  Downloading semantic_version-2.10.0-py2.py3-none-any.whl.metadata (9.7 kB)\n",
            "Collecting starlette<1.0,>=0.40.0 (from gradio)\n",
            "  Downloading starlette-0.46.1-py3-none-any.whl.metadata (6.2 kB)\n",
            "Collecting tomlkit<0.14.0,>=0.12.0 (from gradio)\n",
            "  Downloading tomlkit-0.13.2-py3-none-any.whl.metadata (2.7 kB)\n",
            "Requirement already satisfied: typer<1.0,>=0.12 in /usr/local/lib/python3.11/dist-packages (from gradio) (0.15.2)\n",
            "Requirement already satisfied: typing-extensions~=4.0 in /usr/local/lib/python3.11/dist-packages (from gradio) (4.12.2)\n",
            "Collecting uvicorn>=0.14.0 (from gradio)\n",
            "  Downloading uvicorn-0.34.0-py3-none-any.whl.metadata (6.5 kB)\n",
            "Requirement already satisfied: fsspec in /usr/local/lib/python3.11/dist-packages (from gradio-client==1.7.2->gradio) (2024.10.0)\n",
            "Requirement already satisfied: websockets<16.0,>=10.0 in /usr/local/lib/python3.11/dist-packages (from gradio-client==1.7.2->gradio) (14.2)\n",
            "Requirement already satisfied: idna>=2.8 in /usr/local/lib/python3.11/dist-packages (from anyio<5.0,>=3.0->gradio) (3.10)\n",
            "Requirement already satisfied: sniffio>=1.1 in /usr/local/lib/python3.11/dist-packages (from anyio<5.0,>=3.0->gradio) (1.3.1)\n",
            "Requirement already satisfied: certifi in /usr/local/lib/python3.11/dist-packages (from httpx>=0.24.1->gradio) (2025.1.31)\n",
            "Requirement already satisfied: httpcore==1.* in /usr/local/lib/python3.11/dist-packages (from httpx>=0.24.1->gradio) (1.0.7)\n",
            "Requirement already satisfied: h11<0.15,>=0.13 in /usr/local/lib/python3.11/dist-packages (from httpcore==1.*->httpx>=0.24.1->gradio) (0.14.0)\n",
            "Requirement already satisfied: filelock in /usr/local/lib/python3.11/dist-packages (from huggingface-hub>=0.28.1->gradio) (3.17.0)\n",
            "Requirement already satisfied: requests in /usr/local/lib/python3.11/dist-packages (from huggingface-hub>=0.28.1->gradio) (2.32.3)\n",
            "Requirement already satisfied: tqdm>=4.42.1 in /usr/local/lib/python3.11/dist-packages (from huggingface-hub>=0.28.1->gradio) (4.67.1)\n",
            "Requirement already satisfied: python-dateutil>=2.8.2 in /usr/local/lib/python3.11/dist-packages (from pandas<3.0,>=1.0->gradio) (2.8.2)\n",
            "Requirement already satisfied: pytz>=2020.1 in /usr/local/lib/python3.11/dist-packages (from pandas<3.0,>=1.0->gradio) (2025.1)\n",
            "Requirement already satisfied: tzdata>=2022.7 in /usr/local/lib/python3.11/dist-packages (from pandas<3.0,>=1.0->gradio) (2025.1)\n",
            "Requirement already satisfied: annotated-types>=0.6.0 in /usr/local/lib/python3.11/dist-packages (from pydantic>=2.0->gradio) (0.7.0)\n",
            "Requirement already satisfied: pydantic-core==2.27.2 in /usr/local/lib/python3.11/dist-packages (from pydantic>=2.0->gradio) (2.27.2)\n",
            "Requirement already satisfied: click>=8.0.0 in /usr/local/lib/python3.11/dist-packages (from typer<1.0,>=0.12->gradio) (8.1.8)\n",
            "Requirement already satisfied: shellingham>=1.3.0 in /usr/local/lib/python3.11/dist-packages (from typer<1.0,>=0.12->gradio) (1.5.4)\n",
            "Requirement already satisfied: rich>=10.11.0 in /usr/local/lib/python3.11/dist-packages (from typer<1.0,>=0.12->gradio) (13.9.4)\n",
            "Requirement already satisfied: six>=1.5 in /usr/local/lib/python3.11/dist-packages (from python-dateutil>=2.8.2->pandas<3.0,>=1.0->gradio) (1.17.0)\n",
            "Requirement already satisfied: markdown-it-py>=2.2.0 in /usr/local/lib/python3.11/dist-packages (from rich>=10.11.0->typer<1.0,>=0.12->gradio) (3.0.0)\n",
            "Requirement already satisfied: pygments<3.0.0,>=2.13.0 in /usr/local/lib/python3.11/dist-packages (from rich>=10.11.0->typer<1.0,>=0.12->gradio) (2.18.0)\n",
            "Requirement already satisfied: charset-normalizer<4,>=2 in /usr/local/lib/python3.11/dist-packages (from requests->huggingface-hub>=0.28.1->gradio) (3.4.1)\n",
            "Requirement already satisfied: urllib3<3,>=1.21.1 in /usr/local/lib/python3.11/dist-packages (from requests->huggingface-hub>=0.28.1->gradio) (2.3.0)\n",
            "Requirement already satisfied: mdurl~=0.1 in /usr/local/lib/python3.11/dist-packages (from markdown-it-py>=2.2.0->rich>=10.11.0->typer<1.0,>=0.12->gradio) (0.1.2)\n",
            "Downloading gradio-5.21.0-py3-none-any.whl (46.2 MB)\n",
            "\u001b[2K   \u001b[90m━━━━━━━━━━━━━━━━━━━━━━━━━━━━━━━━━━━━━━━━\u001b[0m \u001b[32m46.2/46.2 MB\u001b[0m \u001b[31m36.2 MB/s\u001b[0m eta \u001b[36m0:00:00\u001b[0m\n",
            "\u001b[?25hDownloading gradio_client-1.7.2-py3-none-any.whl (322 kB)\n",
            "\u001b[2K   \u001b[90m━━━━━━━━━━━━━━━━━━━━━━━━━━━━━━━━━━━━━━━━\u001b[0m \u001b[32m322.1/322.1 kB\u001b[0m \u001b[31m31.8 MB/s\u001b[0m eta \u001b[36m0:00:00\u001b[0m\n",
            "\u001b[?25hDownloading aiofiles-23.2.1-py3-none-any.whl (15 kB)\n",
            "Downloading fastapi-0.115.11-py3-none-any.whl (94 kB)\n",
            "\u001b[2K   \u001b[90m━━━━━━━━━━━━━━━━━━━━━━━━━━━━━━━━━━━━━━━━\u001b[0m \u001b[32m94.9/94.9 kB\u001b[0m \u001b[31m9.9 MB/s\u001b[0m eta \u001b[36m0:00:00\u001b[0m\n",
            "\u001b[?25hDownloading groovy-0.1.2-py3-none-any.whl (14 kB)\n",
            "Downloading MarkupSafe-2.1.5-cp311-cp311-manylinux_2_17_x86_64.manylinux2014_x86_64.whl (28 kB)\n",
            "Downloading python_multipart-0.0.20-py3-none-any.whl (24 kB)\n",
            "Downloading ruff-0.11.0-py3-none-manylinux_2_17_x86_64.manylinux2014_x86_64.whl (11.3 MB)\n",
            "\u001b[2K   \u001b[90m━━━━━━━━━━━━━━━━━━━━━━━━━━━━━━━━━━━━━━━━\u001b[0m \u001b[32m11.3/11.3 MB\u001b[0m \u001b[31m107.4 MB/s\u001b[0m eta \u001b[36m0:00:00\u001b[0m\n",
            "\u001b[?25hDownloading safehttpx-0.1.6-py3-none-any.whl (8.7 kB)\n",
            "Downloading semantic_version-2.10.0-py2.py3-none-any.whl (15 kB)\n",
            "Downloading starlette-0.46.1-py3-none-any.whl (71 kB)\n",
            "\u001b[2K   \u001b[90m━━━━━━━━━━━━━━━━━━━━━━━━━━━━━━━━━━━━━━━━\u001b[0m \u001b[32m72.0/72.0 kB\u001b[0m \u001b[31m7.6 MB/s\u001b[0m eta \u001b[36m0:00:00\u001b[0m\n",
            "\u001b[?25hDownloading tomlkit-0.13.2-py3-none-any.whl (37 kB)\n",
            "Downloading uvicorn-0.34.0-py3-none-any.whl (62 kB)\n",
            "\u001b[2K   \u001b[90m━━━━━━━━━━━━━━━━━━━━━━━━━━━━━━━━━━━━━━━━\u001b[0m \u001b[32m62.3/62.3 kB\u001b[0m \u001b[31m6.5 MB/s\u001b[0m eta \u001b[36m0:00:00\u001b[0m\n",
            "\u001b[?25hDownloading ffmpy-0.5.0-py3-none-any.whl (6.0 kB)\n",
            "Downloading pydub-0.25.1-py2.py3-none-any.whl (32 kB)\n",
            "Installing collected packages: pydub, uvicorn, tomlkit, semantic-version, ruff, python-multipart, markupsafe, groovy, ffmpy, aiofiles, starlette, safehttpx, gradio-client, fastapi, gradio\n",
            "  Attempting uninstall: markupsafe\n",
            "    Found existing installation: MarkupSafe 3.0.2\n",
            "    Uninstalling MarkupSafe-3.0.2:\n",
            "      Successfully uninstalled MarkupSafe-3.0.2\n",
            "\u001b[31mERROR: pip's dependency resolver does not currently take into account all the packages that are installed. This behaviour is the source of the following dependency conflicts.\n",
            "torch 2.6.0+cu124 requires nvidia-cublas-cu12==12.4.5.8; platform_system == \"Linux\" and platform_machine == \"x86_64\", but you have nvidia-cublas-cu12 12.5.3.2 which is incompatible.\n",
            "torch 2.6.0+cu124 requires nvidia-cuda-cupti-cu12==12.4.127; platform_system == \"Linux\" and platform_machine == \"x86_64\", but you have nvidia-cuda-cupti-cu12 12.5.82 which is incompatible.\n",
            "torch 2.6.0+cu124 requires nvidia-cuda-nvrtc-cu12==12.4.127; platform_system == \"Linux\" and platform_machine == \"x86_64\", but you have nvidia-cuda-nvrtc-cu12 12.5.82 which is incompatible.\n",
            "torch 2.6.0+cu124 requires nvidia-cuda-runtime-cu12==12.4.127; platform_system == \"Linux\" and platform_machine == \"x86_64\", but you have nvidia-cuda-runtime-cu12 12.5.82 which is incompatible.\n",
            "torch 2.6.0+cu124 requires nvidia-cudnn-cu12==9.1.0.70; platform_system == \"Linux\" and platform_machine == \"x86_64\", but you have nvidia-cudnn-cu12 9.3.0.75 which is incompatible.\n",
            "torch 2.6.0+cu124 requires nvidia-cufft-cu12==11.2.1.3; platform_system == \"Linux\" and platform_machine == \"x86_64\", but you have nvidia-cufft-cu12 11.2.3.61 which is incompatible.\n",
            "torch 2.6.0+cu124 requires nvidia-curand-cu12==10.3.5.147; platform_system == \"Linux\" and platform_machine == \"x86_64\", but you have nvidia-curand-cu12 10.3.6.82 which is incompatible.\n",
            "torch 2.6.0+cu124 requires nvidia-cusolver-cu12==11.6.1.9; platform_system == \"Linux\" and platform_machine == \"x86_64\", but you have nvidia-cusolver-cu12 11.6.3.83 which is incompatible.\n",
            "torch 2.6.0+cu124 requires nvidia-cusparse-cu12==12.3.1.170; platform_system == \"Linux\" and platform_machine == \"x86_64\", but you have nvidia-cusparse-cu12 12.5.1.3 which is incompatible.\n",
            "torch 2.6.0+cu124 requires nvidia-nvjitlink-cu12==12.4.127; platform_system == \"Linux\" and platform_machine == \"x86_64\", but you have nvidia-nvjitlink-cu12 12.5.82 which is incompatible.\u001b[0m\u001b[31m\n",
            "\u001b[0mSuccessfully installed aiofiles-23.2.1 fastapi-0.115.11 ffmpy-0.5.0 gradio-5.21.0 gradio-client-1.7.2 groovy-0.1.2 markupsafe-2.1.5 pydub-0.25.1 python-multipart-0.0.20 ruff-0.11.0 safehttpx-0.1.6 semantic-version-2.10.0 starlette-0.46.1 tomlkit-0.13.2 uvicorn-0.34.0\n"
          ]
        },
        {
          "output_type": "display_data",
          "data": {
            "application/vnd.colab-display-data+json": {
              "pip_warning": {
                "packages": [
                  "markupsafe"
                ]
              },
              "id": "bcb11d28f5cc4e859c156379635c45ca"
            }
          },
          "metadata": {}
        }
      ]
    },
    {
      "cell_type": "code",
      "source": [
        "import gradio as gr"
      ],
      "metadata": {
        "id": "Q_BCnWOr6Y42"
      },
      "execution_count": 38,
      "outputs": []
    },
    {
      "cell_type": "markdown",
      "source": [
        "Ahora cargamos los modelos guardados (DAE y decoder del VAE) para usarlos en la interfaz. Usaremos el decoder del VAE para generar imágenes a partir de muestras latentes, y el DAE para limpiar ruido.\n"
      ],
      "metadata": {
        "id": "JF05hZPi6hXe"
      }
    },
    {
      "cell_type": "code",
      "source": [
        "from tensorflow.keras.models import load_model\n",
        "import tensorflow as tf\n",
        "\n",
        "# Al cargar el modelo, se especifica custom_objects para que Keras pueda encontrar la función 'mse'\n",
        "dae_model = load_model(\"dae_model.h5\", custom_objects={\"mse\": tf.keras.losses.mse})\n",
        "decoder = load_model(\"vae_decoder.h5\")"
      ],
      "metadata": {
        "colab": {
          "base_uri": "https://localhost:8080/"
        },
        "id": "M3axSeAL6jBe",
        "outputId": "bce176ec-9c34-4e22-c83f-89d4ec45190b"
      },
      "execution_count": 40,
      "outputs": [
        {
          "output_type": "stream",
          "name": "stderr",
          "text": [
            "WARNING:absl:Compiled the loaded model, but the compiled metrics have yet to be built. `model.compile_metrics` will be empty until you train or evaluate the model.\n",
            "WARNING:absl:No training configuration found in the save file, so the model was *not* compiled. Compile it manually.\n"
          ]
        }
      ]
    },
    {
      "cell_type": "markdown",
      "source": [
        "Definimos funciones que Gradio usará internamente cuando el usuario interactúe:\n",
        "\n",
        "- `denoise_image(input_image, noise_type)`: toma una imagen de entrada proporcionada por el usuario, le agrega ruido (gaussiano o sal&pimienta según elección) y luego aplica el modelo DAE para obtener la imagen reconstruida sin ruido. Retorna dos imágenes: la versión ruidosa y la versión limpiada.\n",
        "- `generate_image(seed)`: toma un número (semilla) para generar una imagen nueva con el VAE. Establecemos la semilla para reproducibilidad, sampleamos un vector latente aleatorio y obtenemos una imagen sintética del decoder. Retorna la imagen generada.\n"
      ],
      "metadata": {
        "id": "eUHT8Hv-6miW"
      }
    },
    {
      "cell_type": "code",
      "source": [
        "# Función para aplicar el DAE a una imagen con ruido\n",
        "def denoise_image(input_img):\n",
        "    # Asegurar tamaño correcto\n",
        "    img = input_img.resize((IMG_SIZE, IMG_SIZE))\n",
        "    img = img.convert(\"RGB\")\n",
        "    img_array = np.array(img, dtype=np.float32) / 255.0\n",
        "    # Elegir aleatoriamente un tipo de ruido para demostrar (podríamos también dejar elegir al usuario)\n",
        "    noise_choice = np.random.rand()\n",
        "    if noise_choice < 0.5:\n",
        "        # Ruido gaussiano\n",
        "        noise = np.random.normal(loc=0.0, scale=0.1, size=img_array.shape)\n",
        "        noisy_img = img_array + noise\n",
        "        noisy_img = np.clip(noisy_img, 0.0, 1.0)\n",
        "    else:\n",
        "        # Ruido sal y pimienta\n",
        "        prob = 0.1\n",
        "        noisy_img = img_array.copy()\n",
        "        # máscara aleatoria\n",
        "        rnd = np.random.rand(*img_array.shape)\n",
        "        noisy_img[rnd < prob/2] = 0.0   # pepper\n",
        "        noisy_img[rnd > 1 - prob/2] = 1.0   # salt\n",
        "    # Aplicar DAE (añadir dimensión batch y canales)\n",
        "    input_noisy = np.expand_dims(noisy_img, axis=0)\n",
        "    output_denoised = dae_model.predict(input_noisy)\n",
        "    output_denoised = output_denoised[0]  # remover dimensión batch\n",
        "    # Convertir de nuevo a PIL images\n",
        "    noisy_img_pil = Image.fromarray((noisy_img * 255).astype('uint8'))\n",
        "    denoised_img_pil = Image.fromarray((output_denoised * 255).astype('uint8'))\n",
        "    return noisy_img_pil, denoised_img_pil\n",
        "\n",
        "# Función para generar una imagen nueva con el VAE\n",
        "def generate_image(random_seed):\n",
        "    # Si el usuario provee una semilla, usarla para reproducibilidad\n",
        "    if random_seed is not None:\n",
        "        np.random.seed(int(random_seed))\n",
        "    z = np.random.normal(size=(1, latent_dim))\n",
        "    gen_img = decoder.predict(z)\n",
        "    gen_img = gen_img[0]  # quitar dimensión batch\n",
        "    # Convertir a imagen PIL\n",
        "    gen_img_pil = Image.fromarray((gen_img * 255).astype('uint8'))\n",
        "    return gen_img_pil"
      ],
      "metadata": {
        "id": "qvIMkhGR6oYD"
      },
      "execution_count": 41,
      "outputs": []
    },
    {
      "cell_type": "markdown",
      "source": [
        "\n",
        "Ahora definimos la interfaz de Gradio. Usaremos una interfaz con pestañas para separar las demos del DAE y del VAE:\n",
        "\n",
        "- **Interfaz DAE**: tendrá como entrada una imagen (`gr.inputs.Image`) y como salida dos imágenes (ruidosa y denoised). Podemos agregar descripciones para guiar al usuario.\n",
        "- **Interfaz VAE**: podemos tener un campo numérico o deslizador para la semilla y un botón para generar. Por simplicidad, usaremos un campo de número opcional y generaremos la imagen al enviar ese valor (o dejarlo vacío para aleatorio cada vez).\n"
      ],
      "metadata": {
        "id": "5UmqOEZ36rm8"
      }
    },
    {
      "cell_type": "code",
      "source": [
        "# Actualización de la interfaz Gradio usando la API actualizada (gr.Image, gr.Number)\n",
        "dae_interface = gr.Interface(\n",
        "    fn=denoise_image,\n",
        "    inputs=gr.Image(label=\"Sube una imagen de moto o auto\"),\n",
        "    outputs=[gr.Image(label=\"Imagen con ruido\"), gr.Image(label=\"Imagen denoised\")],\n",
        "    title=\"Denoising Autoencoder (DAE)\",\n",
        "    description=\"Esta herramienta añade ruido a tu imagen y luego aplica el modelo DAE para intentar limpiarla.\"\n",
        ")\n",
        "\n",
        "vae_interface = gr.Interface(\n",
        "    fn=generate_image,\n",
        "    inputs=gr.Number(label=\"Semilla aleatoria (opcional)\"),\n",
        "    outputs=gr.Image(label=\"Imagen generada\"),\n",
        "    title=\"Variational Autoencoder (VAE)\",\n",
        "    description=\"Genera una imagen de moto/auto sintética a partir de la semilla dada. Cambia la semilla para obtener imágenes distintas.\"\n",
        ")\n",
        "\n",
        "# Combinar las dos interfaces en pestañas usando gr.TabbedInterface\n",
        "demo = gr.TabbedInterface([dae_interface, vae_interface], [\"DAE (Denoising)\", \"VAE (Generación)\"])"
      ],
      "metadata": {
        "id": "qoNLNBTr6ryX"
      },
      "execution_count": 43,
      "outputs": []
    },
    {
      "cell_type": "markdown",
      "source": [
        "\n",
        "Ya tenemos la aplicación Gradio configurada con dos pestañas: una para probar la eliminación de ruido y otra para la generación de imágenes.\n",
        "\n",
        "Podemos lanzar la interfaz localmente (en Colab esto genera un link público usando un túnel):"
      ],
      "metadata": {
        "id": "SoXfIQLF6wgR"
      }
    },
    {
      "cell_type": "code",
      "source": [
        "demo.launch(debug=False)"
      ],
      "metadata": {
        "colab": {
          "base_uri": "https://localhost:8080/",
          "height": 625
        },
        "id": "_up1kL5k6wnv",
        "outputId": "8a8aee73-d9f8-4fc4-e5fc-cd7123cc398a"
      },
      "execution_count": 44,
      "outputs": [
        {
          "output_type": "stream",
          "name": "stdout",
          "text": [
            "Running Gradio in a Colab notebook requires sharing enabled. Automatically setting `share=True` (you can turn this off by setting `share=False` in `launch()` explicitly).\n",
            "\n",
            "Colab notebook detected. To show errors in colab notebook, set debug=True in launch()\n",
            "* Running on public URL: https://3bb1e603689957f79d.gradio.live\n",
            "\n",
            "This share link expires in 72 hours. For free permanent hosting and GPU upgrades, run `gradio deploy` from the terminal in the working directory to deploy to Hugging Face Spaces (https://huggingface.co/spaces)\n"
          ]
        },
        {
          "output_type": "display_data",
          "data": {
            "text/plain": [
              "<IPython.core.display.HTML object>"
            ],
            "text/html": [
              "<div><iframe src=\"https://3bb1e603689957f79d.gradio.live\" width=\"100%\" height=\"500\" allow=\"autoplay; camera; microphone; clipboard-read; clipboard-write;\" frameborder=\"0\" allowfullscreen></iframe></div>"
            ]
          },
          "metadata": {}
        },
        {
          "output_type": "execute_result",
          "data": {
            "text/plain": []
          },
          "metadata": {},
          "execution_count": 44
        }
      ]
    },
    {
      "cell_type": "markdown",
      "source": [
        "Esto proporcionará un link donde interactuar con la app. En Colab, `debug=False` evita log verbose; también se puede usar `share=True` para obtener un enlace público aunque W&B y HF Spaces suelen ser mejores para compartir formalmente.\n",
        "\n",
        "### 4.2 Despliegue en Hugging Face Spaces con Autenticación\n",
        "Para desplegar esta demo en Hugging Face Spaces, necesitamos:\n",
        "1. Tener una cuenta en Hugging Face y un **token de autenticación** con permisos de *write*.\n",
        "2. Crear un nuevo Space (por ejemplo, en la web de Hugging Face, podemos crear un Space de tipo Gradio, repositorio vacío).\n",
        "3. Desde Colab, clonaremos ese repositorio Space, añadiremos nuestro código de la app (un archivo `app.py` con la interfaz Gradio, requisitos, etc.), y luego haremos push.\n",
        "\n",
        "Instalemos la herramienta de Huggingface Hub:"
      ],
      "metadata": {
        "id": "_KFaBVPf6wvO"
      }
    },
    {
      "cell_type": "code",
      "source": [
        "!pip install huggingface_hub\n",
        "from huggingface_hub import HfApi, Repository, login\n",
        "\n",
        "# Login a Hugging Face using token (reemplaza 'YOUR_HF_TOKEN' con el tuyo)\n",
        "login(token=\"YOUR_HF_TOKEN\")"
      ],
      "metadata": {
        "id": "cSTMl-Zq6w1m"
      },
      "execution_count": null,
      "outputs": []
    },
    {
      "cell_type": "markdown",
      "source": [
        "A continuación, clonamos el repositorio del Space. Debes reemplazar `\"usuario/nombre-del-space\"` con tu usuario de HF y el nombre que hayas elegido para el Space:"
      ],
      "metadata": {
        "id": "UMYxKTuO6w8a"
      }
    },
    {
      "cell_type": "code",
      "source": [
        "# Clonar el repositorio del Space\n",
        "repo_url = \"https://huggingface.co/spaces/usuario/nombre-del-space\"\n",
        "local_dir = \"my_gradio_space\"\n",
        "repo = Repository(local_dir=local_dir, clone_from=repo_url)"
      ],
      "metadata": {
        "id": "AMxSKEvI6xCM"
      },
      "execution_count": null,
      "outputs": []
    },
    {
      "cell_type": "markdown",
      "source": [
        "Ahora debemos preparar los archivos para el Space:\n",
        "- Un archivo `app.py` con la aplicación Gradio (similar a lo que definimos arriba).\n",
        "- Un archivo `requirements.txt` listando las dependencias (e.g., `gradio`, `tensorflow`, `wandb` si se necesita, etc.). En este caso necesitaremos al menos `gradio` y `tensorflow` para que el Space instale esas librerías.\n",
        "- Los archivos de modelo guardados (`dae_model.h5`, `vae_decoder.h5`, etc.) deben ser incluidos en el repo, ya que la app los cargará para funcionar. Alternativamente, podemos subirlos como *datasets* o *artifacts* y hacer que la app los descargue, pero es más sencillo adjuntarlos al Space dado que no son muy pesados para este ejemplo.\n",
        "\n",
        "Crearemos el archivo `app.py` dentro de nuestro repositorio clonado:"
      ],
      "metadata": {
        "id": "V5zNC77b7Nys"
      }
    },
    {
      "cell_type": "code",
      "source": [
        "%%bash\n",
        "cat > my_gradio_space/app.py << 'PYCODE'"
      ],
      "metadata": {
        "id": "3oFl32aW7Wc-"
      },
      "execution_count": null,
      "outputs": []
    },
    {
      "cell_type": "code",
      "source": [
        "import gradio as gr\n",
        "import numpy as np\n",
        "from PIL import Image\n",
        "from tensorflow.keras.models import load_model\n",
        "\n",
        "# Cargar modelos (asume que los .h5 están en el mismo directorio en el Space)\n",
        "dae_model = load_model(\"dae_model.h5\")\n",
        "decoder = load_model(\"vae_decoder.h5\")\n",
        "latent_dim = decoder.inputs[0].shape[-1]  # obtener dim latente desde el modelo\n",
        "\n",
        "def denoise_image(input_img):\n",
        "    img = input_img.resize((64, 64)).convert(\"RGB\")\n",
        "    img_array = np.array(img, dtype=np.float32) / 255.0\n",
        "    # Añadir ruido (gaussiano o sal&pimienta aleatoriamente)\n",
        "    if np.random.rand() < 0.5:\n",
        "        noise = np.random.normal(0, 0.1, img_array.shape)\n",
        "        noisy = np.clip(img_array + noise, 0, 1)\n",
        "    else:\n",
        "        noisy = img_array.copy()\n",
        "        prob = 0.1\n",
        "        rnd = np.random.rand(*img_array.shape)\n",
        "        noisy[rnd < prob/2] = 0.0\n",
        "        noisy[rnd > 1 - prob/2] = 1.0\n",
        "    # Pasar por DAE\n",
        "    output = dae_model.predict(noisy[np.newaxis, ...])[0]\n",
        "    noisy_img = Image.fromarray((noisy * 255).astype('uint8'))\n",
        "    output_img = Image.fromarray((output * 255).astype('uint8'))\n",
        "    return noisy_img, output_img\n",
        "\n",
        "def generate_image(seed):\n",
        "    if seed is not None:\n",
        "        np.random.seed(int(seed))\n",
        "    z = np.random.normal(size=(1, latent_dim))\n",
        "    gen = decoder.predict(z)[0]\n",
        "    gen_img = Image.fromarray((gen * 255).astype('uint8'))\n",
        "    return gen_img\n",
        "\n",
        "dae_interface = gr.Interface(fn=denoise_image,\n",
        "                             inputs=gr.Image(label=\"Sube una imagen\"),\n",
        "                             outputs=[gr.Image(label=\"Imagen con ruido\"), gr.Image(label=\"Imagen denoised\")],\n",
        "                             title=\"Denoising Autoencoder\",\n",
        "                             description=\"Sube una imagen de una moto o auto, el modelo le añadirá ruido y luego intentará limpiarla.\")\n",
        "vae_interface = gr.Interface(fn=generate_image,\n",
        "                             inputs=gr.Number(label=\"Semilla (opcional)\"),\n",
        "                             outputs=gr.Image(label=\"Imagen generada\"),\n",
        "                             title=\"Variational Autoencoder\",\n",
        "                             description=\"Genera una imagen de moto/auto sintética a partir de un vector aleatorio (puedes cambiar la semilla para reproducir resultados).\")\n",
        "\n",
        "demo = gr.TabbedInterface([dae_interface, vae_interface], [\"DAE - Denoise\", \"VAE - Generate\"])\n",
        "demo.launch()"
      ],
      "metadata": {
        "id": "fImUyS7y7QgO"
      },
      "execution_count": null,
      "outputs": []
    },
    {
      "cell_type": "markdown",
      "source": [
        "También creamos el `requirements.txt`:\n"
      ],
      "metadata": {
        "id": "cerULEZR7cjN"
      }
    },
    {
      "cell_type": "code",
      "source": [
        "%%bash\n",
        "echo \"gradio\\ntensorflow==2.9.2\" > my_gradio_space/requirements.txt"
      ],
      "metadata": {
        "id": "p9nO77bY7cth"
      },
      "execution_count": null,
      "outputs": []
    },
    {
      "cell_type": "markdown",
      "source": [
        "*(Nota: especificamos una versión de TensorFlow compatible con el entorno de Spaces. También podríamos añadir `wandb` si quisiéramos que la app integre tracking, pero para inferencia no es necesario.)*\n",
        "\n",
        "Ahora movemos los archivos de modelo guardados al directorio del Space:"
      ],
      "metadata": {
        "id": "8fPXa_gQ7c07"
      }
    },
    {
      "cell_type": "code",
      "source": [
        "!cp dae_model.h5 my_gradio_space/\n",
        "!cp vae_decoder.h5 my_gradio_space/"
      ],
      "metadata": {
        "id": "zQK41zvS7c8Q"
      },
      "execution_count": null,
      "outputs": []
    },
    {
      "cell_type": "markdown",
      "source": [
        "Finalmente, hacemos commit y push al repositorio del Space:"
      ],
      "metadata": {
        "id": "OHxeycoy7dCd"
      }
    },
    {
      "cell_type": "code",
      "source": [
        "repo.push_to_hub(commit_message=\"Initial commit - add Gradio app and models\")"
      ],
      "metadata": {
        "id": "UO3O5a_d7dJd"
      },
      "execution_count": null,
      "outputs": []
    },
    {
      "cell_type": "markdown",
      "source": [
        "\n",
        "\n",
        "Tras unos minutos (que el Space instale dependencias y arranque), la app debería estar disponible en `https://huggingface.co/spaces/usuario/nombre-del-space`. Si el Space es **privado**, solo usuarios con acceso (o con el token) podrán verlo; si es público, cualquiera puede interactuar con la demo. Podemos controlar la visibilidad desde la configuración del Space en Hugging Face.\n",
        "\n",
        "**Autenticación**: En el código de despliegue, autenticamos con `login(token=...)` para poder clonar y subir al Space. Asegúrate de mantener tu token seguro (no compartirlo públicamente). Una práctica común es almacenarlo como variable de entorno o usar la interfaz de Colab para introducirlo en lugar de hardcodearlo en el notebook.\n",
        "\n",
        "## 5. Automatización y Eficiencia en Colab\n",
        "En esta última sección, resumimos estrategias empleadas y recomendaciones para ejecutar eficientemente este pipeline en Google Colab (u otros entornos similares):\n",
        "\n",
        "- **Carga de Datos en Batches**: En lugar de cargar todas las imágenes a la vez en la GPU, usamos `tf.data` para cargar por lotes y añadimos ruido sobre la marcha. Esto reduce el pico de memoria y aprovecha el *pipeline* asíncrono para alimentar la GPU constantemente.\n",
        "- **Liberación de Memoria**: Después de entrenar el DAE, liberamos recursos (modelo y grafo de TF) antes de iniciar el VAE. Esto se hizo con `del modelo`, `clear_session()` y `gc.collect()`, evitando acumulación de uso de GPU/CPU RAM.\n",
        "- **Monitorización con W&B**: Usamos W&B no solo para métricas sino también para almacenar los modelos y pesos. De esta forma, si Colab se desconecta o reinicia, podemos recuperar los modelos entrenados desde W&B fácilmente (usando artefactos). Automatizar el registro y carga de artefactos en W&B asegura que no se pierda el trabajo y facilita reproducibilidad.\n",
        "- **Uso eficiente de GPU**: Nos aseguramos de utilizar `.prefetch` en los datasets para que la GPU no espere por datos. También configuramos un tamaño de batch razonable (32) que quepa en memoria pero que aproveche paralelismo. En Colab, activar el **entorno de ejecución GPU** es esencial (Runtime > Change runtime type > GPU).\n",
        "- **Mixed Precision (opcional)**: Como mencionamos, aprovechar `mixed_precision` en GPUs compatibles (como Tesla T4 o superiores en Colab) puede acelerar entrenamiento y reducir consumo de memoria, lo cual es valioso en VAEs u otros modelos grandes.\n",
        "- **Modularización del Código**: Organizamos el código en funciones (`build_dae`, funciones de ruido, etc.) y secciones lógicas separadas, lo que facilita pruebas por separado (por ejemplo, podríamos probar el DAE sin involucrar el VAE) y mantiene el notebook ordenado. Esto es útil para automatización, ya que podemos reusar componentes. Además, colocamos todo en un único notebook secuencialmente, permitiendo ejecutar todo de corrido en Colab, con las dependencias instaladas al inicio y los pasos bien documentados.\n",
        "- **Registro de Resultados y Modelos**: Además de W&B, guardamos localmente los modelos (`.h5`) para fácilmente integrarlos a la demo. Esto muestra una práctica de guardar checkpoints de modelos durante el pipeline, lo que es recomendable para no tener que reentrenar desde cero si ocurre algún problema.\n",
        "\n",
        "Con todo lo anterior, hemos logrado un flujo de trabajo completo: desde la **obtención de datos**, pasando por el **entrenamiento** de dos modelos de autoencoder con diferentes fines (eliminación de ruido y generación de datos), hasta una **demostración interactiva** y su despliegue, aplicando buenas prácticas de eficiencia y seguimiento de experimentos en un entorno de GPU como Colab.\n",
        "\n",
        "¡Ahora el notebook está listo para ejecutarse paso a paso en Google Colab y reproducir el proyecto de principio a fin!"
      ],
      "metadata": {
        "id": "T2nsI0CY7dO6"
      }
    }
  ]
}