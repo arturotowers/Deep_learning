{
  "cells": [
    {
      "cell_type": "markdown",
      "source": [
        "## Obtención de imagenes"
      ],
      "metadata": {
        "id": "B-sY10n47K4o"
      },
      "id": "B-sY10n47K4o"
    },
    {
      "cell_type": "code",
      "id": "initial_id",
      "metadata": {
        "collapsed": true,
        "id": "initial_id",
        "ExecuteTime": {
          "end_time": "2025-03-18T00:47:19.422331Z",
          "start_time": "2025-03-18T00:47:19.404824Z"
        }
      },
      "source": [
        "import os\n",
        "import time\n",
        "import requests\n",
        "import io\n",
        "import hashlib\n",
        "from PIL import Image\n",
        "from selenium import webdriver\n",
        "from selenium.webdriver.common.by import By\n",
        "from selenium.webdriver.chrome.options import Options\n",
        "from selenium.webdriver.chrome.service import Service\n",
        "from webdriver_manager.chrome import ChromeDriverManager\n",
        "from selenium.common.exceptions import StaleElementReferenceException"
      ],
      "outputs": [],
      "execution_count": null
    },
    {
      "cell_type": "code",
      "source": [
        "PROJECT_ROOT = os.path.abspath(os.path.join(os.getcwd(), os.pardir))\n",
        "DATASET_PATH = os.path.join(PROJECT_ROOT, 'dataset')"
      ],
      "metadata": {
        "id": "y2DDIuHTF3pb",
        "ExecuteTime": {
          "end_time": "2025-03-18T00:47:19.958645Z",
          "start_time": "2025-03-18T00:47:19.944591Z"
        }
      },
      "id": "y2DDIuHTF3pb",
      "outputs": [],
      "execution_count": null
    },
    {
      "metadata": {
        "id": "75b8478ad218fd9c"
      },
      "cell_type": "markdown",
      "source": [
        "Creamos las funciones para crear una carpeta y para descargar las imagenes"
      ],
      "id": "75b8478ad218fd9c"
    },
    {
      "metadata": {
        "ExecuteTime": {
          "end_time": "2025-03-18T00:47:20.841937Z",
          "start_time": "2025-03-18T00:47:20.822451Z"
        },
        "id": "d8f7422d70d61b26"
      },
      "cell_type": "code",
      "source": [
        "def create_directory(directory):\n",
        "    if not os.path.exists(directory):\n",
        "        os.makedirs(directory)\n",
        "        print(f\"Directorio '{directory}' creado exitosamente.\")\n",
        "    else:\n",
        "        print(f\"El directorio '{directory}' ya existe.\")\n",
        "\n",
        "def is_valid_image(image_content):\n",
        "\n",
        "    try:\n",
        "        Image.open(io.BytesIO(image_content))\n",
        "        return True\n",
        "    except:\n",
        "        return False\n",
        "\n",
        "def download_image(url, folder_path, img_name):\n",
        "    try:\n",
        "        # Configurar headers para simular un navegador\n",
        "        headers = {\n",
        "            'User-Agent': 'Mozilla/5.0 (Windows NT 10.0; Win64; x64) AppleWebKit/537.36 (KHTML, like Gecko) Chrome/91.0.4472.124 Safari/537.36'\n",
        "        }\n",
        "        response = requests.get(url, headers=headers, stream=True, timeout=10)\n",
        "\n",
        "        if response.status_code == 200:\n",
        "            content = response.content\n",
        "\n",
        "            # Verificar que sea una imagen válida\n",
        "            if is_valid_image(content):\n",
        "                # Guardar la imagen\n",
        "                with open(os.path.join(folder_path, f\"{img_name}.jpg\"), 'wb') as f:\n",
        "                    f.write(content)\n",
        "                return True\n",
        "\n",
        "        return False\n",
        "    except Exception as e:\n",
        "        print(f\"Error al descargar imagen: {str(e)}\")\n",
        "        return False"
      ],
      "id": "d8f7422d70d61b26",
      "outputs": [],
      "execution_count": null
    },
    {
      "metadata": {
        "id": "7898ea8d7746db56"
      },
      "cell_type": "markdown",
      "source": [
        "Creamos la función para extraer las urls usando bing."
      ],
      "id": "7898ea8d7746db56"
    },
    {
      "metadata": {
        "ExecuteTime": {
          "end_time": "2025-03-18T00:47:22.275563Z",
          "start_time": "2025-03-18T00:47:22.262027Z"
        },
        "id": "8dedc97627b3bb9f"
      },
      "cell_type": "code",
      "source": [
        "def get_image_urls_using_bing(query, max_links_to_fetch=100):\n",
        "    \"\"\"Obtiene URLs de imágenes desde Bing.\"\"\"\n",
        "    search_url = f\"https://www.bing.com/images/search?q={query.replace(' ', '+')}&form=HDRSC2&first=1\"\n",
        "\n",
        "    chrome_options = Options()\n",
        "    chrome_options.add_argument(\"--headless\")\n",
        "    chrome_options.add_argument(\"--no-sandbox\")\n",
        "    chrome_options.add_argument(\"--disable-dev-shm-usage\")\n",
        "\n",
        "    driver = webdriver.Chrome(service=Service(ChromeDriverManager().install()), options=chrome_options)\n",
        "\n",
        "    try:\n",
        "        driver.get(search_url)\n",
        "        time.sleep(2)  # Esperar carga inicial\n",
        "\n",
        "        # Scroll progresivo para cargar más imágenes\n",
        "        scroll_pause_time = 3  # Tiempo entre scrolls\n",
        "        screen_height = driver.execute_script(\"return window.innerHeight\")\n",
        "        scrolls = 0\n",
        "        image_urls = set()  # Usar set para evitar duplicados\n",
        "\n",
        "        while len(image_urls) < max_links_to_fetch and scrolls < 20:  # Máximo 20 scrolls\n",
        "            # Scroll hacia abajo\n",
        "            driver.execute_script(f\"window.scrollBy(0, {screen_height * 2});\")\n",
        "            time.sleep(scroll_pause_time)\n",
        "\n",
        "            # Capturar nuevas imágenes\n",
        "            thumbnails = driver.find_elements(By.CSS_SELECTOR, \".mimg\")\n",
        "\n",
        "            for img in thumbnails:\n",
        "                if len(image_urls) >= max_links_to_fetch:\n",
        "                    break\n",
        "                try:\n",
        "                    # Obtener URL real desde data-src (evitar placeholders)\n",
        "                    url = img.get_attribute(\"data-src\") or img.get_attribute(\"src\")\n",
        "                    if url and url.startswith(\"http\") and url not in image_urls:\n",
        "                        image_urls.add(url)\n",
        "                except StaleElementReferenceException:\n",
        "                    continue\n",
        "\n",
        "            scrolls += 1\n",
        "\n",
        "        return list(image_urls)[:max_links_to_fetch]  # Convertir a lista y limitar\n",
        "\n",
        "    finally:\n",
        "        driver.quit()"
      ],
      "id": "8dedc97627b3bb9f",
      "outputs": [],
      "execution_count": null
    },
    {
      "metadata": {
        "id": "5215e89c674967c0"
      },
      "cell_type": "markdown",
      "source": [
        "Definimos la función para crear el dataset con imagenes de Lebron James y Messi"
      ],
      "id": "5215e89c674967c0"
    },
    {
      "metadata": {
        "ExecuteTime": {
          "end_time": "2025-03-18T00:47:24.069901Z",
          "start_time": "2025-03-18T00:47:24.048935Z"
        },
        "id": "ee4a406212ecab77"
      },
      "cell_type": "code",
      "source": [
        "def create_dataset(num_images_per_category=100):\n",
        "    # Asegurar que exista la carpeta dataset\n",
        "    create_directory(DATASET_PATH)\n",
        "\n",
        "    # Categorías a descargar\n",
        "    categories = {\n",
        "        \"Lionel Messi\": num_images_per_category,\n",
        "        \"LeBron James\": num_images_per_category\n",
        "    }\n",
        "\n",
        "    for category, num_images in categories.items():\n",
        "        category_folder = os.path.join(DATASET_PATH, category.replace(\" \", \"_\"))\n",
        "        create_directory(category_folder)\n",
        "\n",
        "        print(f\"\\nIniciando descarga de imágenes para la categoría: {category}\")\n",
        "\n",
        "        # Obtener URLs de imágenes\n",
        "        image_urls = get_image_urls_using_bing(category, max_links_to_fetch=num_images*2)  # Obtener más URLs de las necesarias\n",
        "\n",
        "        # Descargar imágenes\n",
        "        downloaded_count = 0\n",
        "        for i, url in enumerate(image_urls):\n",
        "            if downloaded_count >= num_images:\n",
        "                break\n",
        "\n",
        "            # Generar un nombre basado en el hash de la URL para evitar duplicados\n",
        "            img_name = f\"{category.replace(' ', '_')}_{downloaded_count}\"\n",
        "\n",
        "            # Intentar descargar la imagen\n",
        "            if download_image(url, category_folder, img_name):\n",
        "                downloaded_count += 1\n",
        "                print(f\"Descargada imagen {downloaded_count}/{num_images} de '{category}'\")\n",
        "\n",
        "        print(f\"Descarga completada. Se descargaron {downloaded_count} imágenes para {category}.\")\n",
        "\n",
        "    print(\"\\nCreación del dataset completada. Estructura:\")\n",
        "    print(f\"- {DATASET_PATH}/\")\n",
        "    for category in categories:\n",
        "        category_name = category.replace(\" \", \"_\")\n",
        "        print(f\"  - {category_name}/\")\n",
        "        print(f\"    - {category_name}_0.jpg\")\n",
        "        print(f\"    - {category_name}_1.jpg\")\n",
        "        print(f\"    - ...\")"
      ],
      "id": "ee4a406212ecab77",
      "outputs": [],
      "execution_count": null
    },
    {
      "metadata": {
        "ExecuteTime": {
          "end_time": "2025-03-18T00:50:34.701417Z",
          "start_time": "2025-03-18T00:47:25.034657Z"
        },
        "id": "d13df00ef45dd595",
        "outputId": "5d31b36d-277e-4ab6-f089-85d14a955ccd"
      },
      "cell_type": "code",
      "source": [
        "create_dataset(num_images_per_category=100)"
      ],
      "id": "d13df00ef45dd595",
      "outputs": [
        {
          "name": "stdout",
          "output_type": "stream",
          "text": [
            "El directorio 'C:\\Users\\ctorr\\OneDrive\\Documentos\\Arturo\\Arturo HW ITESO\\6to semestre\\Deep learning\\Github\\Proyecto 1 - DAE + VAE\\dataset' ya existe.\n",
            "El directorio 'C:\\Users\\ctorr\\OneDrive\\Documentos\\Arturo\\Arturo HW ITESO\\6to semestre\\Deep learning\\Github\\Proyecto 1 - DAE + VAE\\dataset\\Lionel_Messi' ya existe.\n",
            "\n",
            "Iniciando descarga de imágenes para la categoría: Lionel Messi\n",
            "Descargada imagen 1/100 de 'Lionel Messi'\n",
            "Descargada imagen 2/100 de 'Lionel Messi'\n",
            "Descargada imagen 3/100 de 'Lionel Messi'\n",
            "Descargada imagen 4/100 de 'Lionel Messi'\n",
            "Descargada imagen 5/100 de 'Lionel Messi'\n",
            "Descargada imagen 6/100 de 'Lionel Messi'\n",
            "Descargada imagen 7/100 de 'Lionel Messi'\n",
            "Descargada imagen 8/100 de 'Lionel Messi'\n",
            "Descargada imagen 9/100 de 'Lionel Messi'\n",
            "Descargada imagen 10/100 de 'Lionel Messi'\n",
            "Descargada imagen 11/100 de 'Lionel Messi'\n",
            "Descargada imagen 12/100 de 'Lionel Messi'\n",
            "Descargada imagen 13/100 de 'Lionel Messi'\n",
            "Descargada imagen 14/100 de 'Lionel Messi'\n",
            "Descargada imagen 15/100 de 'Lionel Messi'\n",
            "Descargada imagen 16/100 de 'Lionel Messi'\n",
            "Descargada imagen 17/100 de 'Lionel Messi'\n",
            "Descargada imagen 18/100 de 'Lionel Messi'\n",
            "Descargada imagen 19/100 de 'Lionel Messi'\n",
            "Descargada imagen 20/100 de 'Lionel Messi'\n",
            "Descargada imagen 21/100 de 'Lionel Messi'\n",
            "Descargada imagen 22/100 de 'Lionel Messi'\n",
            "Descargada imagen 23/100 de 'Lionel Messi'\n",
            "Descargada imagen 24/100 de 'Lionel Messi'\n",
            "Descargada imagen 25/100 de 'Lionel Messi'\n",
            "Descargada imagen 26/100 de 'Lionel Messi'\n",
            "Descargada imagen 27/100 de 'Lionel Messi'\n",
            "Descargada imagen 28/100 de 'Lionel Messi'\n",
            "Descargada imagen 29/100 de 'Lionel Messi'\n",
            "Descargada imagen 30/100 de 'Lionel Messi'\n",
            "Descargada imagen 31/100 de 'Lionel Messi'\n",
            "Descargada imagen 32/100 de 'Lionel Messi'\n",
            "Descargada imagen 33/100 de 'Lionel Messi'\n",
            "Descargada imagen 34/100 de 'Lionel Messi'\n",
            "Descargada imagen 35/100 de 'Lionel Messi'\n",
            "Descargada imagen 36/100 de 'Lionel Messi'\n",
            "Descargada imagen 37/100 de 'Lionel Messi'\n",
            "Descargada imagen 38/100 de 'Lionel Messi'\n",
            "Descargada imagen 39/100 de 'Lionel Messi'\n",
            "Descargada imagen 40/100 de 'Lionel Messi'\n",
            "Descargada imagen 41/100 de 'Lionel Messi'\n",
            "Descargada imagen 42/100 de 'Lionel Messi'\n",
            "Descargada imagen 43/100 de 'Lionel Messi'\n",
            "Descargada imagen 44/100 de 'Lionel Messi'\n",
            "Descargada imagen 45/100 de 'Lionel Messi'\n",
            "Descargada imagen 46/100 de 'Lionel Messi'\n",
            "Descargada imagen 47/100 de 'Lionel Messi'\n",
            "Descargada imagen 48/100 de 'Lionel Messi'\n",
            "Descargada imagen 49/100 de 'Lionel Messi'\n",
            "Descargada imagen 50/100 de 'Lionel Messi'\n",
            "Descargada imagen 51/100 de 'Lionel Messi'\n",
            "Descargada imagen 52/100 de 'Lionel Messi'\n",
            "Descargada imagen 53/100 de 'Lionel Messi'\n",
            "Descargada imagen 54/100 de 'Lionel Messi'\n",
            "Descargada imagen 55/100 de 'Lionel Messi'\n",
            "Descargada imagen 56/100 de 'Lionel Messi'\n",
            "Descargada imagen 57/100 de 'Lionel Messi'\n",
            "Descargada imagen 58/100 de 'Lionel Messi'\n",
            "Descargada imagen 59/100 de 'Lionel Messi'\n",
            "Descargada imagen 60/100 de 'Lionel Messi'\n",
            "Descargada imagen 61/100 de 'Lionel Messi'\n",
            "Descargada imagen 62/100 de 'Lionel Messi'\n",
            "Descargada imagen 63/100 de 'Lionel Messi'\n",
            "Descargada imagen 64/100 de 'Lionel Messi'\n",
            "Descargada imagen 65/100 de 'Lionel Messi'\n",
            "Descargada imagen 66/100 de 'Lionel Messi'\n",
            "Descargada imagen 67/100 de 'Lionel Messi'\n",
            "Descargada imagen 68/100 de 'Lionel Messi'\n",
            "Descargada imagen 69/100 de 'Lionel Messi'\n",
            "Descargada imagen 70/100 de 'Lionel Messi'\n",
            "Descargada imagen 71/100 de 'Lionel Messi'\n",
            "Descargada imagen 72/100 de 'Lionel Messi'\n",
            "Descargada imagen 73/100 de 'Lionel Messi'\n",
            "Descargada imagen 74/100 de 'Lionel Messi'\n",
            "Descargada imagen 75/100 de 'Lionel Messi'\n",
            "Descargada imagen 76/100 de 'Lionel Messi'\n",
            "Descargada imagen 77/100 de 'Lionel Messi'\n",
            "Descargada imagen 78/100 de 'Lionel Messi'\n",
            "Descargada imagen 79/100 de 'Lionel Messi'\n",
            "Descargada imagen 80/100 de 'Lionel Messi'\n",
            "Descargada imagen 81/100 de 'Lionel Messi'\n",
            "Descargada imagen 82/100 de 'Lionel Messi'\n",
            "Descargada imagen 83/100 de 'Lionel Messi'\n",
            "Descargada imagen 84/100 de 'Lionel Messi'\n",
            "Descargada imagen 85/100 de 'Lionel Messi'\n",
            "Descargada imagen 86/100 de 'Lionel Messi'\n",
            "Descargada imagen 87/100 de 'Lionel Messi'\n",
            "Descargada imagen 88/100 de 'Lionel Messi'\n",
            "Descargada imagen 89/100 de 'Lionel Messi'\n",
            "Descargada imagen 90/100 de 'Lionel Messi'\n",
            "Descargada imagen 91/100 de 'Lionel Messi'\n",
            "Descargada imagen 92/100 de 'Lionel Messi'\n",
            "Descargada imagen 93/100 de 'Lionel Messi'\n",
            "Descargada imagen 94/100 de 'Lionel Messi'\n",
            "Descargada imagen 95/100 de 'Lionel Messi'\n",
            "Descargada imagen 96/100 de 'Lionel Messi'\n",
            "Descargada imagen 97/100 de 'Lionel Messi'\n",
            "Descargada imagen 98/100 de 'Lionel Messi'\n",
            "Descargada imagen 99/100 de 'Lionel Messi'\n",
            "Descargada imagen 100/100 de 'Lionel Messi'\n",
            "Descarga completada. Se descargaron 100 imágenes para Lionel Messi.\n",
            "El directorio 'C:\\Users\\ctorr\\OneDrive\\Documentos\\Arturo\\Arturo HW ITESO\\6to semestre\\Deep learning\\Github\\Proyecto 1 - DAE + VAE\\dataset\\LeBron_James' ya existe.\n",
            "\n",
            "Iniciando descarga de imágenes para la categoría: LeBron James\n",
            "Descargada imagen 1/100 de 'LeBron James'\n",
            "Descargada imagen 2/100 de 'LeBron James'\n",
            "Descargada imagen 3/100 de 'LeBron James'\n",
            "Descargada imagen 4/100 de 'LeBron James'\n",
            "Descargada imagen 5/100 de 'LeBron James'\n",
            "Descargada imagen 6/100 de 'LeBron James'\n",
            "Descargada imagen 7/100 de 'LeBron James'\n",
            "Descargada imagen 8/100 de 'LeBron James'\n",
            "Descargada imagen 9/100 de 'LeBron James'\n",
            "Descargada imagen 10/100 de 'LeBron James'\n",
            "Descargada imagen 11/100 de 'LeBron James'\n",
            "Descargada imagen 12/100 de 'LeBron James'\n",
            "Descargada imagen 13/100 de 'LeBron James'\n",
            "Descargada imagen 14/100 de 'LeBron James'\n",
            "Descargada imagen 15/100 de 'LeBron James'\n",
            "Descargada imagen 16/100 de 'LeBron James'\n",
            "Descargada imagen 17/100 de 'LeBron James'\n",
            "Descargada imagen 18/100 de 'LeBron James'\n",
            "Descargada imagen 19/100 de 'LeBron James'\n",
            "Descargada imagen 20/100 de 'LeBron James'\n",
            "Descargada imagen 21/100 de 'LeBron James'\n",
            "Descargada imagen 22/100 de 'LeBron James'\n",
            "Descargada imagen 23/100 de 'LeBron James'\n",
            "Descargada imagen 24/100 de 'LeBron James'\n",
            "Descargada imagen 25/100 de 'LeBron James'\n",
            "Descargada imagen 26/100 de 'LeBron James'\n",
            "Descargada imagen 27/100 de 'LeBron James'\n",
            "Descargada imagen 28/100 de 'LeBron James'\n",
            "Descargada imagen 29/100 de 'LeBron James'\n",
            "Descargada imagen 30/100 de 'LeBron James'\n",
            "Descargada imagen 31/100 de 'LeBron James'\n",
            "Descargada imagen 32/100 de 'LeBron James'\n",
            "Descargada imagen 33/100 de 'LeBron James'\n",
            "Descargada imagen 34/100 de 'LeBron James'\n",
            "Descargada imagen 35/100 de 'LeBron James'\n",
            "Descargada imagen 36/100 de 'LeBron James'\n",
            "Descargada imagen 37/100 de 'LeBron James'\n",
            "Descargada imagen 38/100 de 'LeBron James'\n",
            "Descargada imagen 39/100 de 'LeBron James'\n",
            "Descargada imagen 40/100 de 'LeBron James'\n",
            "Descargada imagen 41/100 de 'LeBron James'\n",
            "Descargada imagen 42/100 de 'LeBron James'\n",
            "Descargada imagen 43/100 de 'LeBron James'\n",
            "Descargada imagen 44/100 de 'LeBron James'\n",
            "Descargada imagen 45/100 de 'LeBron James'\n",
            "Descargada imagen 46/100 de 'LeBron James'\n",
            "Descargada imagen 47/100 de 'LeBron James'\n",
            "Descargada imagen 48/100 de 'LeBron James'\n",
            "Descargada imagen 49/100 de 'LeBron James'\n",
            "Descargada imagen 50/100 de 'LeBron James'\n",
            "Descargada imagen 51/100 de 'LeBron James'\n",
            "Descargada imagen 52/100 de 'LeBron James'\n",
            "Descargada imagen 53/100 de 'LeBron James'\n",
            "Descargada imagen 54/100 de 'LeBron James'\n",
            "Descargada imagen 55/100 de 'LeBron James'\n",
            "Descargada imagen 56/100 de 'LeBron James'\n",
            "Descargada imagen 57/100 de 'LeBron James'\n",
            "Descargada imagen 58/100 de 'LeBron James'\n",
            "Descargada imagen 59/100 de 'LeBron James'\n",
            "Descargada imagen 60/100 de 'LeBron James'\n",
            "Descargada imagen 61/100 de 'LeBron James'\n",
            "Descargada imagen 62/100 de 'LeBron James'\n",
            "Descargada imagen 63/100 de 'LeBron James'\n",
            "Descargada imagen 64/100 de 'LeBron James'\n",
            "Descargada imagen 65/100 de 'LeBron James'\n",
            "Descargada imagen 66/100 de 'LeBron James'\n",
            "Descargada imagen 67/100 de 'LeBron James'\n",
            "Descargada imagen 68/100 de 'LeBron James'\n",
            "Descargada imagen 69/100 de 'LeBron James'\n",
            "Descargada imagen 70/100 de 'LeBron James'\n",
            "Descargada imagen 71/100 de 'LeBron James'\n",
            "Descargada imagen 72/100 de 'LeBron James'\n",
            "Descargada imagen 73/100 de 'LeBron James'\n",
            "Descargada imagen 74/100 de 'LeBron James'\n",
            "Descargada imagen 75/100 de 'LeBron James'\n",
            "Descargada imagen 76/100 de 'LeBron James'\n",
            "Descargada imagen 77/100 de 'LeBron James'\n",
            "Descargada imagen 78/100 de 'LeBron James'\n",
            "Descargada imagen 79/100 de 'LeBron James'\n",
            "Descargada imagen 80/100 de 'LeBron James'\n",
            "Descargada imagen 81/100 de 'LeBron James'\n",
            "Descargada imagen 82/100 de 'LeBron James'\n",
            "Descargada imagen 83/100 de 'LeBron James'\n",
            "Descargada imagen 84/100 de 'LeBron James'\n",
            "Descargada imagen 85/100 de 'LeBron James'\n",
            "Descargada imagen 86/100 de 'LeBron James'\n",
            "Descargada imagen 87/100 de 'LeBron James'\n",
            "Descargada imagen 88/100 de 'LeBron James'\n",
            "Descargada imagen 89/100 de 'LeBron James'\n",
            "Descargada imagen 90/100 de 'LeBron James'\n",
            "Descargada imagen 91/100 de 'LeBron James'\n",
            "Descargada imagen 92/100 de 'LeBron James'\n",
            "Descargada imagen 93/100 de 'LeBron James'\n",
            "Descargada imagen 94/100 de 'LeBron James'\n",
            "Descargada imagen 95/100 de 'LeBron James'\n",
            "Descargada imagen 96/100 de 'LeBron James'\n",
            "Descargada imagen 97/100 de 'LeBron James'\n",
            "Descargada imagen 98/100 de 'LeBron James'\n",
            "Descargada imagen 99/100 de 'LeBron James'\n",
            "Descargada imagen 100/100 de 'LeBron James'\n",
            "Descarga completada. Se descargaron 100 imágenes para LeBron James.\n",
            "\n",
            "Creación del dataset completada. Estructura:\n",
            "- C:\\Users\\ctorr\\OneDrive\\Documentos\\Arturo\\Arturo HW ITESO\\6to semestre\\Deep learning\\Github\\Proyecto 1 - DAE + VAE\\dataset/\n",
            "  - Lionel_Messi/\n",
            "    - Lionel_Messi_0.jpg\n",
            "    - Lionel_Messi_1.jpg\n",
            "    - ...\n",
            "  - LeBron_James/\n",
            "    - LeBron_James_0.jpg\n",
            "    - LeBron_James_1.jpg\n",
            "    - ...\n"
          ]
        }
      ],
      "execution_count": null
    },
    {
      "metadata": {
        "id": "65e79e4a6681cb27",
        "outputId": "51dcea6b-963a-40fd-fffe-d3636d670677",
        "colab": {
          "base_uri": "https://localhost:8080/"
        }
      },
      "cell_type": "code",
      "source": [
        "# Clona el repositorio\n",
        "!git clone https://github.com/arturotowers/Deep_learning.git"
      ],
      "id": "65e79e4a6681cb27",
      "outputs": [
        {
          "output_type": "stream",
          "name": "stdout",
          "text": [
            "Cloning into 'Deep_learning'...\n",
            "remote: Enumerating objects: 450, done.\u001b[K\n",
            "remote: Counting objects: 100% (450/450), done.\u001b[K\n",
            "remote: Compressing objects: 100% (438/438), done.\u001b[K\n",
            "remote: Total 450 (delta 15), reused 427 (delta 5), pack-reused 0 (from 0)\u001b[K\n",
            "Receiving objects: 100% (450/450), 4.72 MiB | 9.80 MiB/s, done.\n",
            "Resolving deltas: 100% (15/15), done.\n"
          ]
        }
      ],
      "execution_count": 1
    },
    {
      "cell_type": "code",
      "source": [
        "%cd Deep_learning"
      ],
      "metadata": {
        "id": "-ehksajgyd0h",
        "outputId": "2d138857-a5c2-4da3-b9e7-0a446bb3c794",
        "colab": {
          "base_uri": "https://localhost:8080/"
        }
      },
      "id": "-ehksajgyd0h",
      "execution_count": 6,
      "outputs": [
        {
          "output_type": "stream",
          "name": "stdout",
          "text": [
            "[Errno 2] No such file or directory: 'Deep_learning'\n",
            "/content/Deep_learning\n"
          ]
        }
      ]
    },
    {
      "cell_type": "code",
      "source": [
        "!git checkout Dataset_Creation\n"
      ],
      "metadata": {
        "id": "JTAPluHSxJKG",
        "outputId": "d39a98a2-37a3-4f73-b886-38802aeae3f8",
        "colab": {
          "base_uri": "https://localhost:8080/"
        }
      },
      "id": "JTAPluHSxJKG",
      "execution_count": 7,
      "outputs": [
        {
          "output_type": "stream",
          "name": "stdout",
          "text": [
            "Branch 'Dataset_Creation' set up to track remote branch 'Dataset_Creation' from 'origin'.\n",
            "Switched to a new branch 'Dataset_Creation'\n"
          ]
        }
      ]
    },
    {
      "cell_type": "markdown",
      "source": [
        "## Procesamiento de imagenes\n",
        "Importamos librerias para e preprocesamiento de imagenes y definimos la ruta y donde guardaremos las imagenes preprocesadas"
      ],
      "metadata": {
        "id": "4Rz-XGie6887"
      },
      "id": "4Rz-XGie6887"
    },
    {
      "cell_type": "code",
      "source": [
        "import os\n",
        "import glob\n",
        "import numpy as np\n",
        "from PIL import Image\n",
        "from sklearn.model_selection import train_test_split\n",
        "\n",
        "# Ruta de origen de las imágenes\n",
        "source_dir = \"/content/Deep_learning/Proyecto 1 - DAE + VAE/dataset\"\n",
        "# Carpeta destino para guardar las imágenes preprocesadas\n",
        "dest_dir = \"/content/Deep_learning/Proyecto 1 - DAE + VAE/processed_dataset\""
      ],
      "metadata": {
        "id": "mve_mBF0y9Y0"
      },
      "id": "mve_mBF0y9Y0",
      "execution_count": 8,
      "outputs": []
    },
    {
      "cell_type": "markdown",
      "source": [
        "Creamos la estructura para los splits y nos aseguramos de que la carpeta exista"
      ],
      "metadata": {
        "id": "Yv_SbMf-7kNG"
      },
      "id": "Yv_SbMf-7kNG"
    },
    {
      "cell_type": "code",
      "source": [
        "splits = ['train', 'val', 'test']\n",
        "split_ratios = {'train': 0.7, 'val': 0.15, 'test': 0.15}\n",
        "os.makedirs(dest_dir, exist_ok=True)"
      ],
      "metadata": {
        "id": "B9ld3UbR679g"
      },
      "id": "B9ld3UbR679g",
      "execution_count": 9,
      "outputs": []
    },
    {
      "cell_type": "code",
      "source": [
        "for class_name in os.listdir(source_dir):\n",
        "    class_path = os.path.join(source_dir, class_name)\n",
        "    if os.path.isdir(class_path):\n",
        "        # Buscar imágenes (se asume extensión .jpg; se puede agregar .png si es necesario)\n",
        "        image_paths = glob.glob(os.path.join(class_path, \"*.jpg\"))\n",
        "        if len(image_paths) == 0:\n",
        "            image_paths = glob.glob(os.path.join(class_path, \"*.png\"))\n",
        "\n",
        "        # Dividir las imágenes en train, val y test\n",
        "        train_files, temp_files = train_test_split(image_paths, test_size=(1 - split_ratios['train']), random_state=42)\n",
        "        val_files, test_files = train_test_split(temp_files, test_size=0.5, random_state=42)  # Dividir equitativamente entre validación y prueba\n",
        "\n",
        "        split_files = {'train': train_files, 'val': val_files, 'test': test_files}\n",
        "\n",
        "        # Procesar y guardar cada imagen en el directorio correspondiente\n",
        "        for split in splits:\n",
        "            split_class_dir = os.path.join(dest_dir, split, class_name)\n",
        "            os.makedirs(split_class_dir, exist_ok=True)\n",
        "            for file_path in split_files[split]:\n",
        "                try:\n",
        "                    # Abrir imagen y convertir a RGB\n",
        "                    image = Image.open(file_path).convert('RGB')\n",
        "                    # Redimensionar la imagen a un tamaño fijo (por ejemplo, 256x256)\n",
        "                    image = image.resize((256, 256))\n",
        "                    # Convertir a array y normalizar (valores de 0 a 1)\n",
        "                    image_array = np.array(image, dtype=np.float32) / 255.0\n",
        "                    # Guardar el array normalizado como .npy\n",
        "                    base_name = os.path.basename(file_path)\n",
        "                    file_name = os.path.splitext(base_name)[0] + \".npy\"\n",
        "                    np.save(os.path.join(split_class_dir, file_name), image_array)\n",
        "                except Exception as e:\n",
        "                    print(f\"Error procesando {file_path}: {e}\")\n",
        "\n",
        "print(\"Preprocesamiento y organización completados.\")"
      ],
      "metadata": {
        "id": "5pNDfgo47wUH",
        "outputId": "61d62d56-e9f6-406e-f660-aec69dcccbe6",
        "colab": {
          "base_uri": "https://localhost:8080/"
        }
      },
      "id": "5pNDfgo47wUH",
      "execution_count": 10,
      "outputs": [
        {
          "output_type": "stream",
          "name": "stdout",
          "text": [
            "Preprocesamiento y organización completados.\n"
          ]
        }
      ]
    },
    {
      "cell_type": "markdown",
      "source": [
        "- Redimensión: Se establece un tamaño fijo (256×256)\n",
        "- Normalización: Se convierte cada imagen a un array de tipo float32 y se divide entre 255 para tener valores en [0, 1].\n",
        "- Formato de guardado: Se guarda cada imagen preprocesada en formato .npy para facilitar su carga en modelos de deep learning.\n",
        "- División de datos: Se usa train_test_split de scikit-learn para obtener una división balanceada."
      ],
      "metadata": {
        "id": "PNaKtdOM8YVY"
      },
      "id": "PNaKtdOM8YVY"
    },
    {
      "cell_type": "code",
      "source": [
        "!git add .\n",
        "!git commit -m \"Creamos el procesamiento de datos de nuestras imagenes\""
      ],
      "metadata": {
        "id": "X4FRZH7K73wr",
        "outputId": "abb39a82-c132-40ad-ac22-10f779391059",
        "colab": {
          "base_uri": "https://localhost:8080/"
        }
      },
      "id": "X4FRZH7K73wr",
      "execution_count": 11,
      "outputs": [
        {
          "output_type": "stream",
          "name": "stdout",
          "text": [
            "Author identity unknown\n",
            "\n",
            "*** Please tell me who you are.\n",
            "\n",
            "Run\n",
            "\n",
            "  git config --global user.email \"you@example.com\"\n",
            "  git config --global user.name \"Your Name\"\n",
            "\n",
            "to set your account's default identity.\n",
            "Omit --global to set the identity only in this repository.\n",
            "\n",
            "fatal: unable to auto-detect email address (got 'root@e9dadf45a5a8.(none)')\n"
          ]
        }
      ]
    },
    {
      "cell_type": "code",
      "source": [
        "!git config --global user.name \"arturotowers\""
      ],
      "metadata": {
        "id": "pq6Z9uPI8pIO"
      },
      "id": "pq6Z9uPI8pIO",
      "execution_count": 13,
      "outputs": []
    },
    {
      "cell_type": "code",
      "source": [],
      "metadata": {
        "id": "__yAlelC805t",
        "outputId": "e8ec82e8-4811-4196-ea84-9e6388041bb0",
        "colab": {
          "base_uri": "https://localhost:8080/"
        }
      },
      "id": "__yAlelC805t",
      "execution_count": 14,
      "outputs": [
        {
          "output_type": "stream",
          "name": "stdout",
          "text": [
            "[Errno 2] No such file or directory: 'Deep_learning'\n",
            "/content/Deep_learning\n"
          ]
        }
      ]
    },
    {
      "cell_type": "code",
      "source": [],
      "metadata": {
        "id": "lYrqi9Nw9DFU"
      },
      "id": "lYrqi9Nw9DFU",
      "execution_count": null,
      "outputs": []
    }
  ],
  "metadata": {
    "kernelspec": {
      "display_name": "Python 3",
      "name": "python3"
    },
    "language_info": {
      "codemirror_mode": {
        "name": "ipython",
        "version": 2
      },
      "file_extension": ".py",
      "mimetype": "text/x-python",
      "name": "python",
      "nbconvert_exporter": "python",
      "pygments_lexer": "ipython2",
      "version": "2.7.6"
    },
    "colab": {
      "provenance": [],
      "gpuType": "T4"
    },
    "accelerator": "GPU"
  },
  "nbformat": 4,
  "nbformat_minor": 5
}