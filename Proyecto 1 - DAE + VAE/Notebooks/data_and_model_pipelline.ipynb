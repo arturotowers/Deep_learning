{
  "cells": [
    {
      "cell_type": "markdown",
      "source": [
        "## Obtención de imagenes"
      ],
      "metadata": {
        "id": "B-sY10n47K4o"
      },
      "id": "B-sY10n47K4o"
    },
    {
      "cell_type": "code",
      "id": "initial_id",
      "metadata": {
        "collapsed": true,
        "id": "initial_id",
        "ExecuteTime": {
          "end_time": "2025-03-20T18:22:05.720836Z",
          "start_time": "2025-03-20T18:22:05.705536Z"
        },
        "outputId": "6f726330-1821-4c8f-bdc6-f70e8202d0e0",
        "colab": {
          "base_uri": "https://localhost:8080/",
          "height": 383
        }
      },
      "source": [
        "import os\n",
        "import time\n",
        "import requests\n",
        "import io\n",
        "import hashlib\n",
        "from PIL import Image\n",
        "from selenium import webdriver\n",
        "from selenium.webdriver.common.by import By\n",
        "from selenium.webdriver.chrome.options import Options\n",
        "from selenium.webdriver.chrome.service import Service\n",
        "from webdriver_manager.chrome import ChromeDriverManager\n",
        "from selenium.common.exceptions import StaleElementReferenceException"
      ],
      "outputs": [
        {
          "output_type": "error",
          "ename": "ModuleNotFoundError",
          "evalue": "No module named 'selenium'",
          "traceback": [
            "\u001b[0;31m---------------------------------------------------------------------------\u001b[0m",
            "\u001b[0;31mModuleNotFoundError\u001b[0m                       Traceback (most recent call last)",
            "\u001b[0;32m<ipython-input-1-fa748651a619>\u001b[0m in \u001b[0;36m<cell line: 0>\u001b[0;34m()\u001b[0m\n\u001b[1;32m      5\u001b[0m \u001b[0;32mimport\u001b[0m \u001b[0mhashlib\u001b[0m\u001b[0;34m\u001b[0m\u001b[0;34m\u001b[0m\u001b[0m\n\u001b[1;32m      6\u001b[0m \u001b[0;32mfrom\u001b[0m \u001b[0mPIL\u001b[0m \u001b[0;32mimport\u001b[0m \u001b[0mImage\u001b[0m\u001b[0;34m\u001b[0m\u001b[0;34m\u001b[0m\u001b[0m\n\u001b[0;32m----> 7\u001b[0;31m \u001b[0;32mfrom\u001b[0m \u001b[0mselenium\u001b[0m \u001b[0;32mimport\u001b[0m \u001b[0mwebdriver\u001b[0m\u001b[0;34m\u001b[0m\u001b[0;34m\u001b[0m\u001b[0m\n\u001b[0m\u001b[1;32m      8\u001b[0m \u001b[0;32mfrom\u001b[0m \u001b[0mselenium\u001b[0m\u001b[0;34m.\u001b[0m\u001b[0mwebdriver\u001b[0m\u001b[0;34m.\u001b[0m\u001b[0mcommon\u001b[0m\u001b[0;34m.\u001b[0m\u001b[0mby\u001b[0m \u001b[0;32mimport\u001b[0m \u001b[0mBy\u001b[0m\u001b[0;34m\u001b[0m\u001b[0;34m\u001b[0m\u001b[0m\n\u001b[1;32m      9\u001b[0m \u001b[0;32mfrom\u001b[0m \u001b[0mselenium\u001b[0m\u001b[0;34m.\u001b[0m\u001b[0mwebdriver\u001b[0m\u001b[0;34m.\u001b[0m\u001b[0mchrome\u001b[0m\u001b[0;34m.\u001b[0m\u001b[0moptions\u001b[0m \u001b[0;32mimport\u001b[0m \u001b[0mOptions\u001b[0m\u001b[0;34m\u001b[0m\u001b[0;34m\u001b[0m\u001b[0m\n",
            "\u001b[0;31mModuleNotFoundError\u001b[0m: No module named 'selenium'",
            "",
            "\u001b[0;31m---------------------------------------------------------------------------\u001b[0;32m\nNOTE: If your import is failing due to a missing package, you can\nmanually install dependencies using either !pip or !apt.\n\nTo view examples of installing some common dependencies, click the\n\"Open Examples\" button below.\n\u001b[0;31m---------------------------------------------------------------------------\u001b[0m\n"
          ],
          "errorDetails": {
            "actions": [
              {
                "action": "open_url",
                "actionText": "Open Examples",
                "url": "/notebooks/snippets/importing_libraries.ipynb"
              }
            ]
          }
        }
      ],
      "execution_count": 1
    },
    {
      "cell_type": "code",
      "source": [
        "PROJECT_ROOT = os.path.abspath(os.path.join(os.getcwd(), os.pardir))\n",
        "DATASET_PATH = os.path.join(PROJECT_ROOT, 'dataset')"
      ],
      "metadata": {
        "id": "y2DDIuHTF3pb",
        "ExecuteTime": {
          "end_time": "2025-03-20T18:22:06.047347Z",
          "start_time": "2025-03-20T18:22:06.033347Z"
        }
      },
      "id": "y2DDIuHTF3pb",
      "outputs": [],
      "execution_count": null
    },
    {
      "metadata": {
        "id": "75b8478ad218fd9c"
      },
      "cell_type": "markdown",
      "source": [
        "Creamos las funciones para crear una carpeta y para descargar las imagenes"
      ],
      "id": "75b8478ad218fd9c"
    },
    {
      "metadata": {
        "id": "d8f7422d70d61b26",
        "ExecuteTime": {
          "end_time": "2025-03-20T18:22:06.610743Z",
          "start_time": "2025-03-20T18:22:06.598781Z"
        }
      },
      "cell_type": "code",
      "source": [
        "def create_directory(directory):\n",
        "    if not os.path.exists(directory):\n",
        "        os.makedirs(directory)\n",
        "        print(f\"Directorio '{directory}' creado exitosamente.\")\n",
        "    else:\n",
        "        print(f\"El directorio '{directory}' ya existe.\")\n",
        "\n",
        "def is_valid_image(image_content):\n",
        "\n",
        "    try:\n",
        "        Image.open(io.BytesIO(image_content))\n",
        "        return True\n",
        "    except:\n",
        "        return False\n",
        "\n",
        "def download_image(url, folder_path, img_name):\n",
        "    try:\n",
        "        # Configurar headers para simular un navegador\n",
        "        headers = {\n",
        "            'User-Agent': 'Mozilla/5.0 (Windows NT 10.0; Win64; x64) AppleWebKit/537.36 (KHTML, like Gecko) Chrome/91.0.4472.124 Safari/537.36'\n",
        "        }\n",
        "        response = requests.get(url, headers=headers, stream=True, timeout=10)\n",
        "\n",
        "        if response.status_code == 200:\n",
        "            content = response.content\n",
        "\n",
        "            # Verificar que sea una imagen válida\n",
        "            if is_valid_image(content):\n",
        "                # Guardar la imagen\n",
        "                with open(os.path.join(folder_path, f\"{img_name}.jpg\"), 'wb') as f:\n",
        "                    f.write(content)\n",
        "                return True\n",
        "\n",
        "        return False\n",
        "    except Exception as e:\n",
        "        print(f\"Error al descargar imagen: {str(e)}\")\n",
        "        return False"
      ],
      "id": "d8f7422d70d61b26",
      "outputs": [],
      "execution_count": null
    },
    {
      "metadata": {
        "id": "7898ea8d7746db56"
      },
      "cell_type": "markdown",
      "source": [
        "Creamos la función para extraer las urls usando bing."
      ],
      "id": "7898ea8d7746db56"
    },
    {
      "metadata": {
        "id": "8dedc97627b3bb9f",
        "ExecuteTime": {
          "end_time": "2025-03-20T18:22:07.797846Z",
          "start_time": "2025-03-20T18:22:07.778762Z"
        }
      },
      "cell_type": "code",
      "source": [
        "def get_image_urls_using_bing(query, max_links_to_fetch=100):\n",
        "    \"\"\"Obtiene URLs de imágenes desde Bing.\"\"\"\n",
        "    search_url = f\"https://www.bing.com/images/search?q={query.replace(' ', '+')}&form=HDRSC2&first=1\"\n",
        "\n",
        "    chrome_options = Options()\n",
        "    chrome_options.add_argument(\"--headless\")\n",
        "    chrome_options.add_argument(\"--no-sandbox\")\n",
        "    chrome_options.add_argument(\"--disable-dev-shm-usage\")\n",
        "\n",
        "    driver = webdriver.Chrome(service=Service(ChromeDriverManager().install()), options=chrome_options)\n",
        "\n",
        "    try:\n",
        "        driver.get(search_url)\n",
        "        time.sleep(2)  # Esperar carga inicial\n",
        "\n",
        "        # Scroll progresivo para cargar más imágenes\n",
        "        scroll_pause_time = 3  # Tiempo entre scrolls\n",
        "        screen_height = driver.execute_script(\"return window.innerHeight\")\n",
        "        scrolls = 0\n",
        "        image_urls = set()  # Usar set para evitar duplicados\n",
        "\n",
        "        while len(image_urls) < max_links_to_fetch and scrolls < 20:  # Máximo 20 scrolls\n",
        "            # Scroll hacia abajo\n",
        "            driver.execute_script(f\"window.scrollBy(0, {screen_height * 2});\")\n",
        "            time.sleep(scroll_pause_time)\n",
        "\n",
        "            # Capturar nuevas imágenes\n",
        "            thumbnails = driver.find_elements(By.CSS_SELECTOR, \".mimg\")\n",
        "\n",
        "            for img in thumbnails:\n",
        "                if len(image_urls) >= max_links_to_fetch:\n",
        "                    break\n",
        "                try:\n",
        "                    # Obtener URL real desde data-src (evitar placeholders)\n",
        "                    url = img.get_attribute(\"data-src\") or img.get_attribute(\"src\")\n",
        "                    if url and url.startswith(\"http\") and url not in image_urls:\n",
        "                        image_urls.add(url)\n",
        "                except StaleElementReferenceException:\n",
        "                    continue\n",
        "\n",
        "            scrolls += 1\n",
        "\n",
        "        return list(image_urls)[:max_links_to_fetch]  # Convertir a lista y limitar\n",
        "\n",
        "    finally:\n",
        "        driver.quit()"
      ],
      "id": "8dedc97627b3bb9f",
      "outputs": [],
      "execution_count": null
    },
    {
      "metadata": {
        "id": "5215e89c674967c0"
      },
      "cell_type": "markdown",
      "source": [
        "Definimos la función para crear el dataset con imagenes de Lebron James y Messi"
      ],
      "id": "5215e89c674967c0"
    },
    {
      "metadata": {
        "id": "ee4a406212ecab77",
        "ExecuteTime": {
          "end_time": "2025-03-20T18:22:10.040207Z",
          "start_time": "2025-03-20T18:22:10.028675Z"
        }
      },
      "cell_type": "code",
      "source": [
        "def create_dataset(num_images_per_category=200):\n",
        "    # Asegurar que exista la carpeta dataset\n",
        "    create_directory(DATASET_PATH)\n",
        "\n",
        "    # Categorías a descargar\n",
        "    categories = {\n",
        "        \"reloj de pared circular clasico\": num_images_per_category,\n",
        "        \"botella de vidrio\": num_images_per_category\n",
        "    }\n",
        "\n",
        "    for category, num_images in categories.items():\n",
        "        category_folder = os.path.join(DATASET_PATH, category.replace(\" \", \"_\"))\n",
        "        create_directory(category_folder)\n",
        "\n",
        "        print(f\"\\nIniciando descarga de imágenes para la categoría: {category}\")\n",
        "\n",
        "        # Obtener URLs de imágenes\n",
        "        image_urls = get_image_urls_using_bing(category, max_links_to_fetch=num_images*2)  # Obtener más URLs de las necesarias\n",
        "\n",
        "        # Descargar imágenes\n",
        "        downloaded_count = 0\n",
        "        for i, url in enumerate(image_urls):\n",
        "            if downloaded_count >= num_images:\n",
        "                break\n",
        "\n",
        "            # Generar un nombre basado en el hash de la URL para evitar duplicados\n",
        "            img_name = f\"{category.replace(' ', '_')}_{downloaded_count}\"\n",
        "\n",
        "            # Intentar descargar la imagen\n",
        "            if download_image(url, category_folder, img_name):\n",
        "                downloaded_count += 1\n",
        "                print(f\"Descargada imagen {downloaded_count}/{num_images} de '{category}'\")\n",
        "\n",
        "        print(f\"Descarga completada. Se descargaron {downloaded_count} imágenes para {category}.\")\n",
        "\n",
        "    print(\"\\nCreación del dataset completada. Estructura:\")\n",
        "    print(f\"- {DATASET_PATH}/\")\n",
        "    for category in categories:\n",
        "        category_name = category.replace(\" \", \"_\")\n",
        "        print(f\"  - {category_name}/\")\n",
        "        print(f\"    - {category_name}_0.jpg\")\n",
        "        print(f\"    - {category_name}_1.jpg\")\n",
        "        print(f\"    - ...\")"
      ],
      "id": "ee4a406212ecab77",
      "outputs": [],
      "execution_count": null
    },
    {
      "metadata": {
        "id": "d13df00ef45dd595",
        "outputId": "5d31b36d-277e-4ab6-f089-85d14a955ccd",
        "ExecuteTime": {
          "end_time": "2025-03-20T18:25:52.988675Z",
          "start_time": "2025-03-20T18:22:12.911586Z"
        }
      },
      "cell_type": "code",
      "source": [
        "create_dataset(num_images_per_category=200)"
      ],
      "id": "d13df00ef45dd595",
      "outputs": [
        {
          "name": "stdout",
          "output_type": "stream",
          "text": [
            "Directorio 'C:\\Users\\ctorr\\OneDrive\\Documentos\\Arturo\\Arturo HW ITESO\\6to semestre\\Deep learning\\Github\\Proyecto 1 - DAE + VAE\\dataset' creado exitosamente.\n",
            "Directorio 'C:\\Users\\ctorr\\OneDrive\\Documentos\\Arturo\\Arturo HW ITESO\\6to semestre\\Deep learning\\Github\\Proyecto 1 - DAE + VAE\\dataset\\reloj_de_pared_circular_clasico' creado exitosamente.\n",
            "\n",
            "Iniciando descarga de imágenes para la categoría: reloj de pared circular clasico\n",
            "Descargada imagen 1/200 de 'reloj de pared circular clasico'\n",
            "Descargada imagen 2/200 de 'reloj de pared circular clasico'\n",
            "Descargada imagen 3/200 de 'reloj de pared circular clasico'\n",
            "Descargada imagen 4/200 de 'reloj de pared circular clasico'\n",
            "Descargada imagen 5/200 de 'reloj de pared circular clasico'\n",
            "Descargada imagen 6/200 de 'reloj de pared circular clasico'\n",
            "Descargada imagen 7/200 de 'reloj de pared circular clasico'\n",
            "Descargada imagen 8/200 de 'reloj de pared circular clasico'\n",
            "Descargada imagen 9/200 de 'reloj de pared circular clasico'\n",
            "Descargada imagen 10/200 de 'reloj de pared circular clasico'\n",
            "Descargada imagen 11/200 de 'reloj de pared circular clasico'\n",
            "Descargada imagen 12/200 de 'reloj de pared circular clasico'\n",
            "Descargada imagen 13/200 de 'reloj de pared circular clasico'\n",
            "Descargada imagen 14/200 de 'reloj de pared circular clasico'\n",
            "Descargada imagen 15/200 de 'reloj de pared circular clasico'\n",
            "Descargada imagen 16/200 de 'reloj de pared circular clasico'\n",
            "Descargada imagen 17/200 de 'reloj de pared circular clasico'\n",
            "Descargada imagen 18/200 de 'reloj de pared circular clasico'\n",
            "Descargada imagen 19/200 de 'reloj de pared circular clasico'\n",
            "Descargada imagen 20/200 de 'reloj de pared circular clasico'\n",
            "Descargada imagen 21/200 de 'reloj de pared circular clasico'\n",
            "Descargada imagen 22/200 de 'reloj de pared circular clasico'\n",
            "Descargada imagen 23/200 de 'reloj de pared circular clasico'\n",
            "Descargada imagen 24/200 de 'reloj de pared circular clasico'\n",
            "Descargada imagen 25/200 de 'reloj de pared circular clasico'\n",
            "Descargada imagen 26/200 de 'reloj de pared circular clasico'\n",
            "Descargada imagen 27/200 de 'reloj de pared circular clasico'\n",
            "Descargada imagen 28/200 de 'reloj de pared circular clasico'\n",
            "Descargada imagen 29/200 de 'reloj de pared circular clasico'\n",
            "Descargada imagen 30/200 de 'reloj de pared circular clasico'\n",
            "Descargada imagen 31/200 de 'reloj de pared circular clasico'\n",
            "Descargada imagen 32/200 de 'reloj de pared circular clasico'\n",
            "Descargada imagen 33/200 de 'reloj de pared circular clasico'\n",
            "Descargada imagen 34/200 de 'reloj de pared circular clasico'\n",
            "Descargada imagen 35/200 de 'reloj de pared circular clasico'\n",
            "Descargada imagen 36/200 de 'reloj de pared circular clasico'\n",
            "Descargada imagen 37/200 de 'reloj de pared circular clasico'\n",
            "Descargada imagen 38/200 de 'reloj de pared circular clasico'\n",
            "Descargada imagen 39/200 de 'reloj de pared circular clasico'\n",
            "Descargada imagen 40/200 de 'reloj de pared circular clasico'\n",
            "Descargada imagen 41/200 de 'reloj de pared circular clasico'\n",
            "Descargada imagen 42/200 de 'reloj de pared circular clasico'\n",
            "Descargada imagen 43/200 de 'reloj de pared circular clasico'\n",
            "Descargada imagen 44/200 de 'reloj de pared circular clasico'\n",
            "Descargada imagen 45/200 de 'reloj de pared circular clasico'\n",
            "Descargada imagen 46/200 de 'reloj de pared circular clasico'\n",
            "Descargada imagen 47/200 de 'reloj de pared circular clasico'\n",
            "Descargada imagen 48/200 de 'reloj de pared circular clasico'\n",
            "Descargada imagen 49/200 de 'reloj de pared circular clasico'\n",
            "Descargada imagen 50/200 de 'reloj de pared circular clasico'\n",
            "Descargada imagen 51/200 de 'reloj de pared circular clasico'\n",
            "Descargada imagen 52/200 de 'reloj de pared circular clasico'\n",
            "Descargada imagen 53/200 de 'reloj de pared circular clasico'\n",
            "Descargada imagen 54/200 de 'reloj de pared circular clasico'\n",
            "Descargada imagen 55/200 de 'reloj de pared circular clasico'\n",
            "Descargada imagen 56/200 de 'reloj de pared circular clasico'\n",
            "Descargada imagen 57/200 de 'reloj de pared circular clasico'\n",
            "Descargada imagen 58/200 de 'reloj de pared circular clasico'\n",
            "Descargada imagen 59/200 de 'reloj de pared circular clasico'\n",
            "Descargada imagen 60/200 de 'reloj de pared circular clasico'\n",
            "Descargada imagen 61/200 de 'reloj de pared circular clasico'\n",
            "Descargada imagen 62/200 de 'reloj de pared circular clasico'\n",
            "Descargada imagen 63/200 de 'reloj de pared circular clasico'\n",
            "Descargada imagen 64/200 de 'reloj de pared circular clasico'\n",
            "Descargada imagen 65/200 de 'reloj de pared circular clasico'\n",
            "Descargada imagen 66/200 de 'reloj de pared circular clasico'\n",
            "Descargada imagen 67/200 de 'reloj de pared circular clasico'\n",
            "Descargada imagen 68/200 de 'reloj de pared circular clasico'\n",
            "Descargada imagen 69/200 de 'reloj de pared circular clasico'\n",
            "Descargada imagen 70/200 de 'reloj de pared circular clasico'\n",
            "Descargada imagen 71/200 de 'reloj de pared circular clasico'\n",
            "Descargada imagen 72/200 de 'reloj de pared circular clasico'\n",
            "Descargada imagen 73/200 de 'reloj de pared circular clasico'\n",
            "Descargada imagen 74/200 de 'reloj de pared circular clasico'\n",
            "Descargada imagen 75/200 de 'reloj de pared circular clasico'\n",
            "Descargada imagen 76/200 de 'reloj de pared circular clasico'\n",
            "Descargada imagen 77/200 de 'reloj de pared circular clasico'\n",
            "Descargada imagen 78/200 de 'reloj de pared circular clasico'\n",
            "Descargada imagen 79/200 de 'reloj de pared circular clasico'\n",
            "Descargada imagen 80/200 de 'reloj de pared circular clasico'\n",
            "Descargada imagen 81/200 de 'reloj de pared circular clasico'\n",
            "Descargada imagen 82/200 de 'reloj de pared circular clasico'\n",
            "Descargada imagen 83/200 de 'reloj de pared circular clasico'\n",
            "Descargada imagen 84/200 de 'reloj de pared circular clasico'\n",
            "Descargada imagen 85/200 de 'reloj de pared circular clasico'\n",
            "Descargada imagen 86/200 de 'reloj de pared circular clasico'\n",
            "Descargada imagen 87/200 de 'reloj de pared circular clasico'\n",
            "Descargada imagen 88/200 de 'reloj de pared circular clasico'\n",
            "Descargada imagen 89/200 de 'reloj de pared circular clasico'\n",
            "Descargada imagen 90/200 de 'reloj de pared circular clasico'\n",
            "Descargada imagen 91/200 de 'reloj de pared circular clasico'\n",
            "Descargada imagen 92/200 de 'reloj de pared circular clasico'\n",
            "Descargada imagen 93/200 de 'reloj de pared circular clasico'\n",
            "Descargada imagen 94/200 de 'reloj de pared circular clasico'\n",
            "Descargada imagen 95/200 de 'reloj de pared circular clasico'\n",
            "Descargada imagen 96/200 de 'reloj de pared circular clasico'\n",
            "Descargada imagen 97/200 de 'reloj de pared circular clasico'\n",
            "Descargada imagen 98/200 de 'reloj de pared circular clasico'\n",
            "Descargada imagen 99/200 de 'reloj de pared circular clasico'\n",
            "Descargada imagen 100/200 de 'reloj de pared circular clasico'\n",
            "Descargada imagen 101/200 de 'reloj de pared circular clasico'\n",
            "Descargada imagen 102/200 de 'reloj de pared circular clasico'\n",
            "Descargada imagen 103/200 de 'reloj de pared circular clasico'\n",
            "Descargada imagen 104/200 de 'reloj de pared circular clasico'\n",
            "Descargada imagen 105/200 de 'reloj de pared circular clasico'\n",
            "Descargada imagen 106/200 de 'reloj de pared circular clasico'\n",
            "Descargada imagen 107/200 de 'reloj de pared circular clasico'\n",
            "Descargada imagen 108/200 de 'reloj de pared circular clasico'\n",
            "Descargada imagen 109/200 de 'reloj de pared circular clasico'\n",
            "Descargada imagen 110/200 de 'reloj de pared circular clasico'\n",
            "Descargada imagen 111/200 de 'reloj de pared circular clasico'\n",
            "Descargada imagen 112/200 de 'reloj de pared circular clasico'\n",
            "Descargada imagen 113/200 de 'reloj de pared circular clasico'\n",
            "Descargada imagen 114/200 de 'reloj de pared circular clasico'\n",
            "Descargada imagen 115/200 de 'reloj de pared circular clasico'\n",
            "Descargada imagen 116/200 de 'reloj de pared circular clasico'\n",
            "Descargada imagen 117/200 de 'reloj de pared circular clasico'\n",
            "Descargada imagen 118/200 de 'reloj de pared circular clasico'\n",
            "Descargada imagen 119/200 de 'reloj de pared circular clasico'\n",
            "Descargada imagen 120/200 de 'reloj de pared circular clasico'\n",
            "Descargada imagen 121/200 de 'reloj de pared circular clasico'\n",
            "Descargada imagen 122/200 de 'reloj de pared circular clasico'\n",
            "Descargada imagen 123/200 de 'reloj de pared circular clasico'\n",
            "Descargada imagen 124/200 de 'reloj de pared circular clasico'\n",
            "Descargada imagen 125/200 de 'reloj de pared circular clasico'\n",
            "Descargada imagen 126/200 de 'reloj de pared circular clasico'\n",
            "Descargada imagen 127/200 de 'reloj de pared circular clasico'\n",
            "Descargada imagen 128/200 de 'reloj de pared circular clasico'\n",
            "Descargada imagen 129/200 de 'reloj de pared circular clasico'\n",
            "Descargada imagen 130/200 de 'reloj de pared circular clasico'\n",
            "Descargada imagen 131/200 de 'reloj de pared circular clasico'\n",
            "Descargada imagen 132/200 de 'reloj de pared circular clasico'\n",
            "Descargada imagen 133/200 de 'reloj de pared circular clasico'\n",
            "Descargada imagen 134/200 de 'reloj de pared circular clasico'\n",
            "Descarga completada. Se descargaron 134 imágenes para reloj de pared circular clasico.\n",
            "Directorio 'C:\\Users\\ctorr\\OneDrive\\Documentos\\Arturo\\Arturo HW ITESO\\6to semestre\\Deep learning\\Github\\Proyecto 1 - DAE + VAE\\dataset\\botella_de_vidrio' creado exitosamente.\n",
            "\n",
            "Iniciando descarga de imágenes para la categoría: botella de vidrio\n",
            "Descargada imagen 1/200 de 'botella de vidrio'\n",
            "Descargada imagen 2/200 de 'botella de vidrio'\n",
            "Descargada imagen 3/200 de 'botella de vidrio'\n",
            "Descargada imagen 4/200 de 'botella de vidrio'\n",
            "Descargada imagen 5/200 de 'botella de vidrio'\n",
            "Descargada imagen 6/200 de 'botella de vidrio'\n",
            "Descargada imagen 7/200 de 'botella de vidrio'\n",
            "Descargada imagen 8/200 de 'botella de vidrio'\n",
            "Descargada imagen 9/200 de 'botella de vidrio'\n",
            "Descargada imagen 10/200 de 'botella de vidrio'\n",
            "Descargada imagen 11/200 de 'botella de vidrio'\n",
            "Descargada imagen 12/200 de 'botella de vidrio'\n",
            "Descargada imagen 13/200 de 'botella de vidrio'\n",
            "Descargada imagen 14/200 de 'botella de vidrio'\n",
            "Descargada imagen 15/200 de 'botella de vidrio'\n",
            "Descargada imagen 16/200 de 'botella de vidrio'\n",
            "Descargada imagen 17/200 de 'botella de vidrio'\n",
            "Descargada imagen 18/200 de 'botella de vidrio'\n",
            "Descargada imagen 19/200 de 'botella de vidrio'\n",
            "Descargada imagen 20/200 de 'botella de vidrio'\n",
            "Descargada imagen 21/200 de 'botella de vidrio'\n",
            "Descargada imagen 22/200 de 'botella de vidrio'\n",
            "Descargada imagen 23/200 de 'botella de vidrio'\n",
            "Descargada imagen 24/200 de 'botella de vidrio'\n",
            "Descargada imagen 25/200 de 'botella de vidrio'\n",
            "Descargada imagen 26/200 de 'botella de vidrio'\n",
            "Descargada imagen 27/200 de 'botella de vidrio'\n",
            "Descargada imagen 28/200 de 'botella de vidrio'\n",
            "Descargada imagen 29/200 de 'botella de vidrio'\n",
            "Descargada imagen 30/200 de 'botella de vidrio'\n",
            "Descargada imagen 31/200 de 'botella de vidrio'\n",
            "Descargada imagen 32/200 de 'botella de vidrio'\n",
            "Descargada imagen 33/200 de 'botella de vidrio'\n",
            "Descargada imagen 34/200 de 'botella de vidrio'\n",
            "Descargada imagen 35/200 de 'botella de vidrio'\n",
            "Descargada imagen 36/200 de 'botella de vidrio'\n",
            "Descargada imagen 37/200 de 'botella de vidrio'\n",
            "Descargada imagen 38/200 de 'botella de vidrio'\n",
            "Descargada imagen 39/200 de 'botella de vidrio'\n",
            "Descargada imagen 40/200 de 'botella de vidrio'\n",
            "Descargada imagen 41/200 de 'botella de vidrio'\n",
            "Descargada imagen 42/200 de 'botella de vidrio'\n",
            "Descargada imagen 43/200 de 'botella de vidrio'\n",
            "Descargada imagen 44/200 de 'botella de vidrio'\n",
            "Descargada imagen 45/200 de 'botella de vidrio'\n",
            "Descargada imagen 46/200 de 'botella de vidrio'\n",
            "Descargada imagen 47/200 de 'botella de vidrio'\n",
            "Descargada imagen 48/200 de 'botella de vidrio'\n",
            "Descargada imagen 49/200 de 'botella de vidrio'\n",
            "Descargada imagen 50/200 de 'botella de vidrio'\n",
            "Descargada imagen 51/200 de 'botella de vidrio'\n",
            "Descargada imagen 52/200 de 'botella de vidrio'\n",
            "Descargada imagen 53/200 de 'botella de vidrio'\n",
            "Descargada imagen 54/200 de 'botella de vidrio'\n",
            "Descargada imagen 55/200 de 'botella de vidrio'\n",
            "Descargada imagen 56/200 de 'botella de vidrio'\n",
            "Descargada imagen 57/200 de 'botella de vidrio'\n",
            "Descargada imagen 58/200 de 'botella de vidrio'\n",
            "Descargada imagen 59/200 de 'botella de vidrio'\n",
            "Descargada imagen 60/200 de 'botella de vidrio'\n",
            "Descargada imagen 61/200 de 'botella de vidrio'\n",
            "Descargada imagen 62/200 de 'botella de vidrio'\n",
            "Descargada imagen 63/200 de 'botella de vidrio'\n",
            "Descargada imagen 64/200 de 'botella de vidrio'\n",
            "Descargada imagen 65/200 de 'botella de vidrio'\n",
            "Descargada imagen 66/200 de 'botella de vidrio'\n",
            "Descargada imagen 67/200 de 'botella de vidrio'\n",
            "Descargada imagen 68/200 de 'botella de vidrio'\n",
            "Descargada imagen 69/200 de 'botella de vidrio'\n",
            "Descargada imagen 70/200 de 'botella de vidrio'\n",
            "Descargada imagen 71/200 de 'botella de vidrio'\n",
            "Descargada imagen 72/200 de 'botella de vidrio'\n",
            "Descargada imagen 73/200 de 'botella de vidrio'\n",
            "Descargada imagen 74/200 de 'botella de vidrio'\n",
            "Descargada imagen 75/200 de 'botella de vidrio'\n",
            "Descargada imagen 76/200 de 'botella de vidrio'\n",
            "Descargada imagen 77/200 de 'botella de vidrio'\n",
            "Descargada imagen 78/200 de 'botella de vidrio'\n",
            "Descargada imagen 79/200 de 'botella de vidrio'\n",
            "Descargada imagen 80/200 de 'botella de vidrio'\n",
            "Descargada imagen 81/200 de 'botella de vidrio'\n",
            "Descargada imagen 82/200 de 'botella de vidrio'\n",
            "Descargada imagen 83/200 de 'botella de vidrio'\n",
            "Descargada imagen 84/200 de 'botella de vidrio'\n",
            "Descargada imagen 85/200 de 'botella de vidrio'\n",
            "Descargada imagen 86/200 de 'botella de vidrio'\n",
            "Descargada imagen 87/200 de 'botella de vidrio'\n",
            "Descargada imagen 88/200 de 'botella de vidrio'\n",
            "Descargada imagen 89/200 de 'botella de vidrio'\n",
            "Descargada imagen 90/200 de 'botella de vidrio'\n",
            "Descargada imagen 91/200 de 'botella de vidrio'\n",
            "Descargada imagen 92/200 de 'botella de vidrio'\n",
            "Descargada imagen 93/200 de 'botella de vidrio'\n",
            "Descargada imagen 94/200 de 'botella de vidrio'\n",
            "Descargada imagen 95/200 de 'botella de vidrio'\n",
            "Descargada imagen 96/200 de 'botella de vidrio'\n",
            "Descargada imagen 97/200 de 'botella de vidrio'\n",
            "Descargada imagen 98/200 de 'botella de vidrio'\n",
            "Descargada imagen 99/200 de 'botella de vidrio'\n",
            "Descargada imagen 100/200 de 'botella de vidrio'\n",
            "Descargada imagen 101/200 de 'botella de vidrio'\n",
            "Descargada imagen 102/200 de 'botella de vidrio'\n",
            "Descargada imagen 103/200 de 'botella de vidrio'\n",
            "Descargada imagen 104/200 de 'botella de vidrio'\n",
            "Descargada imagen 105/200 de 'botella de vidrio'\n",
            "Descargada imagen 106/200 de 'botella de vidrio'\n",
            "Descargada imagen 107/200 de 'botella de vidrio'\n",
            "Descargada imagen 108/200 de 'botella de vidrio'\n",
            "Descargada imagen 109/200 de 'botella de vidrio'\n",
            "Descargada imagen 110/200 de 'botella de vidrio'\n",
            "Descargada imagen 111/200 de 'botella de vidrio'\n",
            "Descargada imagen 112/200 de 'botella de vidrio'\n",
            "Descargada imagen 113/200 de 'botella de vidrio'\n",
            "Descargada imagen 114/200 de 'botella de vidrio'\n",
            "Descargada imagen 115/200 de 'botella de vidrio'\n",
            "Descargada imagen 116/200 de 'botella de vidrio'\n",
            "Descargada imagen 117/200 de 'botella de vidrio'\n",
            "Descargada imagen 118/200 de 'botella de vidrio'\n",
            "Descargada imagen 119/200 de 'botella de vidrio'\n",
            "Descargada imagen 120/200 de 'botella de vidrio'\n",
            "Descargada imagen 121/200 de 'botella de vidrio'\n",
            "Descargada imagen 122/200 de 'botella de vidrio'\n",
            "Descargada imagen 123/200 de 'botella de vidrio'\n",
            "Descargada imagen 124/200 de 'botella de vidrio'\n",
            "Descargada imagen 125/200 de 'botella de vidrio'\n",
            "Descargada imagen 126/200 de 'botella de vidrio'\n",
            "Descargada imagen 127/200 de 'botella de vidrio'\n",
            "Descargada imagen 128/200 de 'botella de vidrio'\n",
            "Descargada imagen 129/200 de 'botella de vidrio'\n",
            "Descargada imagen 130/200 de 'botella de vidrio'\n",
            "Descargada imagen 131/200 de 'botella de vidrio'\n",
            "Descargada imagen 132/200 de 'botella de vidrio'\n",
            "Descargada imagen 133/200 de 'botella de vidrio'\n",
            "Descargada imagen 134/200 de 'botella de vidrio'\n",
            "Descargada imagen 135/200 de 'botella de vidrio'\n",
            "Descarga completada. Se descargaron 135 imágenes para botella de vidrio.\n",
            "\n",
            "Creación del dataset completada. Estructura:\n",
            "- C:\\Users\\ctorr\\OneDrive\\Documentos\\Arturo\\Arturo HW ITESO\\6to semestre\\Deep learning\\Github\\Proyecto 1 - DAE + VAE\\dataset/\n",
            "  - reloj_de_pared_circular_clasico/\n",
            "    - reloj_de_pared_circular_clasico_0.jpg\n",
            "    - reloj_de_pared_circular_clasico_1.jpg\n",
            "    - ...\n",
            "  - botella_de_vidrio/\n",
            "    - botella_de_vidrio_0.jpg\n",
            "    - botella_de_vidrio_1.jpg\n",
            "    - ...\n"
          ]
        }
      ],
      "execution_count": null
    },
    {
      "metadata": {
        "id": "65e79e4a6681cb27",
        "outputId": "2e8e2f87-820e-4dd2-8773-af3b0a835c59",
        "colab": {
          "base_uri": "https://localhost:8080/"
        }
      },
      "cell_type": "code",
      "source": [
        "# Clona el repositorio\n",
        "!git clone https://github.com/arturotowers/Deep_learning.git"
      ],
      "id": "65e79e4a6681cb27",
      "outputs": [
        {
          "output_type": "stream",
          "name": "stdout",
          "text": [
            "Cloning into 'Deep_learning'...\n",
            "remote: Enumerating objects: 1475, done.\u001b[K\n",
            "remote: Counting objects: 100% (159/159), done.\u001b[K\n",
            "remote: Compressing objects: 100% (157/157), done.\u001b[K\n",
            "remote: Total 1475 (delta 6), reused 139 (delta 1), pack-reused 1316 (from 1)\u001b[K\n",
            "Receiving objects: 100% (1475/1475), 255.92 MiB | 36.11 MiB/s, done.\n",
            "Resolving deltas: 100% (59/59), done.\n"
          ]
        }
      ],
      "execution_count": 1
    },
    {
      "cell_type": "code",
      "source": [
        "%cd Deep_learning"
      ],
      "metadata": {
        "id": "-ehksajgyd0h",
        "outputId": "70ba61ab-df3c-469c-8108-8db8e1cd07fa",
        "colab": {
          "base_uri": "https://localhost:8080/"
        }
      },
      "id": "-ehksajgyd0h",
      "outputs": [
        {
          "output_type": "stream",
          "name": "stdout",
          "text": [
            "/content/Deep_learning\n"
          ]
        }
      ],
      "execution_count": 2
    },
    {
      "cell_type": "code",
      "source": [
        "!git checkout ArturoTorres\n"
      ],
      "metadata": {
        "id": "JTAPluHSxJKG",
        "outputId": "94d66680-9b0a-4600-f945-77e69e8d07ea",
        "colab": {
          "base_uri": "https://localhost:8080/"
        }
      },
      "id": "JTAPluHSxJKG",
      "outputs": [
        {
          "output_type": "stream",
          "name": "stdout",
          "text": [
            "Branch 'ArturoTorres' set up to track remote branch 'ArturoTorres' from 'origin'.\n",
            "Switched to a new branch 'ArturoTorres'\n"
          ]
        }
      ],
      "execution_count": 4
    },
    {
      "cell_type": "markdown",
      "source": [
        "## Procesamiento de imagenes\n",
        "Importamos librerias para e preprocesamiento de imagenes y definimos la ruta y donde guardaremos las imagenes preprocesadas"
      ],
      "metadata": {
        "id": "4Rz-XGie6887"
      },
      "id": "4Rz-XGie6887"
    },
    {
      "cell_type": "code",
      "source": [
        "import os\n",
        "import glob\n",
        "import numpy as np\n",
        "from PIL import Image\n",
        "from sklearn.model_selection import train_test_split\n",
        "\n",
        "# Ruta de origen de las imágenes\n",
        "source_dir = \"/content/Deep_learning/Proyecto 1 - DAE + VAE/dataset\"\n",
        "# Carpeta destino para guardar las imágenes preprocesadas\n",
        "dest_dir = \"/content/Deep_learning/Proyecto 1 - DAE + VAE/processed_dataset\""
      ],
      "metadata": {
        "id": "mve_mBF0y9Y0"
      },
      "id": "mve_mBF0y9Y0",
      "outputs": [],
      "execution_count": 5
    },
    {
      "cell_type": "markdown",
      "source": [
        "Creamos la estructura para los splits y nos aseguramos de que la carpeta exista"
      ],
      "metadata": {
        "id": "Yv_SbMf-7kNG"
      },
      "id": "Yv_SbMf-7kNG"
    },
    {
      "cell_type": "code",
      "source": [
        "splits = ['train', 'val', 'test']\n",
        "split_ratios = {'train': 0.7, 'val': 0.15, 'test': 0.15}\n",
        "os.makedirs(dest_dir, exist_ok=True)"
      ],
      "metadata": {
        "id": "B9ld3UbR679g"
      },
      "id": "B9ld3UbR679g",
      "outputs": [],
      "execution_count": 6
    },
    {
      "cell_type": "code",
      "source": [
        "for class_name in os.listdir(source_dir):\n",
        "    class_path = os.path.join(source_dir, class_name)\n",
        "    if os.path.isdir(class_path):\n",
        "        # Buscar imágenes (se asume extensión .jpg; se puede agregar .png si es necesario)\n",
        "        image_paths = glob.glob(os.path.join(class_path, \"*.jpg\"))\n",
        "        if len(image_paths) == 0:\n",
        "            image_paths = glob.glob(os.path.join(class_path, \"*.png\"))\n",
        "\n",
        "        # Dividir las imágenes en train, val y test\n",
        "        train_files, temp_files = train_test_split(image_paths, test_size=(1 - split_ratios['train']), random_state=42)\n",
        "        val_files, test_files = train_test_split(temp_files, test_size=0.5, random_state=42)  # Dividir equitativamente entre validación y prueba\n",
        "\n",
        "        split_files = {'train': train_files, 'val': val_files, 'test': test_files}\n",
        "\n",
        "        # Procesar y guardar cada imagen en el directorio correspondiente\n",
        "        for split in splits:\n",
        "            split_class_dir = os.path.join(dest_dir, split, class_name)\n",
        "            os.makedirs(split_class_dir, exist_ok=True)\n",
        "            for file_path in split_files[split]:\n",
        "                try:\n",
        "                    # Abrir imagen y convertir a RGB\n",
        "                    image = Image.open(file_path).convert('RGB')\n",
        "                    # Redimensionar la imagen a un tamaño fijo (por ejemplo, 256x256)\n",
        "                    image = image.resize((256, 256))\n",
        "                    # Convertir a array y normalizar (valores de 0 a 1)\n",
        "                    image_array = np.array(image, dtype=np.float32) / 255.0\n",
        "                    # Guardar el array normalizado como .npy\n",
        "                    base_name = os.path.basename(file_path)\n",
        "                    file_name = os.path.splitext(base_name)[0] + \".npy\"\n",
        "                    np.save(os.path.join(split_class_dir, file_name), image_array)\n",
        "                except Exception as e:\n",
        "                    print(f\"Error procesando {file_path}: {e}\")\n",
        "\n",
        "print(\"Preprocesamiento y organización completados.\")"
      ],
      "metadata": {
        "id": "5pNDfgo47wUH",
        "outputId": "0a0f5e30-a5b7-4853-fff4-c378879a5130",
        "colab": {
          "base_uri": "https://localhost:8080/"
        }
      },
      "id": "5pNDfgo47wUH",
      "outputs": [
        {
          "output_type": "stream",
          "name": "stdout",
          "text": [
            "Preprocesamiento y organización completados.\n"
          ]
        }
      ],
      "execution_count": 7
    },
    {
      "cell_type": "markdown",
      "source": [
        "- Redimensión: Se establece un tamaño fijo (256×256)\n",
        "- Normalización: Se convierte cada imagen a un array de tipo float32 y se divide entre 255 para tener valores en [0, 1].\n",
        "- Formato de guardado: Se guarda cada imagen preprocesada en formato .npy para facilitar su carga en modelos de deep learning.\n",
        "- División de datos: Se usa train_test_split de scikit-learn para obtener una división balanceada."
      ],
      "metadata": {
        "id": "PNaKtdOM8YVY"
      },
      "id": "PNaKtdOM8YVY"
    },
    {
      "cell_type": "code",
      "source": [
        "!git config --global user.email \"cartosan2007@gmail.com\"\n",
        "!git config --global user.name \"arturotowers\""
      ],
      "metadata": {
        "id": "-dK4GMOa--nz"
      },
      "id": "-dK4GMOa--nz",
      "execution_count": 8,
      "outputs": []
    },
    {
      "cell_type": "code",
      "source": [
        "!git add .\n",
        "!git commit -m \"Creamos el procesamiento de datos de nuestras imagenes\""
      ],
      "metadata": {
        "id": "X4FRZH7K73wr",
        "outputId": "40b943e1-9d20-4e3b-e06b-03050c38cfef",
        "colab": {
          "base_uri": "https://localhost:8080/"
        }
      },
      "id": "X4FRZH7K73wr",
      "outputs": [
        {
          "output_type": "stream",
          "name": "stdout",
          "text": [
            "[ArturoTorres 3eeeec3] Creamos el procesamiento de datos de nuestras imagenes\n",
            " 130 files changed, 0 insertions(+), 0 deletions(-)\n",
            " create mode 100644 Proyecto 1 - DAE + VAE/processed_dataset/test/botella_de_vidrio/botella_de_vidrio_0.npy\n",
            " create mode 100644 Proyecto 1 - DAE + VAE/processed_dataset/test/botella_de_vidrio/botella_de_vidrio_10.npy\n",
            " create mode 100644 Proyecto 1 - DAE + VAE/processed_dataset/test/botella_de_vidrio/botella_de_vidrio_118.npy\n",
            " create mode 100644 Proyecto 1 - DAE + VAE/processed_dataset/test/botella_de_vidrio/botella_de_vidrio_133.npy\n",
            " create mode 100644 Proyecto 1 - DAE + VAE/processed_dataset/test/botella_de_vidrio/botella_de_vidrio_16.npy\n",
            " create mode 100644 Proyecto 1 - DAE + VAE/processed_dataset/test/botella_de_vidrio/botella_de_vidrio_23.npy\n",
            " create mode 100644 Proyecto 1 - DAE + VAE/processed_dataset/test/botella_de_vidrio/botella_de_vidrio_26.npy\n",
            " create mode 100644 Proyecto 1 - DAE + VAE/processed_dataset/test/botella_de_vidrio/botella_de_vidrio_45.npy\n",
            " create mode 100644 Proyecto 1 - DAE + VAE/processed_dataset/test/botella_de_vidrio/botella_de_vidrio_94.npy\n",
            " create mode 100644 Proyecto 1 - DAE + VAE/processed_dataset/test/botella_de_vidrio/botella_de_vidrio_97.npy\n",
            " create mode 100644 Proyecto 1 - DAE + VAE/processed_dataset/test/reloj_de_pared_circular_clasico/reloj_de_pared_circular_clasico_106.npy\n",
            " create mode 100644 Proyecto 1 - DAE + VAE/processed_dataset/test/reloj_de_pared_circular_clasico/reloj_de_pared_circular_clasico_116.npy\n",
            " create mode 100644 Proyecto 1 - DAE + VAE/processed_dataset/test/reloj_de_pared_circular_clasico/reloj_de_pared_circular_clasico_126.npy\n",
            " create mode 100644 Proyecto 1 - DAE + VAE/processed_dataset/test/reloj_de_pared_circular_clasico/reloj_de_pared_circular_clasico_131.npy\n",
            " create mode 100644 Proyecto 1 - DAE + VAE/processed_dataset/test/reloj_de_pared_circular_clasico/reloj_de_pared_circular_clasico_41.npy\n",
            " create mode 100644 Proyecto 1 - DAE + VAE/processed_dataset/test/reloj_de_pared_circular_clasico/reloj_de_pared_circular_clasico_42.npy\n",
            " create mode 100644 Proyecto 1 - DAE + VAE/processed_dataset/test/reloj_de_pared_circular_clasico/reloj_de_pared_circular_clasico_63.npy\n",
            " create mode 100644 Proyecto 1 - DAE + VAE/processed_dataset/test/reloj_de_pared_circular_clasico/reloj_de_pared_circular_clasico_69.npy\n",
            " create mode 100644 Proyecto 1 - DAE + VAE/processed_dataset/test/reloj_de_pared_circular_clasico/reloj_de_pared_circular_clasico_70.npy\n",
            " create mode 100644 Proyecto 1 - DAE + VAE/processed_dataset/test/reloj_de_pared_circular_clasico/reloj_de_pared_circular_clasico_85.npy\n",
            " create mode 100644 Proyecto 1 - DAE + VAE/processed_dataset/train/botella_de_vidrio/botella_de_vidrio_1.npy\n",
            " create mode 100644 Proyecto 1 - DAE + VAE/processed_dataset/train/botella_de_vidrio/botella_de_vidrio_105.npy\n",
            " create mode 100644 Proyecto 1 - DAE + VAE/processed_dataset/train/botella_de_vidrio/botella_de_vidrio_109.npy\n",
            " create mode 100644 Proyecto 1 - DAE + VAE/processed_dataset/train/botella_de_vidrio/botella_de_vidrio_11.npy\n",
            " create mode 100644 Proyecto 1 - DAE + VAE/processed_dataset/train/botella_de_vidrio/botella_de_vidrio_110.npy\n",
            " create mode 100644 Proyecto 1 - DAE + VAE/processed_dataset/train/botella_de_vidrio/botella_de_vidrio_112.npy\n",
            " create mode 100644 Proyecto 1 - DAE + VAE/processed_dataset/train/botella_de_vidrio/botella_de_vidrio_113.npy\n",
            " create mode 100644 Proyecto 1 - DAE + VAE/processed_dataset/train/botella_de_vidrio/botella_de_vidrio_119.npy\n",
            " create mode 100644 Proyecto 1 - DAE + VAE/processed_dataset/train/botella_de_vidrio/botella_de_vidrio_12.npy\n",
            " create mode 100644 Proyecto 1 - DAE + VAE/processed_dataset/train/botella_de_vidrio/botella_de_vidrio_120.npy\n",
            " create mode 100644 Proyecto 1 - DAE + VAE/processed_dataset/train/botella_de_vidrio/botella_de_vidrio_130.npy\n",
            " create mode 100644 Proyecto 1 - DAE + VAE/processed_dataset/train/botella_de_vidrio/botella_de_vidrio_132.npy\n",
            " create mode 100644 Proyecto 1 - DAE + VAE/processed_dataset/train/botella_de_vidrio/botella_de_vidrio_134.npy\n",
            " create mode 100644 Proyecto 1 - DAE + VAE/processed_dataset/train/botella_de_vidrio/botella_de_vidrio_18.npy\n",
            " create mode 100644 Proyecto 1 - DAE + VAE/processed_dataset/train/botella_de_vidrio/botella_de_vidrio_19.npy\n",
            " create mode 100644 Proyecto 1 - DAE + VAE/processed_dataset/train/botella_de_vidrio/botella_de_vidrio_28.npy\n",
            " create mode 100644 Proyecto 1 - DAE + VAE/processed_dataset/train/botella_de_vidrio/botella_de_vidrio_31.npy\n",
            " create mode 100644 Proyecto 1 - DAE + VAE/processed_dataset/train/botella_de_vidrio/botella_de_vidrio_32.npy\n",
            " create mode 100644 Proyecto 1 - DAE + VAE/processed_dataset/train/botella_de_vidrio/botella_de_vidrio_33.npy\n",
            " create mode 100644 Proyecto 1 - DAE + VAE/processed_dataset/train/botella_de_vidrio/botella_de_vidrio_34.npy\n",
            " create mode 100644 Proyecto 1 - DAE + VAE/processed_dataset/train/botella_de_vidrio/botella_de_vidrio_37.npy\n",
            " create mode 100644 Proyecto 1 - DAE + VAE/processed_dataset/train/botella_de_vidrio/botella_de_vidrio_39.npy\n",
            " create mode 100644 Proyecto 1 - DAE + VAE/processed_dataset/train/botella_de_vidrio/botella_de_vidrio_4.npy\n",
            " create mode 100644 Proyecto 1 - DAE + VAE/processed_dataset/train/botella_de_vidrio/botella_de_vidrio_41.npy\n",
            " create mode 100644 Proyecto 1 - DAE + VAE/processed_dataset/train/botella_de_vidrio/botella_de_vidrio_43.npy\n",
            " create mode 100644 Proyecto 1 - DAE + VAE/processed_dataset/train/botella_de_vidrio/botella_de_vidrio_44.npy\n",
            " create mode 100644 Proyecto 1 - DAE + VAE/processed_dataset/train/botella_de_vidrio/botella_de_vidrio_46.npy\n",
            " create mode 100644 Proyecto 1 - DAE + VAE/processed_dataset/train/botella_de_vidrio/botella_de_vidrio_52.npy\n",
            " create mode 100644 Proyecto 1 - DAE + VAE/processed_dataset/train/botella_de_vidrio/botella_de_vidrio_54.npy\n",
            " create mode 100644 Proyecto 1 - DAE + VAE/processed_dataset/train/botella_de_vidrio/botella_de_vidrio_57.npy\n",
            " create mode 100644 Proyecto 1 - DAE + VAE/processed_dataset/train/botella_de_vidrio/botella_de_vidrio_64.npy\n",
            " create mode 100644 Proyecto 1 - DAE + VAE/processed_dataset/train/botella_de_vidrio/botella_de_vidrio_69.npy\n",
            " create mode 100644 Proyecto 1 - DAE + VAE/processed_dataset/train/botella_de_vidrio/botella_de_vidrio_71.npy\n",
            " create mode 100644 Proyecto 1 - DAE + VAE/processed_dataset/train/botella_de_vidrio/botella_de_vidrio_72.npy\n",
            " create mode 100644 Proyecto 1 - DAE + VAE/processed_dataset/train/botella_de_vidrio/botella_de_vidrio_73.npy\n",
            " create mode 100644 Proyecto 1 - DAE + VAE/processed_dataset/train/botella_de_vidrio/botella_de_vidrio_8.npy\n",
            " create mode 100644 Proyecto 1 - DAE + VAE/processed_dataset/train/botella_de_vidrio/botella_de_vidrio_80.npy\n",
            " create mode 100644 Proyecto 1 - DAE + VAE/processed_dataset/train/botella_de_vidrio/botella_de_vidrio_84.npy\n",
            " create mode 100644 Proyecto 1 - DAE + VAE/processed_dataset/train/botella_de_vidrio/botella_de_vidrio_85.npy\n",
            " create mode 100644 Proyecto 1 - DAE + VAE/processed_dataset/train/botella_de_vidrio/botella_de_vidrio_88.npy\n",
            " create mode 100644 Proyecto 1 - DAE + VAE/processed_dataset/train/botella_de_vidrio/botella_de_vidrio_89.npy\n",
            " create mode 100644 Proyecto 1 - DAE + VAE/processed_dataset/train/botella_de_vidrio/botella_de_vidrio_9.npy\n",
            " create mode 100644 Proyecto 1 - DAE + VAE/processed_dataset/train/botella_de_vidrio/botella_de_vidrio_91.npy\n",
            " create mode 100644 Proyecto 1 - DAE + VAE/processed_dataset/train/botella_de_vidrio/botella_de_vidrio_92.npy\n",
            " create mode 100644 Proyecto 1 - DAE + VAE/processed_dataset/train/botella_de_vidrio/botella_de_vidrio_95.npy\n",
            " create mode 100644 Proyecto 1 - DAE + VAE/processed_dataset/train/reloj_de_pared_circular_clasico/reloj_de_pared_circular_clasico_0.npy\n",
            " create mode 100644 Proyecto 1 - DAE + VAE/processed_dataset/train/reloj_de_pared_circular_clasico/reloj_de_pared_circular_clasico_1.npy\n",
            " create mode 100644 Proyecto 1 - DAE + VAE/processed_dataset/train/reloj_de_pared_circular_clasico/reloj_de_pared_circular_clasico_100.npy\n",
            " create mode 100644 Proyecto 1 - DAE + VAE/processed_dataset/train/reloj_de_pared_circular_clasico/reloj_de_pared_circular_clasico_102.npy\n",
            " create mode 100644 Proyecto 1 - DAE + VAE/processed_dataset/train/reloj_de_pared_circular_clasico/reloj_de_pared_circular_clasico_103.npy\n",
            " create mode 100644 Proyecto 1 - DAE + VAE/processed_dataset/train/reloj_de_pared_circular_clasico/reloj_de_pared_circular_clasico_112.npy\n",
            " create mode 100644 Proyecto 1 - DAE + VAE/processed_dataset/train/reloj_de_pared_circular_clasico/reloj_de_pared_circular_clasico_115.npy\n",
            " create mode 100644 Proyecto 1 - DAE + VAE/processed_dataset/train/reloj_de_pared_circular_clasico/reloj_de_pared_circular_clasico_120.npy\n",
            " create mode 100644 Proyecto 1 - DAE + VAE/processed_dataset/train/reloj_de_pared_circular_clasico/reloj_de_pared_circular_clasico_128.npy\n",
            " create mode 100644 Proyecto 1 - DAE + VAE/processed_dataset/train/reloj_de_pared_circular_clasico/reloj_de_pared_circular_clasico_130.npy\n",
            " create mode 100644 Proyecto 1 - DAE + VAE/processed_dataset/train/reloj_de_pared_circular_clasico/reloj_de_pared_circular_clasico_132.npy\n",
            " create mode 100644 Proyecto 1 - DAE + VAE/processed_dataset/train/reloj_de_pared_circular_clasico/reloj_de_pared_circular_clasico_16.npy\n",
            " create mode 100644 Proyecto 1 - DAE + VAE/processed_dataset/train/reloj_de_pared_circular_clasico/reloj_de_pared_circular_clasico_17.npy\n",
            " create mode 100644 Proyecto 1 - DAE + VAE/processed_dataset/train/reloj_de_pared_circular_clasico/reloj_de_pared_circular_clasico_18.npy\n",
            " create mode 100644 Proyecto 1 - DAE + VAE/processed_dataset/train/reloj_de_pared_circular_clasico/reloj_de_pared_circular_clasico_21.npy\n",
            " create mode 100644 Proyecto 1 - DAE + VAE/processed_dataset/train/reloj_de_pared_circular_clasico/reloj_de_pared_circular_clasico_25.npy\n",
            " create mode 100644 Proyecto 1 - DAE + VAE/processed_dataset/train/reloj_de_pared_circular_clasico/reloj_de_pared_circular_clasico_29.npy\n",
            " create mode 100644 Proyecto 1 - DAE + VAE/processed_dataset/train/reloj_de_pared_circular_clasico/reloj_de_pared_circular_clasico_3.npy\n",
            " create mode 100644 Proyecto 1 - DAE + VAE/processed_dataset/train/reloj_de_pared_circular_clasico/reloj_de_pared_circular_clasico_30.npy\n",
            " create mode 100644 Proyecto 1 - DAE + VAE/processed_dataset/train/reloj_de_pared_circular_clasico/reloj_de_pared_circular_clasico_32.npy\n",
            " create mode 100644 Proyecto 1 - DAE + VAE/processed_dataset/train/reloj_de_pared_circular_clasico/reloj_de_pared_circular_clasico_35.npy\n",
            " create mode 100644 Proyecto 1 - DAE + VAE/processed_dataset/train/reloj_de_pared_circular_clasico/reloj_de_pared_circular_clasico_4.npy\n",
            " create mode 100644 Proyecto 1 - DAE + VAE/processed_dataset/train/reloj_de_pared_circular_clasico/reloj_de_pared_circular_clasico_40.npy\n",
            " create mode 100644 Proyecto 1 - DAE + VAE/processed_dataset/train/reloj_de_pared_circular_clasico/reloj_de_pared_circular_clasico_45.npy\n",
            " create mode 100644 Proyecto 1 - DAE + VAE/processed_dataset/train/reloj_de_pared_circular_clasico/reloj_de_pared_circular_clasico_47.npy\n",
            " create mode 100644 Proyecto 1 - DAE + VAE/processed_dataset/train/reloj_de_pared_circular_clasico/reloj_de_pared_circular_clasico_52.npy\n",
            " create mode 100644 Proyecto 1 - DAE + VAE/processed_dataset/train/reloj_de_pared_circular_clasico/reloj_de_pared_circular_clasico_53.npy\n",
            " create mode 100644 Proyecto 1 - DAE + VAE/processed_dataset/train/reloj_de_pared_circular_clasico/reloj_de_pared_circular_clasico_54.npy\n",
            " create mode 100644 Proyecto 1 - DAE + VAE/processed_dataset/train/reloj_de_pared_circular_clasico/reloj_de_pared_circular_clasico_57.npy\n",
            " create mode 100644 Proyecto 1 - DAE + VAE/processed_dataset/train/reloj_de_pared_circular_clasico/reloj_de_pared_circular_clasico_61.npy\n",
            " create mode 100644 Proyecto 1 - DAE + VAE/processed_dataset/train/reloj_de_pared_circular_clasico/reloj_de_pared_circular_clasico_62.npy\n",
            " create mode 100644 Proyecto 1 - DAE + VAE/processed_dataset/train/reloj_de_pared_circular_clasico/reloj_de_pared_circular_clasico_65.npy\n",
            " create mode 100644 Proyecto 1 - DAE + VAE/processed_dataset/train/reloj_de_pared_circular_clasico/reloj_de_pared_circular_clasico_71.npy\n",
            " create mode 100644 Proyecto 1 - DAE + VAE/processed_dataset/train/reloj_de_pared_circular_clasico/reloj_de_pared_circular_clasico_77.npy\n",
            " create mode 100644 Proyecto 1 - DAE + VAE/processed_dataset/train/reloj_de_pared_circular_clasico/reloj_de_pared_circular_clasico_78.npy\n",
            " create mode 100644 Proyecto 1 - DAE + VAE/processed_dataset/train/reloj_de_pared_circular_clasico/reloj_de_pared_circular_clasico_8.npy\n",
            " create mode 100644 Proyecto 1 - DAE + VAE/processed_dataset/train/reloj_de_pared_circular_clasico/reloj_de_pared_circular_clasico_80.npy\n",
            " create mode 100644 Proyecto 1 - DAE + VAE/processed_dataset/train/reloj_de_pared_circular_clasico/reloj_de_pared_circular_clasico_81.npy\n",
            " create mode 100644 Proyecto 1 - DAE + VAE/processed_dataset/train/reloj_de_pared_circular_clasico/reloj_de_pared_circular_clasico_83.npy\n",
            " create mode 100644 Proyecto 1 - DAE + VAE/processed_dataset/train/reloj_de_pared_circular_clasico/reloj_de_pared_circular_clasico_84.npy\n",
            " create mode 100644 Proyecto 1 - DAE + VAE/processed_dataset/train/reloj_de_pared_circular_clasico/reloj_de_pared_circular_clasico_88.npy\n",
            " create mode 100644 Proyecto 1 - DAE + VAE/processed_dataset/train/reloj_de_pared_circular_clasico/reloj_de_pared_circular_clasico_89.npy\n",
            " create mode 100644 Proyecto 1 - DAE + VAE/processed_dataset/train/reloj_de_pared_circular_clasico/reloj_de_pared_circular_clasico_94.npy\n",
            " create mode 100644 Proyecto 1 - DAE + VAE/processed_dataset/train/reloj_de_pared_circular_clasico/reloj_de_pared_circular_clasico_95.npy\n",
            " create mode 100644 Proyecto 1 - DAE + VAE/processed_dataset/train/reloj_de_pared_circular_clasico/reloj_de_pared_circular_clasico_97.npy\n",
            " create mode 100644 Proyecto 1 - DAE + VAE/processed_dataset/val/botella_de_vidrio/botella_de_vidrio_104.npy\n",
            " create mode 100644 Proyecto 1 - DAE + VAE/processed_dataset/val/botella_de_vidrio/botella_de_vidrio_126.npy\n",
            " create mode 100644 Proyecto 1 - DAE + VAE/processed_dataset/val/botella_de_vidrio/botella_de_vidrio_20.npy\n",
            " create mode 100644 Proyecto 1 - DAE + VAE/processed_dataset/val/botella_de_vidrio/botella_de_vidrio_51.npy\n",
            " create mode 100644 Proyecto 1 - DAE + VAE/processed_dataset/val/botella_de_vidrio/botella_de_vidrio_55.npy\n",
            " create mode 100644 Proyecto 1 - DAE + VAE/processed_dataset/val/botella_de_vidrio/botella_de_vidrio_59.npy\n",
            " create mode 100644 Proyecto 1 - DAE + VAE/processed_dataset/val/botella_de_vidrio/botella_de_vidrio_61.npy\n",
            " create mode 100644 Proyecto 1 - DAE + VAE/processed_dataset/val/botella_de_vidrio/botella_de_vidrio_77.npy\n",
            " create mode 100644 Proyecto 1 - DAE + VAE/processed_dataset/val/botella_de_vidrio/botella_de_vidrio_78.npy\n",
            " create mode 100644 Proyecto 1 - DAE + VAE/processed_dataset/val/botella_de_vidrio/botella_de_vidrio_96.npy\n",
            " create mode 100644 Proyecto 1 - DAE + VAE/processed_dataset/val/reloj_de_pared_circular_clasico/reloj_de_pared_circular_clasico_10.npy\n",
            " create mode 100644 Proyecto 1 - DAE + VAE/processed_dataset/val/reloj_de_pared_circular_clasico/reloj_de_pared_circular_clasico_123.npy\n",
            " create mode 100644 Proyecto 1 - DAE + VAE/processed_dataset/val/reloj_de_pared_circular_clasico/reloj_de_pared_circular_clasico_27.npy\n",
            " create mode 100644 Proyecto 1 - DAE + VAE/processed_dataset/val/reloj_de_pared_circular_clasico/reloj_de_pared_circular_clasico_36.npy\n",
            " create mode 100644 Proyecto 1 - DAE + VAE/processed_dataset/val/reloj_de_pared_circular_clasico/reloj_de_pared_circular_clasico_48.npy\n",
            " create mode 100644 Proyecto 1 - DAE + VAE/processed_dataset/val/reloj_de_pared_circular_clasico/reloj_de_pared_circular_clasico_49.npy\n",
            " create mode 100644 Proyecto 1 - DAE + VAE/processed_dataset/val/reloj_de_pared_circular_clasico/reloj_de_pared_circular_clasico_55.npy\n",
            " create mode 100644 Proyecto 1 - DAE + VAE/processed_dataset/val/reloj_de_pared_circular_clasico/reloj_de_pared_circular_clasico_6.npy\n",
            " create mode 100644 Proyecto 1 - DAE + VAE/processed_dataset/val/reloj_de_pared_circular_clasico/reloj_de_pared_circular_clasico_66.npy\n",
            " create mode 100644 Proyecto 1 - DAE + VAE/processed_dataset/val/reloj_de_pared_circular_clasico/reloj_de_pared_circular_clasico_73.npy\n"
          ]
        }
      ],
      "execution_count": 10
    }
  ],
  "metadata": {
    "kernelspec": {
      "display_name": "Python 3 (ipykernel)",
      "name": "python3",
      "language": "python"
    },
    "language_info": {
      "codemirror_mode": {
        "name": "ipython",
        "version": 2
      },
      "file_extension": ".py",
      "mimetype": "text/x-python",
      "name": "python",
      "nbconvert_exporter": "python",
      "pygments_lexer": "ipython2",
      "version": "2.7.6"
    },
    "colab": {
      "provenance": [],
      "gpuType": "T4"
    },
    "accelerator": "GPU"
  },
  "nbformat": 4,
  "nbformat_minor": 5
}