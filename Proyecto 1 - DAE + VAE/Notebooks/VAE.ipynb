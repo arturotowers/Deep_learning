{
  "cells": [
    {
      "cell_type": "code",
      "source": [
        "import os, glob, random\n",
        "import numpy as np\n",
        "import tensorflow as tf\n",
        "from tensorflow.keras.preprocessing.image import load_img, img_to_array\n",
        "import matplotlib.pyplot as plt\n",
        "import wandb\n",
        "from wandb.integration.keras import WandbCallback\n",
        "import gc"
      ],
      "metadata": {
        "id": "dPhwoXulIGPD"
      },
      "id": "dPhwoXulIGPD",
      "execution_count": 1,
      "outputs": []
    },
    {
      "cell_type": "code",
      "source": [
        "!git clone https://github.com/arturotowers/Deep_learning.git"
      ],
      "metadata": {
        "colab": {
          "base_uri": "https://localhost:8080/"
        },
        "id": "tHZQ-C2kISQN",
        "outputId": "73935a74-c278-4c1d-ae9c-6408696a97c5"
      },
      "id": "tHZQ-C2kISQN",
      "execution_count": 2,
      "outputs": [
        {
          "output_type": "stream",
          "name": "stdout",
          "text": [
            "Cloning into 'Deep_learning'...\n",
            "remote: Enumerating objects: 1627, done.\u001b[K\n",
            "remote: Counting objects: 100% (311/311), done.\u001b[K\n",
            "remote: Compressing objects: 100% (253/253), done.\u001b[K\n",
            "remote: Total 1627 (delta 68), reused 283 (delta 57), pack-reused 1316 (from 1)\u001b[K\n",
            "Receiving objects: 100% (1627/1627), 267.83 MiB | 17.08 MiB/s, done.\n",
            "Resolving deltas: 100% (121/121), done.\n"
          ]
        }
      ]
    },
    {
      "cell_type": "code",
      "source": [
        "%cd Deep_learning"
      ],
      "metadata": {
        "colab": {
          "base_uri": "https://localhost:8080/"
        },
        "id": "M18LdIMoI4ZZ",
        "outputId": "b3ef27c0-59bd-430e-c870-9d916efa2768"
      },
      "id": "M18LdIMoI4ZZ",
      "execution_count": 3,
      "outputs": [
        {
          "output_type": "stream",
          "name": "stdout",
          "text": [
            "/content/Deep_learning\n"
          ]
        }
      ]
    },
    {
      "cell_type": "code",
      "source": [
        "!git checkout ArturoTorres"
      ],
      "metadata": {
        "colab": {
          "base_uri": "https://localhost:8080/"
        },
        "id": "UTh1NW8MI35v",
        "outputId": "a32a9e4f-10da-4244-e7b8-941fdd2a32ac"
      },
      "id": "UTh1NW8MI35v",
      "execution_count": 4,
      "outputs": [
        {
          "output_type": "stream",
          "name": "stdout",
          "text": [
            "Branch 'ArturoTorres' set up to track remote branch 'ArturoTorres' from 'origin'.\n",
            "Switched to a new branch 'ArturoTorres'\n"
          ]
        }
      ]
    },
    {
      "cell_type": "code",
      "source": [
        "# Rutas base\n",
        "base_path = \"/content/Deep_learning/Proyecto 1 - DAE + VAE/processed_dataset\"\n",
        "train_path = os.path.join(base_path, \"train\")\n",
        "val_path   = os.path.join(base_path, \"val\")\n",
        "test_path  = os.path.join(base_path, \"test\")\n",
        "\n",
        "# Obtener las rutas de las imágenes para cada categoría\n",
        "train_paths_botellas = glob.glob(train_path + \"/botella_de_vidrio/*.npy\")\n",
        "train_paths_relojes  = glob.glob(train_path + \"/reloj_de_pared_circular_clasico/*.npy\")\n",
        "\n",
        "val_paths_botellas   = glob.glob(val_path + \"/botella_de_vidrio/*.npy\")\n",
        "val_paths_relojes    = glob.glob(val_path + \"/reloj_de_pared_circular_clasico/*.npy\")\n",
        "\n",
        "test_paths_botellas  = glob.glob(test_path + \"/botella_de_vidrio/*.npy\")\n",
        "test_paths_relojes   = glob.glob(test_path + \"/reloj_de_pared_circular_clasico/*.npy\")\n",
        "\n",
        "# Cargar las imágenes para cada categoría\n",
        "X_train_botellas = np.array([np.load(p) for p in train_paths_botellas])\n",
        "X_train_relojes  = np.array([np.load(p) for p in train_paths_relojes])\n",
        "\n",
        "X_val_botellas   = np.array([np.load(p) for p in val_paths_botellas])\n",
        "X_val_relojes    = np.array([np.load(p) for p in val_paths_relojes])\n",
        "\n",
        "X_test_botellas  = np.array([np.load(p) for p in test_paths_botellas])\n",
        "X_test_relojes   = np.array([np.load(p) for p in test_paths_relojes])"
      ],
      "metadata": {
        "id": "62lcd_rvMm13"
      },
      "id": "62lcd_rvMm13",
      "execution_count": 5,
      "outputs": []
    },
    {
      "cell_type": "code",
      "source": [
        "print(\"Botellas - Train:\", X_train_botellas.shape, \"Val:\", X_val_botellas.shape, \"Test:\", X_test_botellas.shape)\n",
        "print(\"Relojes - Train:\", X_train_relojes.shape, \"Val:\", X_val_relojes.shape, \"Test:\", X_test_relojes.shape)"
      ],
      "metadata": {
        "colab": {
          "base_uri": "https://localhost:8080/"
        },
        "id": "EsfvGQrCMU_s",
        "outputId": "fcdd3d16-82a1-4138-c718-f71adbf9f841"
      },
      "id": "EsfvGQrCMU_s",
      "execution_count": 6,
      "outputs": [
        {
          "output_type": "stream",
          "name": "stdout",
          "text": [
            "Botellas - Train: (45, 256, 256, 3) Val: (10, 256, 256, 3) Test: (10, 256, 256, 3)\n",
            "Relojes - Train: (45, 256, 256, 3) Val: (10, 256, 256, 3) Test: (10, 256, 256, 3)\n"
          ]
        }
      ]
    },
    {
      "cell_type": "code",
      "source": [
        "# Semilla para reproducibilidad\n",
        "seed = 42\n",
        "tf.random.set_seed(seed)\n",
        "np.random.seed(seed)\n",
        "random.seed(seed)\n",
        "\n",
        "# Definir tamaño de imagen (asumiendo imágenes cuadradas, ej. 512x512)\n",
        "IMG_SIZE = 256 # Reduced image size"
      ],
      "metadata": {
        "id": "Ns3gUoPUOPcJ"
      },
      "id": "Ns3gUoPUOPcJ",
      "execution_count": 7,
      "outputs": []
    },
    {
      "cell_type": "code",
      "source": [
        "from tensorflow.keras import layers, Model, Input\n",
        "import tensorflow.keras.backend as K\n",
        "\n",
        "class VAE(Model):\n",
        "    def __init__(self, encoder, decoder, img_size=IMG_SIZE, **kwargs):\n",
        "        super().__init__(**kwargs)\n",
        "        self.encoder = encoder\n",
        "        self.decoder = decoder\n",
        "        self.img_size = img_size\n",
        "        self.loss_tracker = tf.keras.metrics.Mean(name=\"loss\")\n",
        "        self.reconstruction_loss_tracker = tf.keras.metrics.Mean(name=\"reconstruction_loss\")\n",
        "        self.kl_loss_tracker = tf.keras.metrics.Mean(name=\"kl_loss\")\n",
        "\n",
        "    @property\n",
        "    def metrics(self):\n",
        "        return [self.loss_tracker, self.reconstruction_loss_tracker, self.kl_loss_tracker]\n",
        "\n",
        "    def vae_loss(self, y_true, y_pred, z_mean, z_log_var):\n",
        "        reconstruction_loss = tf.keras.losses.mse(K.flatten(y_true), K.flatten(y_pred))\n",
        "        reconstruction_loss *= self.img_size * self.img_size * 3\n",
        "        kl_loss = 1 + z_log_var - tf.square(z_mean) - tf.exp(z_log_var)\n",
        "        kl_loss = -0.5 * tf.reduce_mean(kl_loss)\n",
        "        return reconstruction_loss + kl_loss\n",
        "\n",
        "    def train_step(self, data):\n",
        "        if isinstance(data, tuple):\n",
        "            data = data[0]\n",
        "\n",
        "        with tf.GradientTape() as tape:\n",
        "            z_mean, z_log_var, z = self.encoder(data)\n",
        "            reconstruction = self.decoder(z)\n",
        "            loss = self.vae_loss(data, reconstruction, z_mean, z_log_var)\n",
        "\n",
        "        gradients = tape.gradient(loss, self.trainable_variables)\n",
        "        self.optimizer.apply_gradients(zip(gradients, self.trainable_variables))\n",
        "        self.loss_tracker.update_state(loss)\n",
        "        self.reconstruction_loss_tracker.update_state(loss - self.kl_loss_tracker.result())\n",
        "        self.kl_loss_tracker.update_state(self.kl_loss_tracker.result())\n",
        "        return {\n",
        "            \"loss\": self.loss_tracker.result(),\n",
        "            \"reconstruction_loss\": self.reconstruction_loss_tracker.result(),\n",
        "            \"kl_loss\": self.kl_loss_tracker.result(),\n",
        "        }\n",
        "\n",
        "    def call(self, inputs): # Añadido el método call para el forward pass\n",
        "        z = self.encoder(inputs)[2] # Toma el tercer output del encoder (z)\n",
        "        reconstructed = self.decoder(z) # Pasa z por el decoder\n",
        "        return reconstructed\n",
        "\n",
        "\n",
        "def build_vae(latent_dim, img_size=IMG_SIZE):\n",
        "    # --- Encoder ---\n",
        "    encoder_inputs = Input(shape=(img_size, img_size, 3))\n",
        "    x = layers.Conv2D(32, 3, strides=2, padding='same', activation='relu')(encoder_inputs)\n",
        "    x = layers.BatchNormalization()(x)\n",
        "    x = layers.Conv2D(64, 3, strides=2, padding='same', activation='relu')(x)\n",
        "    x = layers.BatchNormalization()(x)\n",
        "    x = layers.Conv2D(128, 3, strides=2, padding='same', activation='relu')(x)\n",
        "    x = layers.BatchNormalization()(x)\n",
        "    x = layers.Conv2D(256, 3, strides=2, padding='same', activation='relu')(x)\n",
        "    x = layers.BatchNormalization()(x)\n",
        "    x = layers.Flatten()(x)\n",
        "    x = layers.Dense(1024, activation='relu')(x)\n",
        "    # Obtener medias y log-varianzas\n",
        "    z_mean = layers.Dense(latent_dim, name=\"z_mean\")(x)\n",
        "    z_log_var = layers.Dense(latent_dim, name=\"z_log_var\")(x)\n",
        "\n",
        "    # Truco de reparametrización\n",
        "    def sampling(args):\n",
        "        z_mean, z_log_var = args\n",
        "        epsilon = tf.random.normal(shape=tf.shape(z_mean), seed=seed)\n",
        "        return z_mean + tf.exp(0.5 * z_log_var) * epsilon\n",
        "\n",
        "    z = layers.Lambda(sampling, output_shape=(latent_dim,), name='z')([z_mean, z_log_var])\n",
        "\n",
        "    encoder = Model(encoder_inputs, [z_mean, z_log_var, z], name=\"encoder\")\n",
        "\n",
        "    # --- Decoder ---\n",
        "    latent_inputs = Input(shape=(latent_dim,))\n",
        "    x = layers.Dense((img_size // 16) * (img_size // 16) * 256, activation='relu')(latent_inputs) # No change needed as //16 adapts\n",
        "    x = layers.Reshape((img_size // 16, img_size // 16, 256))(x)\n",
        "    x = layers.Conv2DTranspose(256, 3, strides=2, padding='same', activation='relu')(x)\n",
        "    x = layers.BatchNormalization()(x)\n",
        "    x = layers.Conv2DTranspose(128, 3, strides=2, padding='same', activation='relu')(x)\n",
        "    x = layers.BatchNormalization()(x)\n",
        "    x = layers.Conv2DTranspose(64, 3, strides=2, padding='same', activation='relu')(x)\n",
        "    x = layers.BatchNormalization()(x)\n",
        "    x = layers.Conv2DTranspose(32, 3, strides=2, padding='same', activation='relu')(x)\n",
        "    x = layers.BatchNormalization()(x)\n",
        "    decoder_outputs = layers.Conv2D(3, 3, activation='sigmoid', padding='same')(x)\n",
        "\n",
        "    decoder = Model(latent_inputs, decoder_outputs, name=\"decoder\")\n",
        "\n",
        "    vae = VAE(encoder, decoder, img_size=img_size)\n",
        "    return vae, encoder, decoder"
      ],
      "metadata": {
        "id": "HnaMtQpZMXLD"
      },
      "id": "HnaMtQpZMXLD",
      "execution_count": 8,
      "outputs": []
    },
    {
      "cell_type": "code",
      "source": [
        "# Celda 3: Instanciar y compilar los VAEs para cada clase\n",
        "\n",
        "LATENT_DIM = 256\n",
        "\n",
        "# VAE para Motorcycle\n",
        "vae_bottle, encoder_bottle, decoder_bottle = build_vae(LATENT_DIM, img_size=IMG_SIZE)\n",
        "optimizer_bottle = tf.keras.optimizers.Adam(learning_rate=.001)\n",
        "vae_bottle.compile(optimizer=optimizer_bottle, loss=tf.keras.losses.mse) # Added loss function here\n",
        "\n",
        "\n",
        "# VAE para Clock\n",
        "vae_clock, encoder_clock, decoder_clock = build_vae(LATENT_DIM, img_size=IMG_SIZE)\n",
        "optimizer_clock = tf.keras.optimizers.Adam(learning_rate=1e-4)\n",
        "vae_clock.compile(optimizer=optimizer_clock, loss=tf.keras.losses.mse) # Added loss function here\n",
        "\n",
        "# Mostrar resúmenes de ambos modelos\n",
        "vae_bottle.summary()\n",
        "vae_clock.summary()"
      ],
      "metadata": {
        "colab": {
          "base_uri": "https://localhost:8080/",
          "height": 425
        },
        "id": "K2zTp3QeOQms",
        "outputId": "32f55deb-f78f-4d68-d5c4-a3bd7f587821"
      },
      "id": "K2zTp3QeOQms",
      "execution_count": 9,
      "outputs": [
        {
          "output_type": "display_data",
          "data": {
            "text/plain": [
              "\u001b[1mModel: \"vae\"\u001b[0m\n"
            ],
            "text/html": [
              "<pre style=\"white-space:pre;overflow-x:auto;line-height:normal;font-family:Menlo,'DejaVu Sans Mono',consolas,'Courier New',monospace\"><span style=\"font-weight: bold\">Model: \"vae\"</span>\n",
              "</pre>\n"
            ]
          },
          "metadata": {}
        },
        {
          "output_type": "display_data",
          "data": {
            "text/plain": [
              "┏━━━━━━━━━━━━━━━━━━━━━━━━━━━━━━━━━━━━━━┳━━━━━━━━━━━━━━━━━━━━━━━━━━━━━┳━━━━━━━━━━━━━━━━━┓\n",
              "┃\u001b[1m \u001b[0m\u001b[1mLayer (type)                        \u001b[0m\u001b[1m \u001b[0m┃\u001b[1m \u001b[0m\u001b[1mOutput Shape               \u001b[0m\u001b[1m \u001b[0m┃\u001b[1m \u001b[0m\u001b[1m        Param #\u001b[0m\u001b[1m \u001b[0m┃\n",
              "┡━━━━━━━━━━━━━━━━━━━━━━━━━━━━━━━━━━━━━━╇━━━━━━━━━━━━━━━━━━━━━━━━━━━━━╇━━━━━━━━━━━━━━━━━┩\n",
              "│ encoder (\u001b[38;5;33mFunctional\u001b[0m)                 │ (\u001b[38;5;34m(None, 256)\u001b[0m, \u001b[38;5;34m(None, 256)\u001b[0m,  │      \u001b[38;5;34m68,025,024\u001b[0m │\n",
              "│                                      │ \u001b[38;5;34m(None, 256)\u001b[0m)                │                 │\n",
              "├──────────────────────────────────────┼─────────────────────────────┼─────────────────┤\n",
              "│ decoder (\u001b[38;5;33mFunctional\u001b[0m)                 │ (\u001b[38;5;45mNone\u001b[0m, \u001b[38;5;34m256\u001b[0m, \u001b[38;5;34m256\u001b[0m, \u001b[38;5;34m3\u001b[0m)         │      \u001b[38;5;34m17,822,915\u001b[0m │\n",
              "└──────────────────────────────────────┴─────────────────────────────┴─────────────────┘\n"
            ],
            "text/html": [
              "<pre style=\"white-space:pre;overflow-x:auto;line-height:normal;font-family:Menlo,'DejaVu Sans Mono',consolas,'Courier New',monospace\">┏━━━━━━━━━━━━━━━━━━━━━━━━━━━━━━━━━━━━━━┳━━━━━━━━━━━━━━━━━━━━━━━━━━━━━┳━━━━━━━━━━━━━━━━━┓\n",
              "┃<span style=\"font-weight: bold\"> Layer (type)                         </span>┃<span style=\"font-weight: bold\"> Output Shape                </span>┃<span style=\"font-weight: bold\">         Param # </span>┃\n",
              "┡━━━━━━━━━━━━━━━━━━━━━━━━━━━━━━━━━━━━━━╇━━━━━━━━━━━━━━━━━━━━━━━━━━━━━╇━━━━━━━━━━━━━━━━━┩\n",
              "│ encoder (<span style=\"color: #0087ff; text-decoration-color: #0087ff\">Functional</span>)                 │ (<span style=\"color: #00af00; text-decoration-color: #00af00\">(None, 256)</span>, <span style=\"color: #00af00; text-decoration-color: #00af00\">(None, 256)</span>,  │      <span style=\"color: #00af00; text-decoration-color: #00af00\">68,025,024</span> │\n",
              "│                                      │ <span style=\"color: #00af00; text-decoration-color: #00af00\">(None, 256)</span>)                │                 │\n",
              "├──────────────────────────────────────┼─────────────────────────────┼─────────────────┤\n",
              "│ decoder (<span style=\"color: #0087ff; text-decoration-color: #0087ff\">Functional</span>)                 │ (<span style=\"color: #00d7ff; text-decoration-color: #00d7ff\">None</span>, <span style=\"color: #00af00; text-decoration-color: #00af00\">256</span>, <span style=\"color: #00af00; text-decoration-color: #00af00\">256</span>, <span style=\"color: #00af00; text-decoration-color: #00af00\">3</span>)         │      <span style=\"color: #00af00; text-decoration-color: #00af00\">17,822,915</span> │\n",
              "└──────────────────────────────────────┴─────────────────────────────┴─────────────────┘\n",
              "</pre>\n"
            ]
          },
          "metadata": {}
        },
        {
          "output_type": "display_data",
          "data": {
            "text/plain": [
              "\u001b[1m Total params: \u001b[0m\u001b[38;5;34m85,847,939\u001b[0m (327.48 MB)\n"
            ],
            "text/html": [
              "<pre style=\"white-space:pre;overflow-x:auto;line-height:normal;font-family:Menlo,'DejaVu Sans Mono',consolas,'Courier New',monospace\"><span style=\"font-weight: bold\"> Total params: </span><span style=\"color: #00af00; text-decoration-color: #00af00\">85,847,939</span> (327.48 MB)\n",
              "</pre>\n"
            ]
          },
          "metadata": {}
        },
        {
          "output_type": "display_data",
          "data": {
            "text/plain": [
              "\u001b[1m Trainable params: \u001b[0m\u001b[38;5;34m85,846,019\u001b[0m (327.48 MB)\n"
            ],
            "text/html": [
              "<pre style=\"white-space:pre;overflow-x:auto;line-height:normal;font-family:Menlo,'DejaVu Sans Mono',consolas,'Courier New',monospace\"><span style=\"font-weight: bold\"> Trainable params: </span><span style=\"color: #00af00; text-decoration-color: #00af00\">85,846,019</span> (327.48 MB)\n",
              "</pre>\n"
            ]
          },
          "metadata": {}
        },
        {
          "output_type": "display_data",
          "data": {
            "text/plain": [
              "\u001b[1m Non-trainable params: \u001b[0m\u001b[38;5;34m1,920\u001b[0m (7.50 KB)\n"
            ],
            "text/html": [
              "<pre style=\"white-space:pre;overflow-x:auto;line-height:normal;font-family:Menlo,'DejaVu Sans Mono',consolas,'Courier New',monospace\"><span style=\"font-weight: bold\"> Non-trainable params: </span><span style=\"color: #00af00; text-decoration-color: #00af00\">1,920</span> (7.50 KB)\n",
              "</pre>\n"
            ]
          },
          "metadata": {}
        },
        {
          "output_type": "display_data",
          "data": {
            "text/plain": [
              "\u001b[1mModel: \"vae_1\"\u001b[0m\n"
            ],
            "text/html": [
              "<pre style=\"white-space:pre;overflow-x:auto;line-height:normal;font-family:Menlo,'DejaVu Sans Mono',consolas,'Courier New',monospace\"><span style=\"font-weight: bold\">Model: \"vae_1\"</span>\n",
              "</pre>\n"
            ]
          },
          "metadata": {}
        },
        {
          "output_type": "display_data",
          "data": {
            "text/plain": [
              "┏━━━━━━━━━━━━━━━━━━━━━━━━━━━━━━━━━━━━━━┳━━━━━━━━━━━━━━━━━━━━━━━━━━━━━┳━━━━━━━━━━━━━━━━━┓\n",
              "┃\u001b[1m \u001b[0m\u001b[1mLayer (type)                        \u001b[0m\u001b[1m \u001b[0m┃\u001b[1m \u001b[0m\u001b[1mOutput Shape               \u001b[0m\u001b[1m \u001b[0m┃\u001b[1m \u001b[0m\u001b[1m        Param #\u001b[0m\u001b[1m \u001b[0m┃\n",
              "┡━━━━━━━━━━━━━━━━━━━━━━━━━━━━━━━━━━━━━━╇━━━━━━━━━━━━━━━━━━━━━━━━━━━━━╇━━━━━━━━━━━━━━━━━┩\n",
              "│ encoder (\u001b[38;5;33mFunctional\u001b[0m)                 │ (\u001b[38;5;34m(None, 256)\u001b[0m, \u001b[38;5;34m(None, 256)\u001b[0m,  │      \u001b[38;5;34m68,025,024\u001b[0m │\n",
              "│                                      │ \u001b[38;5;34m(None, 256)\u001b[0m)                │                 │\n",
              "├──────────────────────────────────────┼─────────────────────────────┼─────────────────┤\n",
              "│ decoder (\u001b[38;5;33mFunctional\u001b[0m)                 │ (\u001b[38;5;45mNone\u001b[0m, \u001b[38;5;34m256\u001b[0m, \u001b[38;5;34m256\u001b[0m, \u001b[38;5;34m3\u001b[0m)         │      \u001b[38;5;34m17,822,915\u001b[0m │\n",
              "└──────────────────────────────────────┴─────────────────────────────┴─────────────────┘\n"
            ],
            "text/html": [
              "<pre style=\"white-space:pre;overflow-x:auto;line-height:normal;font-family:Menlo,'DejaVu Sans Mono',consolas,'Courier New',monospace\">┏━━━━━━━━━━━━━━━━━━━━━━━━━━━━━━━━━━━━━━┳━━━━━━━━━━━━━━━━━━━━━━━━━━━━━┳━━━━━━━━━━━━━━━━━┓\n",
              "┃<span style=\"font-weight: bold\"> Layer (type)                         </span>┃<span style=\"font-weight: bold\"> Output Shape                </span>┃<span style=\"font-weight: bold\">         Param # </span>┃\n",
              "┡━━━━━━━━━━━━━━━━━━━━━━━━━━━━━━━━━━━━━━╇━━━━━━━━━━━━━━━━━━━━━━━━━━━━━╇━━━━━━━━━━━━━━━━━┩\n",
              "│ encoder (<span style=\"color: #0087ff; text-decoration-color: #0087ff\">Functional</span>)                 │ (<span style=\"color: #00af00; text-decoration-color: #00af00\">(None, 256)</span>, <span style=\"color: #00af00; text-decoration-color: #00af00\">(None, 256)</span>,  │      <span style=\"color: #00af00; text-decoration-color: #00af00\">68,025,024</span> │\n",
              "│                                      │ <span style=\"color: #00af00; text-decoration-color: #00af00\">(None, 256)</span>)                │                 │\n",
              "├──────────────────────────────────────┼─────────────────────────────┼─────────────────┤\n",
              "│ decoder (<span style=\"color: #0087ff; text-decoration-color: #0087ff\">Functional</span>)                 │ (<span style=\"color: #00d7ff; text-decoration-color: #00d7ff\">None</span>, <span style=\"color: #00af00; text-decoration-color: #00af00\">256</span>, <span style=\"color: #00af00; text-decoration-color: #00af00\">256</span>, <span style=\"color: #00af00; text-decoration-color: #00af00\">3</span>)         │      <span style=\"color: #00af00; text-decoration-color: #00af00\">17,822,915</span> │\n",
              "└──────────────────────────────────────┴─────────────────────────────┴─────────────────┘\n",
              "</pre>\n"
            ]
          },
          "metadata": {}
        },
        {
          "output_type": "display_data",
          "data": {
            "text/plain": [
              "\u001b[1m Total params: \u001b[0m\u001b[38;5;34m85,847,939\u001b[0m (327.48 MB)\n"
            ],
            "text/html": [
              "<pre style=\"white-space:pre;overflow-x:auto;line-height:normal;font-family:Menlo,'DejaVu Sans Mono',consolas,'Courier New',monospace\"><span style=\"font-weight: bold\"> Total params: </span><span style=\"color: #00af00; text-decoration-color: #00af00\">85,847,939</span> (327.48 MB)\n",
              "</pre>\n"
            ]
          },
          "metadata": {}
        },
        {
          "output_type": "display_data",
          "data": {
            "text/plain": [
              "\u001b[1m Trainable params: \u001b[0m\u001b[38;5;34m85,846,019\u001b[0m (327.48 MB)\n"
            ],
            "text/html": [
              "<pre style=\"white-space:pre;overflow-x:auto;line-height:normal;font-family:Menlo,'DejaVu Sans Mono',consolas,'Courier New',monospace\"><span style=\"font-weight: bold\"> Trainable params: </span><span style=\"color: #00af00; text-decoration-color: #00af00\">85,846,019</span> (327.48 MB)\n",
              "</pre>\n"
            ]
          },
          "metadata": {}
        },
        {
          "output_type": "display_data",
          "data": {
            "text/plain": [
              "\u001b[1m Non-trainable params: \u001b[0m\u001b[38;5;34m1,920\u001b[0m (7.50 KB)\n"
            ],
            "text/html": [
              "<pre style=\"white-space:pre;overflow-x:auto;line-height:normal;font-family:Menlo,'DejaVu Sans Mono',consolas,'Courier New',monospace\"><span style=\"font-weight: bold\"> Non-trainable params: </span><span style=\"color: #00af00; text-decoration-color: #00af00\">1,920</span> (7.50 KB)\n",
              "</pre>\n"
            ]
          },
          "metadata": {}
        }
      ]
    },
    {
      "cell_type": "code",
      "source": [
        "wandb.login()"
      ],
      "metadata": {
        "colab": {
          "base_uri": "https://localhost:8080/",
          "height": 208
        },
        "id": "XA8tEmF6Pxpa",
        "outputId": "52ba3ae2-9dee-4e6a-a449-6005ef0c8fd2"
      },
      "id": "XA8tEmF6Pxpa",
      "execution_count": 10,
      "outputs": [
        {
          "output_type": "stream",
          "name": "stderr",
          "text": [
            "\u001b[34m\u001b[1mwandb\u001b[0m: Using wandb-core as the SDK backend.  Please refer to https://wandb.me/wandb-core for more information.\n"
          ]
        },
        {
          "output_type": "display_data",
          "data": {
            "text/plain": [
              "<IPython.core.display.Javascript object>"
            ],
            "application/javascript": [
              "\n",
              "        window._wandbApiKey = new Promise((resolve, reject) => {\n",
              "            function loadScript(url) {\n",
              "            return new Promise(function(resolve, reject) {\n",
              "                let newScript = document.createElement(\"script\");\n",
              "                newScript.onerror = reject;\n",
              "                newScript.onload = resolve;\n",
              "                document.body.appendChild(newScript);\n",
              "                newScript.src = url;\n",
              "            });\n",
              "            }\n",
              "            loadScript(\"https://cdn.jsdelivr.net/npm/postmate/build/postmate.min.js\").then(() => {\n",
              "            const iframe = document.createElement('iframe')\n",
              "            iframe.style.cssText = \"width:0;height:0;border:none\"\n",
              "            document.body.appendChild(iframe)\n",
              "            const handshake = new Postmate({\n",
              "                container: iframe,\n",
              "                url: 'https://wandb.ai/authorize'\n",
              "            });\n",
              "            const timeout = setTimeout(() => reject(\"Couldn't auto authenticate\"), 5000)\n",
              "            handshake.then(function(child) {\n",
              "                child.on('authorize', data => {\n",
              "                    clearTimeout(timeout)\n",
              "                    resolve(data)\n",
              "                });\n",
              "            });\n",
              "            })\n",
              "        });\n",
              "    "
            ]
          },
          "metadata": {}
        },
        {
          "output_type": "stream",
          "name": "stderr",
          "text": [
            "\u001b[34m\u001b[1mwandb\u001b[0m: Logging into wandb.ai. (Learn how to deploy a W&B server locally: https://wandb.me/wandb-server)\n",
            "\u001b[34m\u001b[1mwandb\u001b[0m: You can find your API key in your browser here: https://wandb.ai/authorize\n",
            "wandb: Paste an API key from your profile and hit enter:"
          ]
        },
        {
          "name": "stdout",
          "output_type": "stream",
          "text": [
            " ··········\n"
          ]
        },
        {
          "output_type": "stream",
          "name": "stderr",
          "text": [
            "\u001b[34m\u001b[1mwandb\u001b[0m: \u001b[33mWARNING\u001b[0m If you're specifying your api key in code, ensure this code is not shared publicly.\n",
            "\u001b[34m\u001b[1mwandb\u001b[0m: \u001b[33mWARNING\u001b[0m Consider setting the WANDB_API_KEY environment variable, or running `wandb login` from the command line.\n",
            "\u001b[34m\u001b[1mwandb\u001b[0m: No netrc file found, creating one.\n",
            "\u001b[34m\u001b[1mwandb\u001b[0m: Appending key for api.wandb.ai to your netrc file: /root/.netrc\n",
            "\u001b[34m\u001b[1mwandb\u001b[0m: Currently logged in as: \u001b[33marturo-torres\u001b[0m (\u001b[33marturo-torres-iteso\u001b[0m) to \u001b[32mhttps://api.wandb.ai\u001b[0m. Use \u001b[1m`wandb login --relogin`\u001b[0m to force relogin\n"
          ]
        },
        {
          "output_type": "execute_result",
          "data": {
            "text/plain": [
              "True"
            ]
          },
          "metadata": {},
          "execution_count": 10
        }
      ]
    },
    {
      "cell_type": "code",
      "source": [
        "run_moto = wandb.init(entity=\"arturo-torres-iteso\", project=\"VAE + DAE\", name=\"VAE_bottles_Arturo\", reinit=True)\n",
        "\n",
        "history_moto = vae_bottle.fit(\n",
        "    X_train_botellas,\n",
        "    X_train_botellas,\n",
        "    epochs=100,            # Ajusta las épocas según necesidad\n",
        "    batch_size=4,         # Reduced batch size\n",
        "    validation_data=(X_val_botellas, X_val_botellas),\n",
        "    callbacks=[WandbCallback(save_model=False)]\n",
        ")\n",
        "\n",
        "# Guardar pesos del modelo en WandB\n",
        "vae_bottle.save(\"vae_bottle_model_Arturo_1.h5\") # Changed saved model name\n",
        "wandb.save(\"vae_bottle_model_Arturo_1.h5\") # Changed saved model name\n",
        "wandb.finish()\n",
        "\n",
        "tf.keras.backend.clear_session()\n",
        "gc.collect()\n",
        "\n",
        "# --- VAE para Clock ---\n",
        "run_clock = wandb.init(project=\"VAE + DAE\", name=\"VAE_Clock_256_IMG_SIZE\", reinit=True) # Changed run name\n",
        "# run_clock = wandb.init(project=\"VAE + DAE\", name=\"VAE_Clock\", reinit=True)\n",
        "\n",
        "history_clock = vae_clock.fit(\n",
        "    X_train_relojes,\n",
        "    X_train_relojes,\n",
        "    epochs=50,            # Ajusta las épocas según necesidad\n",
        "    batch_size=4,         # Reduced batch size\n",
        "    validation_data=(X_val_relojes, X_val_relojes),\n",
        "    callbacks=[WandbCallback(save_model=False)]\n",
        ")\n",
        "\n",
        "# Guardar pesos del modelo en WandB\n",
        "vae_clock.save(\"vae_clock_model_Arturo_1.h5\") # Changed saved model name\n",
        "wandb.save(\"vae_clock_model_Arturo_1.h5\") # Changed saved model name\n",
        "wandb.finish()\n",
        "\n",
        "tf.keras.backend.clear_session()"
      ],
      "metadata": {
        "colab": {
          "base_uri": "https://localhost:8080/",
          "height": 193
        },
        "id": "Uch4rHC1OtO7",
        "outputId": "d3cb5232-1988-4186-fee6-9ee6fae66dce"
      },
      "id": "Uch4rHC1OtO7",
      "execution_count": null,
      "outputs": [
        {
          "output_type": "display_data",
          "data": {
            "text/plain": [
              "<IPython.core.display.HTML object>"
            ],
            "text/html": [
              "Tracking run with wandb version 0.19.8"
            ]
          },
          "metadata": {}
        },
        {
          "output_type": "display_data",
          "data": {
            "text/plain": [
              "<IPython.core.display.HTML object>"
            ],
            "text/html": [
              "Run data is saved locally in <code>/content/Deep_learning/wandb/run-20250320_203157-mun6apdi</code>"
            ]
          },
          "metadata": {}
        },
        {
          "output_type": "display_data",
          "data": {
            "text/plain": [
              "<IPython.core.display.HTML object>"
            ],
            "text/html": [
              "Syncing run <strong><a href='https://wandb.ai/arturo-torres-iteso/VAE%20%2B%20DAE/runs/mun6apdi' target=\"_blank\">VAE_bottles_Arturo</a></strong> to <a href='https://wandb.ai/arturo-torres-iteso/VAE%20%2B%20DAE' target=\"_blank\">Weights & Biases</a> (<a href='https://wandb.me/developer-guide' target=\"_blank\">docs</a>)<br>"
            ]
          },
          "metadata": {}
        },
        {
          "output_type": "display_data",
          "data": {
            "text/plain": [
              "<IPython.core.display.HTML object>"
            ],
            "text/html": [
              " View project at <a href='https://wandb.ai/arturo-torres-iteso/VAE%20%2B%20DAE' target=\"_blank\">https://wandb.ai/arturo-torres-iteso/VAE%20%2B%20DAE</a>"
            ]
          },
          "metadata": {}
        },
        {
          "output_type": "display_data",
          "data": {
            "text/plain": [
              "<IPython.core.display.HTML object>"
            ],
            "text/html": [
              " View run at <a href='https://wandb.ai/arturo-torres-iteso/VAE%20%2B%20DAE/runs/mun6apdi' target=\"_blank\">https://wandb.ai/arturo-torres-iteso/VAE%20%2B%20DAE/runs/mun6apdi</a>"
            ]
          },
          "metadata": {}
        },
        {
          "output_type": "stream",
          "name": "stderr",
          "text": [
            "\u001b[34m\u001b[1mwandb\u001b[0m: \u001b[33mWARNING\u001b[0m WandbCallback is deprecated and will be removed in a future release. Please use the WandbMetricsLogger, WandbModelCheckpoint, and WandbEvalCallback callbacks instead. See https://docs.wandb.ai/guides/integrations/keras for more information.\n"
          ]
        },
        {
          "output_type": "stream",
          "name": "stdout",
          "text": [
            "Epoch 1/100\n",
            "\u001b[1m12/12\u001b[0m \u001b[32m━━━━━━━━━━━━━━━━━━━━\u001b[0m\u001b[37m\u001b[0m \u001b[1m30s\u001b[0m 1s/step - kl_loss: 0.0000e+00 - loss: 248358096.0000 - reconstruction_loss: 248358096.0000 - val_kl_loss: 0.0000e+00 - val_loss: 0.0000e+00 - val_reconstruction_loss: 0.0000e+00\n",
            "Epoch 2/100\n"
          ]
        }
      ]
    },
    {
      "cell_type": "code",
      "source": [],
      "metadata": {
        "id": "Y1ascoKyQWZP"
      },
      "id": "Y1ascoKyQWZP",
      "execution_count": null,
      "outputs": []
    }
  ],
  "metadata": {
    "kernelspec": {
      "display_name": "Python 3",
      "name": "python3"
    },
    "language_info": {
      "codemirror_mode": {
        "name": "ipython",
        "version": 2
      },
      "file_extension": ".py",
      "mimetype": "text/x-python",
      "name": "python",
      "nbconvert_exporter": "python",
      "pygments_lexer": "ipython2",
      "version": "2.7.6"
    },
    "colab": {
      "provenance": [],
      "gpuType": "T4"
    },
    "accelerator": "GPU"
  },
  "nbformat": 4,
  "nbformat_minor": 5
}